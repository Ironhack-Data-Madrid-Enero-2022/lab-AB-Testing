{
 "cells": [
  {
   "cell_type": "markdown",
   "id": "5b8f8129",
   "metadata": {},
   "source": [
    "En este notebook desarrollaremos el test AB a través de distribuciones beta y apoyándonos en la Regla de Bayes.\n",
    "\n",
    "Esta metodología nos permite llevar nuestro testeo un nivel más allá y, además, la comprensión del proceso es más sencilla.\n",
    "\n",
    "No obstante, desde un punto de vista matemático, el proceso es más complejo y deberemos construir diferentes funciones que nos permitan alcanzar el objetivo. Estas funciones podemos encontrarlas en la carpeta libreria_bayes de este mismo repositorio, la cual contiene código desarrollado por [Yonatan Rodriguez Alvarez](https://github.com/YonatanRA)."
   ]
  },
  {
   "cell_type": "code",
   "execution_count": 1,
   "id": "c204f02b",
   "metadata": {},
   "outputs": [],
   "source": [
    "from libreria_bayes.bayes_func import *\n",
    "\n",
    "import pandas as pd"
   ]
  },
  {
   "cell_type": "markdown",
   "id": "32175e22",
   "metadata": {},
   "source": [
    "Definimos los datos que necesitamos.\n",
    "\n",
    "Para utiliar este método no necesitamos los datos de la muestra como tal. Será suficiente con definir los resultados obtenidos en cada grupo (grupo de control y grupo de tratamiento)."
   ]
  },
  {
   "cell_type": "code",
   "execution_count": 2,
   "id": "4afb86a7",
   "metadata": {
    "scrolled": true
   },
   "outputs": [],
   "source": [
    "data = pd.read_csv('data/cookie_cats.csv')"
   ]
  },
  {
   "cell_type": "code",
   "execution_count": 3,
   "id": "fbc43f96",
   "metadata": {},
   "outputs": [
    {
     "data": {
      "text/plain": [
       "gate_40    45489\n",
       "gate_30    44700\n",
       "Name: version, dtype: int64"
      ]
     },
     "execution_count": 3,
     "metadata": {},
     "output_type": "execute_result"
    }
   ],
   "source": [
    "# Obtenemos el número de observaciones para cada grupo.\n",
    "\n",
    "data.version.value_counts()"
   ]
  },
  {
   "cell_type": "markdown",
   "id": "3a023f53",
   "metadata": {},
   "source": [
    "Comenzaremos testeando la retención en un periodo de tiempo de un día (retention_1 en nuestro dataset)."
   ]
  },
  {
   "cell_type": "code",
   "execution_count": 4,
   "id": "f6ce69ec",
   "metadata": {},
   "outputs": [
    {
     "data": {
      "text/plain": [
       "version  retention_1\n",
       "gate_30  False          24666\n",
       "         True           20034\n",
       "gate_40  False          25370\n",
       "         True           20119\n",
       "Name: retention_1, dtype: int64"
      ]
     },
     "execution_count": 4,
     "metadata": {},
     "output_type": "execute_result"
    }
   ],
   "source": [
    "# Obtenemos la cantidad de retenciones por grupo.\n",
    "\n",
    "data.groupby('version')['retention_1'].value_counts()"
   ]
  },
  {
   "cell_type": "code",
   "execution_count": 5,
   "id": "eaa8dee9",
   "metadata": {},
   "outputs": [
    {
     "data": {
      "text/plain": [
       "('Rates: ', 0.4481879194630872, 0.44228274967574577)"
      ]
     },
     "execution_count": 5,
     "metadata": {},
     "output_type": "execute_result"
    }
   ],
   "source": [
    "control_users = 44700\n",
    "treatement_users = 45489\n",
    "\n",
    "control_retentions = 20034\n",
    "treatement_retentions = 20119\n",
    "\n",
    "control_ret_rate = control_retentions / control_users\n",
    "\n",
    "treatement_ret_rate = treatement_retentions / treatement_users\n",
    "\n",
    "'Rates: ', control_ret_rate, treatement_ret_rate\n",
    "\n",
    "# Observamos como el ratio para el grupo de tratamiento es menor al de control.\n",
    "# Esto ya nos da indicios de que los cambios no están funcionando.\n",
    "# Comprobamos si esta diferencia es estadísticamente significativa."
   ]
  },
  {
   "cell_type": "code",
   "execution_count": 6,
   "id": "05ade2a4",
   "metadata": {},
   "outputs": [],
   "source": [
    "# Creamos los betas a priori:\n",
    "\n",
    "a_C, b_C = control_retentions +1, control_users - control_retentions +1\n",
    "a_T, b_T = treatement_retentions +1, treatement_users - treatement_retentions +1\n",
    "\n",
    "\n",
    "beta_C = beta(a_C, b_C)   # control \n",
    "beta_T = beta(a_T, b_T)   # treatement (grupo de testeo)"
   ]
  },
  {
   "cell_type": "code",
   "execution_count": 7,
   "id": "729c76f6",
   "metadata": {},
   "outputs": [
    {
     "data": {
      "text/plain": [
       "-0.013175098158249857"
      ]
     },
     "execution_count": 7,
     "metadata": {},
     "output_type": "execute_result"
    }
   ],
   "source": [
    "# Calculamos la diferencia en entre la media de las betas (grupo de tratamiento vs. grupo de control)\n",
    "\n",
    "difference = (beta_T.mean()-beta_C.mean())/beta_C.mean()\n",
    "\n",
    "difference"
   ]
  },
  {
   "cell_type": "code",
   "execution_count": 8,
   "id": "9a08e20b",
   "metadata": {},
   "outputs": [
    {
     "data": {
      "text/plain": [
       "0.037206025180329845"
      ]
     },
     "execution_count": 8,
     "metadata": {},
     "output_type": "execute_result"
    }
   ],
   "source": [
    "# Calculamos la probabilidad (nivel de significación de la diferencia obtenida):\n",
    "\n",
    "prob = calc_prob(beta_T, beta_C)\n",
    "\n",
    "prob"
   ]
  },
  {
   "cell_type": "code",
   "execution_count": 9,
   "id": "849ced4d",
   "metadata": {},
   "outputs": [
    {
     "data": {
      "text/plain": [
       "'El test disminuye la tasa de retención en un -1.32%, con una probabilidad del 3.72%. Esta probabilidad es demasiado baja como para considerar que existe una diferencia significativa.'"
      ]
     },
     "execution_count": 9,
     "metadata": {},
     "output_type": "execute_result"
    }
   ],
   "source": [
    "# Resultado del test:\n",
    "\n",
    "'El test disminuye la tasa de retención en un {:2.2f}%, con una probabilidad del {:2.2f}%. Esta probabilidad es demasiado baja como para considerar que existe una diferencia significativa.'.format(difference*100, prob*100)"
   ]
  },
  {
   "cell_type": "code",
   "execution_count": 10,
   "id": "4d16752e",
   "metadata": {
    "scrolled": true
   },
   "outputs": [
    {
     "name": "stdout",
     "output_type": "stream",
     "text": [
      "0.4481879194630872 0.44228274967574577\n"
     ]
    },
    {
     "data": {
      "image/png": "[encoded data removed]",
      "text/plain": [
       "<Figure size 432x288 with 1 Axes>"
      ]
     },
     "metadata": {
      "needs_background": "light"
     },
     "output_type": "display_data"
    }
   ],
   "source": [
    "print (control_ret_rate, treatement_ret_rate)\n",
    "\n",
    "plot([beta_C, beta_T], ['Control', 'Test'])"
   ]
  },
  {
   "cell_type": "code",
   "execution_count": 11,
   "id": "0d76f494",
   "metadata": {},
   "outputs": [
    {
     "data": {
      "image/png": "[encoded data removed]",
      "text/plain": [
       "<Figure size 432x432 with 3 Axes>"
      ]
     },
     "metadata": {
      "needs_background": "light"
     },
     "output_type": "display_data"
    }
   ],
   "source": [
    "import seaborn as sns\n",
    "\n",
    "val_C=np.random.beta(a_C, b_C, 50000)\n",
    "val_T=np.random.beta(a_T, b_T, 50000)\n",
    "\n",
    "vals=np.vstack([val_C, val_T]).T\n",
    "limit=0.2\n",
    "\n",
    "df=pd.DataFrame(vals, columns=['Control','Test'])\n",
    "df=df[df.Control<limit]\n",
    "df=df[df.Test<limit]\n",
    "\n",
    "\n",
    "g=sns.jointplot(x=df.Control, y=df.Test, kind='kde', n_levels=15)\n",
    "g.ax_joint.plot([0.18, limit], [0.18, limit])\n",
    "plt.show();"
   ]
  },
  {
   "cell_type": "markdown",
   "id": "00bbeb46",
   "metadata": {},
   "source": [
    "Conclusiones del test para retention_1:\n",
    "\n",
    "*Según los resultados del test, no podemos afirmar que exista una diferencia significativa entre la retención del grupo de control y el grupo de tratamiento.*\n",
    "\n",
    "*Podemos afirmar que la implementación de los cambios propuestos no impactará de manera significativa en la tasa de retención y, por tanto, no se recomienda llevarlos a cabo.*"
   ]
  },
  {
   "cell_type": "markdown",
   "id": "56335ed2",
   "metadata": {},
   "source": [
    "Repetimos el proceso sobre los resultados de retención a siete días (retention_7 en nuestro dataset)."
   ]
  },
  {
   "cell_type": "code",
   "execution_count": 12,
   "id": "ad33029d",
   "metadata": {},
   "outputs": [
    {
     "data": {
      "text/plain": [
       "version  retention_7\n",
       "gate_30  False          36198\n",
       "         True            8502\n",
       "gate_40  False          37210\n",
       "         True            8279\n",
       "Name: retention_7, dtype: int64"
      ]
     },
     "execution_count": 12,
     "metadata": {},
     "output_type": "execute_result"
    }
   ],
   "source": [
    "# La cantidad de observaciones sigue siendo la misma que en el caso anterior (control = 44.700; tratamiento = 45.489)\n",
    "\n",
    "# Obtenemos la cantidad de retenciones por grupo.\n",
    "\n",
    "data.groupby('version')['retention_7'].value_counts()"
   ]
  },
  {
   "cell_type": "code",
   "execution_count": 13,
   "id": "99e32fed",
   "metadata": {},
   "outputs": [
    {
     "data": {
      "text/plain": [
       "('Rates: ', 0.19020134228187918, 0.18200004396667327)"
      ]
     },
     "execution_count": 13,
     "metadata": {},
     "output_type": "execute_result"
    }
   ],
   "source": [
    "control_users_7 = 44700\n",
    "treatement_users_7 = 45489\n",
    "\n",
    "control_retentions_7 = 8502\n",
    "treatement_retentions_7 = 8279\n",
    "\n",
    "control_ret_7_rate = control_retentions_7 / control_users_7\n",
    "\n",
    "treatement_ret_7_rate = treatement_retentions_7 / treatement_users_7\n",
    "\n",
    "'Rates: ', control_ret_7_rate, treatement_ret_7_rate\n",
    "\n",
    "# Observamos como el ratio de retención es más favorable en el grupo de control, por lo que los cambios propuestos pueden no estar obteniendo el resultado esperado.\n",
    "# Comprobamos si esta diferencia es estadísticamente significativa."
   ]
  },
  {
   "cell_type": "code",
   "execution_count": 14,
   "id": "f3f9808b",
   "metadata": {},
   "outputs": [],
   "source": [
    "# Creamos los betas a priori:\n",
    "\n",
    "a_C, b_C = control_retentions_7 +1, control_users_7 - control_retentions_7 +1\n",
    "a_T, b_T = treatement_retentions_7 +1, treatement_users_7 - treatement_retentions_7 +1\n",
    "\n",
    "\n",
    "beta_C = beta(a_C, b_C)   # control \n",
    "beta_T = beta(a_T, b_T)   # treatement (grupo de testeo)"
   ]
  },
  {
   "cell_type": "code",
   "execution_count": 15,
   "id": "c93dc94d",
   "metadata": {},
   "outputs": [
    {
     "data": {
      "text/plain": [
       "-0.04311526114658881"
      ]
     },
     "execution_count": 15,
     "metadata": {},
     "output_type": "execute_result"
    }
   ],
   "source": [
    "# Calculamos la diferencia entre la media de las betas (grupo de tratamiento vs. grupo de control)\n",
    "\n",
    "difference_7 = (beta_T.mean()-beta_C.mean())/beta_C.mean()\n",
    "\n",
    "difference_7"
   ]
  },
  {
   "cell_type": "code",
   "execution_count": 16,
   "id": "9a30ebe0",
   "metadata": {},
   "outputs": [
    {
     "data": {
      "text/plain": [
       "0.0007773386645759051"
      ]
     },
     "execution_count": 16,
     "metadata": {},
     "output_type": "execute_result"
    }
   ],
   "source": [
    "# Calculamos la probabilidad (nivel de significación de la diferencia obtenida):\n",
    "\n",
    "prob = calc_prob(beta_T, beta_C)\n",
    "\n",
    "prob"
   ]
  },
  {
   "cell_type": "code",
   "execution_count": 17,
   "id": "4d3c5160",
   "metadata": {},
   "outputs": [
    {
     "data": {
      "text/plain": [
       "'El test aumenta la tasa de retención en un -1.32%, con una probabilidad del 0.08%. Obtenemos una probabilidad muy baja (casi 0), por lo que realmente no existe una diferencia significativa.'"
      ]
     },
     "execution_count": 17,
     "metadata": {},
     "output_type": "execute_result"
    }
   ],
   "source": [
    "# Resultado del test:\n",
    "\n",
    "'El test aumenta la tasa de retención en un {:2.2f}%, con una probabilidad del {:2.2f}%. Obtenemos una probabilidad muy baja (casi 0), por lo que realmente no existe una diferencia significativa.'.format(difference*100, prob*100)"
   ]
  },
  {
   "cell_type": "code",
   "execution_count": 18,
   "id": "091c31c5",
   "metadata": {},
   "outputs": [
    {
     "name": "stdout",
     "output_type": "stream",
     "text": [
      "0.19020134228187918 0.18200004396667327\n"
     ]
    },
    {
     "data": {
      "image/png": "[encoded data removed]",
      "text/plain": [
       "<Figure size 432x288 with 1 Axes>"
      ]
     },
     "metadata": {
      "needs_background": "light"
     },
     "output_type": "display_data"
    }
   ],
   "source": [
    "print (control_ret_7_rate, treatement_ret_7_rate)\n",
    "\n",
    "plot([beta_C, beta_T], ['Control', 'Test'])"
   ]
  },
  {
   "cell_type": "code",
   "execution_count": 19,
   "id": "d3bb3dba",
   "metadata": {},
   "outputs": [
    {
     "data": {
      "image/png": "[encoded data removed]",
      "text/plain": [
       "<Figure size 432x432 with 3 Axes>"
      ]
     },
     "metadata": {
      "needs_background": "light"
     },
     "output_type": "display_data"
    }
   ],
   "source": [
    "val_C=np.random.beta(a_C, b_C, 50000)\n",
    "val_T=np.random.beta(a_T, b_T, 50000)\n",
    "\n",
    "vals=np.vstack([val_C, val_T]).T\n",
    "limit=0.2\n",
    "\n",
    "df=pd.DataFrame(vals, columns=['Control','Test'])\n",
    "df=df[df.Control<limit]\n",
    "df=df[df.Test<limit]\n",
    "\n",
    "\n",
    "g=sns.jointplot(x=df.Control, y=df.Test, kind='kde', n_levels=15)\n",
    "g.ax_joint.plot([0.18, limit], [0.18, limit])\n",
    "plt.show();"
   ]
  },
  {
   "cell_type": "markdown",
   "id": "0bb9e97b",
   "metadata": {},
   "source": [
    "Conclusiones del test para retention_7:\n",
    "\n",
    "*Llegamos a las mismas conclusiones que en retention_1.*\n",
    "\n",
    "*Según los resultados del test, no podemos afirmar que exista una diferencia significativa entre la retención del grupo de control y el grupo de tratamiento.*\n",
    "\n",
    "*Podemos afirmar que la implementación de los cambios propuestos no impactará de manera significativa en la tasa de retención y, por tanto, no se recomienda llevarlos a cabo.*"
   ]
  },
  {
   "cell_type": "markdown",
   "id": "72426de8",
   "metadata": {},
   "source": [
    "## Segmentación de usuarios por game rounds."
   ]
  },
  {
   "cell_type": "markdown",
   "id": "ad239801",
   "metadata": {},
   "source": [
    "Profundizamos en el análisis y repetimos los tests teniendo en cuenta la variable sum_gamerounds (indica el nº de partidas jugadas por el usuario durante los 14 primeros días después de instalarse el juego).\n",
    "\n",
    "\n",
    "Lo que realmente nos interesa es encontrar si los cambios propuestos mejoran la tasa de rentención en algún segmento de usuarios, por lo que nos centraremos en buscar si existe esa mejora en algún segmento (si encontramos un cambio desfavorable en el ratio de retención, nos testearemos su significación. Únicamente lo haremos si esta diferencia es favorable, es decir, si el ratio de retención aumenta)."
   ]
  },
  {
   "cell_type": "code",
   "execution_count": 20,
   "id": "e70c6330",
   "metadata": {
    "scrolled": true
   },
   "outputs": [
    {
     "data": {
      "text/plain": [
       "51.8724567297564"
      ]
     },
     "execution_count": 20,
     "metadata": {},
     "output_type": "execute_result"
    }
   ],
   "source": [
    "data.sum_gamerounds.mean()"
   ]
  },
  {
   "cell_type": "markdown",
   "id": "efd93de3",
   "metadata": {},
   "source": [
    "Comenzaremos testeando los usuarios que están por encima de la media (52 rondas)."
   ]
  },
  {
   "cell_type": "code",
   "execution_count": 21,
   "id": "2757fbbf",
   "metadata": {},
   "outputs": [],
   "source": [
    "sub_data = pd.DataFrame(data[data.sum_gamerounds > 52]) # Filtramos los datos."
   ]
  },
  {
   "cell_type": "code",
   "execution_count": 22,
   "id": "7e5e3e3a",
   "metadata": {
    "scrolled": true
   },
   "outputs": [
    {
     "data": {
      "text/plain": [
       "(22110, 5)"
      ]
     },
     "execution_count": 22,
     "metadata": {},
     "output_type": "execute_result"
    }
   ],
   "source": [
    "sub_data.shape # Checkeamos la cantidad de registros."
   ]
  },
  {
   "cell_type": "code",
   "execution_count": 23,
   "id": "46f21ba2",
   "metadata": {},
   "outputs": [
    {
     "data": {
      "text/plain": [
       "gate_40    11305\n",
       "gate_30    10805\n",
       "Name: version, dtype: int64"
      ]
     },
     "execution_count": 23,
     "metadata": {},
     "output_type": "execute_result"
    }
   ],
   "source": [
    "# Obtenemos el número de observaciones para cada grupo.\n",
    "\n",
    "sub_data.version.value_counts()"
   ]
  },
  {
   "cell_type": "code",
   "execution_count": 24,
   "id": "92d76290",
   "metadata": {},
   "outputs": [
    {
     "data": {
      "text/plain": [
       "version  retention_1\n",
       "gate_30  True           9342\n",
       "         False          1463\n",
       "gate_40  True           9664\n",
       "         False          1641\n",
       "Name: retention_1, dtype: int64"
      ]
     },
     "execution_count": 24,
     "metadata": {},
     "output_type": "execute_result"
    }
   ],
   "source": [
    "# Obtenemos la cantidad de retenciones por grupo a 1 día.\n",
    "\n",
    "sub_data.groupby('version')['retention_1'].value_counts()"
   ]
  },
  {
   "cell_type": "code",
   "execution_count": 25,
   "id": "e47c3c69",
   "metadata": {},
   "outputs": [
    {
     "data": {
      "text/plain": [
       "('Rates: ', 0.8645997223507635, 0.85484298982751)"
      ]
     },
     "execution_count": 25,
     "metadata": {},
     "output_type": "execute_result"
    }
   ],
   "source": [
    "# Calculamos los ratios de retención a 1 día.\n",
    "\n",
    "control_users = 10805\n",
    "treatement_users = 11305\n",
    "\n",
    "control_retentions = 9342\n",
    "treatement_retentions = 9664\n",
    "\n",
    "control_ret_rate = control_retentions / control_users\n",
    "\n",
    "treatement_ret_rate = treatement_retentions / treatement_users\n",
    "\n",
    "'Rates: ', control_ret_rate, treatement_ret_rate\n",
    "\n",
    "# Observamos como el ratio de retención es más favorable en el grupo de control, por lo que los cambios propuestos pueden no estar obteniendo el resultado esperado.\n",
    "# No es lo que buscamos, así que no continuamos con el test."
   ]
  },
  {
   "cell_type": "code",
   "execution_count": 26,
   "id": "11142021",
   "metadata": {
    "scrolled": true
   },
   "outputs": [
    {
     "data": {
      "text/plain": [
       "version  retention_7\n",
       "gate_30  True           6172\n",
       "         False          4633\n",
       "gate_40  True           6190\n",
       "         False          5115\n",
       "Name: retention_7, dtype: int64"
      ]
     },
     "execution_count": 26,
     "metadata": {},
     "output_type": "execute_result"
    }
   ],
   "source": [
    "# Obtenemos la cantidad de retenciones por grupo a 7 días.\n",
    "\n",
    "sub_data.groupby('version')['retention_7'].value_counts()"
   ]
  },
  {
   "cell_type": "code",
   "execution_count": 27,
   "id": "479cd8ae",
   "metadata": {},
   "outputs": [
    {
     "data": {
      "text/plain": [
       "('Rates: ', 0.5712170291531699, 0.5475453339230429)"
      ]
     },
     "execution_count": 27,
     "metadata": {},
     "output_type": "execute_result"
    }
   ],
   "source": [
    "# Calculamos los ratios de retención a 7 días.\n",
    "\n",
    "control_users = 10805\n",
    "treatement_users = 11305\n",
    "\n",
    "control_retentions = 6172\n",
    "treatement_retentions = 6190\n",
    "\n",
    "control_ret_rate = control_retentions / control_users\n",
    "\n",
    "treatement_ret_rate = treatement_retentions / treatement_users\n",
    "\n",
    "'Rates: ', control_ret_rate, treatement_ret_rate\n",
    "\n",
    "# Observamos como el ratio de retención es más favorable en el grupo de control, por lo que los cambios propuestos pueden no estar obteniendo el resultado esperado.\n",
    "# No es lo que buscamos, así que no continuamos con el test."
   ]
  },
  {
   "cell_type": "markdown",
   "id": "8190f1d9",
   "metadata": {},
   "source": [
    "Probamos con otro segmento de usuarios.\n",
    "\n",
    "En este caso filtramos los que están por debajo de la media de rondas jugadas."
   ]
  },
  {
   "cell_type": "code",
   "execution_count": 28,
   "id": "573b53cd",
   "metadata": {},
   "outputs": [],
   "source": [
    "sub_data = pd.DataFrame(data[data.sum_gamerounds < 52]) # Filtramos los datos."
   ]
  },
  {
   "cell_type": "code",
   "execution_count": 29,
   "id": "64fee93f",
   "metadata": {
    "scrolled": true
   },
   "outputs": [
    {
     "data": {
      "text/plain": [
       "(67736, 5)"
      ]
     },
     "execution_count": 29,
     "metadata": {},
     "output_type": "execute_result"
    }
   ],
   "source": [
    "sub_data.shape # Checkeamos la cantidad de registros."
   ]
  },
  {
   "cell_type": "code",
   "execution_count": 30,
   "id": "40755999",
   "metadata": {},
   "outputs": [
    {
     "data": {
      "text/plain": [
       "gate_40    34005\n",
       "gate_30    33731\n",
       "Name: version, dtype: int64"
      ]
     },
     "execution_count": 30,
     "metadata": {},
     "output_type": "execute_result"
    }
   ],
   "source": [
    "# Obtenemos el número de observaciones para cada grupo.\n",
    "\n",
    "sub_data.version.value_counts()"
   ]
  },
  {
   "cell_type": "code",
   "execution_count": 31,
   "id": "72e9797b",
   "metadata": {},
   "outputs": [
    {
     "data": {
      "text/plain": [
       "version  retention_1\n",
       "gate_30  False          23159\n",
       "         True           10572\n",
       "gate_40  False          23679\n",
       "         True           10326\n",
       "Name: retention_1, dtype: int64"
      ]
     },
     "execution_count": 31,
     "metadata": {},
     "output_type": "execute_result"
    }
   ],
   "source": [
    "# Obtenemos la cantidad de retenciones por grupo a 1 día.\n",
    "\n",
    "sub_data.groupby('version')['retention_1'].value_counts()"
   ]
  },
  {
   "cell_type": "code",
   "execution_count": 32,
   "id": "1e589a09",
   "metadata": {},
   "outputs": [
    {
     "data": {
      "text/plain": [
       "('Rates: ', 0.3134208887966559, 0.30366122629025144)"
      ]
     },
     "execution_count": 32,
     "metadata": {},
     "output_type": "execute_result"
    }
   ],
   "source": [
    "control_users = 33731\n",
    "treatement_users = 34005\n",
    "\n",
    "control_retentions = 10572\n",
    "treatement_retentions = 10326\n",
    "\n",
    "control_ret_rate = control_retentions / control_users\n",
    "\n",
    "treatement_ret_rate = treatement_retentions / treatement_users\n",
    "\n",
    "'Rates: ', control_ret_rate, treatement_ret_rate\n",
    "\n",
    "# Observamos como el ratio de retención es más favorable en el grupo de control, por lo que los cambios propuestos pueden no estar obteniendo el resultado esperado.\n",
    "# No es lo que buscamos, así que no continuamos con el test."
   ]
  },
  {
   "cell_type": "code",
   "execution_count": 33,
   "id": "b1babc02",
   "metadata": {
    "scrolled": true
   },
   "outputs": [
    {
     "data": {
      "text/plain": [
       "version  retention_7\n",
       "gate_30  False          31454\n",
       "         True            2277\n",
       "gate_40  False          31956\n",
       "         True            2049\n",
       "Name: retention_7, dtype: int64"
      ]
     },
     "execution_count": 33,
     "metadata": {},
     "output_type": "execute_result"
    }
   ],
   "source": [
    "# Obtenemos la cantidad de retenciones por grupo a 7 días.\n",
    "\n",
    "sub_data.groupby('version')['retention_7'].value_counts()"
   ]
  },
  {
   "cell_type": "code",
   "execution_count": 34,
   "id": "2c63cffe",
   "metadata": {},
   "outputs": [
    {
     "data": {
      "text/plain": [
       "('Rates: ', 0.06750466929530699, 0.06025584472871637)"
      ]
     },
     "execution_count": 34,
     "metadata": {},
     "output_type": "execute_result"
    }
   ],
   "source": [
    "# Calculamos los ratios de retención a 7 días.\n",
    "\n",
    "control_users = 33731\n",
    "treatement_users = 34005\n",
    "\n",
    "control_retentions = 2277\n",
    "treatement_retentions = 2049\n",
    "\n",
    "control_ret_rate = control_retentions / control_users\n",
    "\n",
    "treatement_ret_rate = treatement_retentions / treatement_users\n",
    "\n",
    "'Rates: ', control_ret_rate, treatement_ret_rate\n",
    "\n",
    "# Observamos como el ratio de retención es más favorable en el grupo de control, por lo que los cambios propuestos pueden no estar obteniendo el resultado esperado.\n",
    "# No es lo que buscamos, así que no continuamos con el test."
   ]
  },
  {
   "cell_type": "markdown",
   "id": "fa4f61e5",
   "metadata": {},
   "source": [
    "Seguimos sin encontrar un impacto positivo en la tasa de retención.\n",
    "\n",
    "Probamos con otro segmento en el que los usuarios hayan jugado más de 100 rondas."
   ]
  },
  {
   "cell_type": "code",
   "execution_count": 35,
   "id": "be3d4a75",
   "metadata": {},
   "outputs": [],
   "source": [
    "sub_data = pd.DataFrame(data[data.sum_gamerounds > 100]) # Filtramos los datos."
   ]
  },
  {
   "cell_type": "code",
   "execution_count": 36,
   "id": "16e77fce",
   "metadata": {},
   "outputs": [
    {
     "data": {
      "text/plain": [
       "(12385, 5)"
      ]
     },
     "execution_count": 36,
     "metadata": {},
     "output_type": "execute_result"
    }
   ],
   "source": [
    "sub_data.shape # Checkeamos la cantidad de registros."
   ]
  },
  {
   "cell_type": "code",
   "execution_count": 37,
   "id": "76d37bec",
   "metadata": {
    "scrolled": true
   },
   "outputs": [
    {
     "data": {
      "text/plain": [
       "gate_40    6290\n",
       "gate_30    6095\n",
       "Name: version, dtype: int64"
      ]
     },
     "execution_count": 37,
     "metadata": {},
     "output_type": "execute_result"
    }
   ],
   "source": [
    "# Obtenemos el número de observaciones para cada grupo.\n",
    "\n",
    "sub_data.version.value_counts()"
   ]
  },
  {
   "cell_type": "code",
   "execution_count": 38,
   "id": "5fc8d3ff",
   "metadata": {
    "scrolled": true
   },
   "outputs": [
    {
     "data": {
      "text/plain": [
       "version  retention_1\n",
       "gate_30  True           5498\n",
       "         False           597\n",
       "gate_40  True           5647\n",
       "         False           643\n",
       "Name: retention_1, dtype: int64"
      ]
     },
     "execution_count": 38,
     "metadata": {},
     "output_type": "execute_result"
    }
   ],
   "source": [
    "# Obtenemos la cantidad de retenciones por grupo a 1 día.\n",
    "\n",
    "sub_data.groupby('version')['retention_1'].value_counts()"
   ]
  },
  {
   "cell_type": "code",
   "execution_count": 39,
   "id": "46c14f51",
   "metadata": {},
   "outputs": [
    {
     "data": {
      "text/plain": [
       "('Rates: ', 0.9020508613617719, 0.8977742448330683)"
      ]
     },
     "execution_count": 39,
     "metadata": {},
     "output_type": "execute_result"
    }
   ],
   "source": [
    "# Calculamos los ratios de retención a 1 día.\n",
    "\n",
    "control_users = 6095\n",
    "treatement_users = 6290\n",
    "\n",
    "control_retentions = 5498\n",
    "treatement_retentions = 5647\n",
    "\n",
    "control_ret_rate = control_retentions / control_users\n",
    "\n",
    "treatement_ret_rate = treatement_retentions / treatement_users\n",
    "\n",
    "'Rates: ', control_ret_rate, treatement_ret_rate\n",
    "\n",
    "# Observamos como el ratio de retención es más favorable en el grupo de control, por lo que los cambios propuestos pueden no estar obteniendo el resultado esperado.\n",
    "# No es lo que buscamos, pero los valores se acercan más que en los casos anteriores."
   ]
  },
  {
   "cell_type": "code",
   "execution_count": 40,
   "id": "d7b2098d",
   "metadata": {},
   "outputs": [
    {
     "data": {
      "text/plain": [
       "version  retention_7\n",
       "gate_30  True           4351\n",
       "         False          1744\n",
       "gate_40  True           4481\n",
       "         False          1809\n",
       "Name: retention_7, dtype: int64"
      ]
     },
     "execution_count": 40,
     "metadata": {},
     "output_type": "execute_result"
    }
   ],
   "source": [
    "# Obtenemos la cantidad de retenciones por grupo a 7 días.\n",
    "\n",
    "sub_data.groupby('version')['retention_7'].value_counts()"
   ]
  },
  {
   "cell_type": "code",
   "execution_count": 41,
   "id": "9bf4f431",
   "metadata": {},
   "outputs": [
    {
     "data": {
      "text/plain": [
       "('Rates: ', 0.7138638228055784, 0.7124006359300477)"
      ]
     },
     "execution_count": 41,
     "metadata": {},
     "output_type": "execute_result"
    }
   ],
   "source": [
    "# Calculamos los ratios de retención a 7 días.\n",
    "\n",
    "control_users = 6095\n",
    "treatement_users = 6290\n",
    "\n",
    "control_retentions = 4351\n",
    "treatement_retentions = 4481\n",
    "\n",
    "control_ret_rate = control_retentions / control_users\n",
    "\n",
    "treatement_ret_rate = treatement_retentions / treatement_users\n",
    "\n",
    "'Rates: ', control_ret_rate, treatement_ret_rate\n",
    "\n",
    "# Observamos como el ratio de retención es más favorable en el grupo de control, por lo que los cambios propuestos pueden no estar obteniendo el resultado esperado.\n",
    "# No es lo que buscamos, pero los valores se acercan más que en los casos anteriores."
   ]
  },
  {
   "cell_type": "markdown",
   "id": "e8145a98",
   "metadata": {},
   "source": [
    "Probamos con un segmento aún más fiel al juego durante los primeros 14 días tras la descarga.\n",
    "\n",
    "Parece que a medida que incrementan las ronda jugadas, mejor impacto ofrecen los cambios sobre la tasa de retención.\n",
    "\n",
    "En este caso segmentamos en basa a aquellos que jugaron más de 200 rondas."
   ]
  },
  {
   "cell_type": "code",
   "execution_count": 79,
   "id": "053a24d4",
   "metadata": {},
   "outputs": [],
   "source": [
    "sub_data = pd.DataFrame(data[data.sum_gamerounds > 200]) # Filtramos los datos."
   ]
  },
  {
   "cell_type": "code",
   "execution_count": 80,
   "id": "28dd40f6",
   "metadata": {
    "scrolled": true
   },
   "outputs": [
    {
     "data": {
      "text/plain": [
       "(5223, 5)"
      ]
     },
     "execution_count": 80,
     "metadata": {},
     "output_type": "execute_result"
    }
   ],
   "source": [
    "sub_data.shape # Checkeamos la cantidad de registros"
   ]
  },
  {
   "cell_type": "code",
   "execution_count": 81,
   "id": "6de1a1ea",
   "metadata": {
    "scrolled": true
   },
   "outputs": [
    {
     "data": {
      "text/plain": [
       "gate_40    2618\n",
       "gate_30    2605\n",
       "Name: version, dtype: int64"
      ]
     },
     "execution_count": 81,
     "metadata": {},
     "output_type": "execute_result"
    }
   ],
   "source": [
    "# Obtenemos el número de observaciones para cada grupo.\n",
    "\n",
    "sub_data.version.value_counts()"
   ]
  },
  {
   "cell_type": "code",
   "execution_count": 82,
   "id": "663c5166",
   "metadata": {},
   "outputs": [
    {
     "data": {
      "text/plain": [
       "version  retention_1\n",
       "gate_30  True           2441\n",
       "         False           164\n",
       "gate_40  True           2440\n",
       "         False           178\n",
       "Name: retention_1, dtype: int64"
      ]
     },
     "execution_count": 82,
     "metadata": {},
     "output_type": "execute_result"
    }
   ],
   "source": [
    "# Obtenemos la cantidad de retenciones por grupo a 1 día.\n",
    "\n",
    "sub_data.groupby('version')['retention_1'].value_counts()"
   ]
  },
  {
   "cell_type": "code",
   "execution_count": 83,
   "id": "73fec532",
   "metadata": {},
   "outputs": [
    {
     "data": {
      "text/plain": [
       "('Rates: ', 0.9370441458733205, 0.932009167303285)"
      ]
     },
     "execution_count": 83,
     "metadata": {},
     "output_type": "execute_result"
    }
   ],
   "source": [
    "# Calculamos los ratios de retención a 1 día.\n",
    "\n",
    "control_users = 2605\n",
    "treatement_users = 2618\n",
    "\n",
    "control_retentions = 2441\n",
    "treatement_retentions = 2440\n",
    "\n",
    "control_ret_rate = control_retentions / control_users\n",
    "\n",
    "treatement_ret_rate = treatement_retentions / treatement_users\n",
    "\n",
    "'Rates: ', control_ret_rate, treatement_ret_rate\n",
    "\n",
    "# Observamos como el ratio de retención es más favorable en el grupo de control, por lo que los cambios propuestos pueden no estar obteniendo el resultado esperado.\n",
    "# Sigue sin ser lo que buscamos."
   ]
  },
  {
   "cell_type": "code",
   "execution_count": 84,
   "id": "d181ab2a",
   "metadata": {
    "scrolled": true
   },
   "outputs": [
    {
     "data": {
      "text/plain": [
       "version  retention_7\n",
       "gate_30  True           2212\n",
       "         False           393\n",
       "gate_40  True           2226\n",
       "         False           392\n",
       "Name: retention_7, dtype: int64"
      ]
     },
     "execution_count": 84,
     "metadata": {},
     "output_type": "execute_result"
    }
   ],
   "source": [
    "# Obtenemos la cantidad de retenciones por grupo a 7 días.\n",
    "\n",
    "sub_data.groupby('version')['retention_7'].value_counts()"
   ]
  },
  {
   "cell_type": "code",
   "execution_count": 85,
   "id": "41c17076",
   "metadata": {},
   "outputs": [
    {
     "data": {
      "text/plain": [
       "('Rates: ', 0.8491362763915548, 0.8502673796791443)"
      ]
     },
     "execution_count": 85,
     "metadata": {},
     "output_type": "execute_result"
    }
   ],
   "source": [
    "# Calculamos los ratios de retención a 7 días.\n",
    "\n",
    "control_users = 2605\n",
    "treatement_users = 2618\n",
    "\n",
    "control_retentions = 2212\n",
    "treatement_retentions = 2226\n",
    "\n",
    "control_ret_rate = control_retentions / control_users\n",
    "\n",
    "treatement_ret_rate = treatement_retentions / treatement_users\n",
    "\n",
    "'Rates: ', control_ret_rate, treatement_ret_rate\n",
    "\n",
    "# La tasa del grupo de tratamiento supera a la del grupo de control.\n",
    "# Es la primera vez que encontramos un impacto positivo en la tasa de retención. Testeamos la significación de esta diferencia."
   ]
  },
  {
   "cell_type": "code",
   "execution_count": 86,
   "id": "6289f9c2",
   "metadata": {},
   "outputs": [],
   "source": [
    "# Creamos los betas a priori:\n",
    "\n",
    "a_C, b_C = control_retentions +1, control_users - control_retentions +1\n",
    "a_T, b_T = treatement_retentions +1, treatement_users - treatement_retentions +1\n",
    "\n",
    "\n",
    "beta_C = beta(a_C, b_C)   # control \n",
    "beta_T = beta(a_T, b_T)   # treatement (grupo de testeo)"
   ]
  },
  {
   "cell_type": "code",
   "execution_count": 87,
   "id": "e75c2930",
   "metadata": {},
   "outputs": [
    {
     "data": {
      "text/plain": [
       "0.0013330320831450632"
      ]
     },
     "execution_count": 87,
     "metadata": {},
     "output_type": "execute_result"
    }
   ],
   "source": [
    "# Calculamos la diferencia en entre la media de las betas (grupo de tratamiento vs. grupo de control)\n",
    "\n",
    "difference = (beta_T.mean()-beta_C.mean())/beta_C.mean()\n",
    "\n",
    "difference"
   ]
  },
  {
   "cell_type": "code",
   "execution_count": 88,
   "id": "ec536fb1",
   "metadata": {},
   "outputs": [
    {
     "data": {
      "text/plain": [
       "0.5455355796333253"
      ]
     },
     "execution_count": 88,
     "metadata": {},
     "output_type": "execute_result"
    }
   ],
   "source": [
    "# Calculamos la probabilidad (nivel de significación de la diferencia obtenida):\n",
    "\n",
    "prob = calc_prob(beta_T, beta_C)\n",
    "\n",
    "prob"
   ]
  },
  {
   "cell_type": "code",
   "execution_count": 89,
   "id": "84704295",
   "metadata": {},
   "outputs": [
    {
     "data": {
      "text/plain": [
       "'El test incrementa la tasa de retención en un 0.13%, con una probabilidad del 54.55%. Esta probabilidad es demasiado baja como para considerar que existe una diferencia significativa.'"
      ]
     },
     "execution_count": 89,
     "metadata": {},
     "output_type": "execute_result"
    }
   ],
   "source": [
    "# Resultado del test:\n",
    "\n",
    "'El test incrementa la tasa de retención en un {:2.2f}%, con una probabilidad del {:2.2f}%. Esta probabilidad es demasiado baja como para considerar que existe una diferencia significativa.'.format(difference*100, prob*100)"
   ]
  },
  {
   "cell_type": "markdown",
   "id": "5e25f5f8",
   "metadata": {},
   "source": [
    "Por primera vez hemos encontrado una diferencia favorable con una probabilidad medianamente decente (retención a 7 días en usuarios con más de 200 rondas jugadas).\n",
    "\n",
    "Seguimos segmentando hacia usuarios que hicieron un uso más intensivo del juego, ya que parecer ser que a mayores rondas jugadas, mejores resultados obtiene la retención en el grupo de tratamiento.\n",
    "\n",
    "Probaremos con usuarios con más de 300 rondas jugadas."
   ]
  },
  {
   "cell_type": "code",
   "execution_count": 90,
   "id": "734e5779",
   "metadata": {},
   "outputs": [],
   "source": [
    "sub_data = pd.DataFrame(data[data.sum_gamerounds > 300]) # Filtramos los datos."
   ]
  },
  {
   "cell_type": "code",
   "execution_count": 91,
   "id": "c7e43b98",
   "metadata": {
    "scrolled": false
   },
   "outputs": [
    {
     "data": {
      "text/plain": [
       "(2677, 5)"
      ]
     },
     "execution_count": 91,
     "metadata": {},
     "output_type": "execute_result"
    }
   ],
   "source": [
    "sub_data.shape"
   ]
  },
  {
   "cell_type": "code",
   "execution_count": 92,
   "id": "0694fea3",
   "metadata": {},
   "outputs": [
    {
     "data": {
      "text/plain": [
       "gate_30    1350\n",
       "gate_40    1327\n",
       "Name: version, dtype: int64"
      ]
     },
     "execution_count": 92,
     "metadata": {},
     "output_type": "execute_result"
    }
   ],
   "source": [
    "# Obtenemos el número de observaciones para cada grupo.\n",
    "\n",
    "sub_data.version.value_counts()"
   ]
  },
  {
   "cell_type": "code",
   "execution_count": 93,
   "id": "2a977db8",
   "metadata": {},
   "outputs": [
    {
     "data": {
      "text/plain": [
       "version  retention_1\n",
       "gate_30  True           1276\n",
       "         False            74\n",
       "gate_40  True           1261\n",
       "         False            66\n",
       "Name: retention_1, dtype: int64"
      ]
     },
     "execution_count": 93,
     "metadata": {},
     "output_type": "execute_result"
    }
   ],
   "source": [
    "# Obtenemos la cantidad de retenciones por grupo a 1 día.\n",
    "\n",
    "sub_data.groupby('version')['retention_1'].value_counts()"
   ]
  },
  {
   "cell_type": "code",
   "execution_count": 94,
   "id": "0107a718",
   "metadata": {},
   "outputs": [
    {
     "data": {
      "text/plain": [
       "('Rates: ', 0.9451851851851852, 0.9502637528259231)"
      ]
     },
     "execution_count": 94,
     "metadata": {},
     "output_type": "execute_result"
    }
   ],
   "source": [
    "# Calculamos los ratios de retención a 1 día.\n",
    "\n",
    "control_users = 1350\n",
    "treatement_users = 1327\n",
    "\n",
    "control_retentions = 1276\n",
    "treatement_retentions = 1261\n",
    "\n",
    "control_ret_rate = control_retentions / control_users\n",
    "\n",
    "treatement_ret_rate = treatement_retentions / treatement_users\n",
    "\n",
    "'Rates: ', control_ret_rate, treatement_ret_rate\n",
    "\n",
    "# Observamos como el ratio de retención es más favorable en el grupo de tratamiento (por primeta vez en retention_1).\n",
    "# Testeamos si esta diferencia es estadísticamente significativa."
   ]
  },
  {
   "cell_type": "code",
   "execution_count": 95,
   "id": "10c01ca6",
   "metadata": {},
   "outputs": [],
   "source": [
    "# Creamos los betas a priori:\n",
    "\n",
    "a_C, b_C = control_retentions +1, control_users - control_retentions +1\n",
    "a_T, b_T = treatement_retentions +1, treatement_users - treatement_retentions +1\n",
    "\n",
    "\n",
    "beta_C = beta(a_C, b_C)   # control \n",
    "beta_T = beta(a_T, b_T)   # treatement (grupo de testeo)"
   ]
  },
  {
   "cell_type": "code",
   "execution_count": 96,
   "id": "fe1c5607",
   "metadata": {},
   "outputs": [
    {
     "data": {
      "text/plain": [
       "0.005356680943685623"
      ]
     },
     "execution_count": 96,
     "metadata": {},
     "output_type": "execute_result"
    }
   ],
   "source": [
    "# Calculamos la diferencia en entre la media de las betas (grupo de tratamiento vs. grupo de control)\n",
    "\n",
    "difference = (beta_T.mean()-beta_C.mean())/beta_C.mean()\n",
    "\n",
    "difference   "
   ]
  },
  {
   "cell_type": "code",
   "execution_count": 97,
   "id": "ada90432",
   "metadata": {},
   "outputs": [
    {
     "data": {
      "text/plain": [
       "0.7214361005811554"
      ]
     },
     "execution_count": 97,
     "metadata": {},
     "output_type": "execute_result"
    }
   ],
   "source": [
    "# Calculamos la probabilidad (nivel de significación de la diferencia obtenida):\n",
    "\n",
    "prob = calc_prob(beta_T, beta_C)\n",
    "\n",
    "prob"
   ]
  },
  {
   "cell_type": "code",
   "execution_count": 98,
   "id": "9206bffe",
   "metadata": {},
   "outputs": [
    {
     "data": {
      "text/plain": [
       "'El test incrementa la tasa de retención en un 0.54%, con una probabilidad del 72.14%. Obteemos por primera vez un impacto positivo (medianamente significativo) en la retención a un día en el grupo de tratamiento.'"
      ]
     },
     "execution_count": 98,
     "metadata": {},
     "output_type": "execute_result"
    }
   ],
   "source": [
    "# Resultado del test:\n",
    "\n",
    "'El test incrementa la tasa de retención en un {:2.2f}%, con una probabilidad del {:2.2f}%. Obtenemos por primera vez un impacto positivo (medianamente significativo) en la retención a un día en el grupo de tratamiento.'.format(difference*100, prob*100)"
   ]
  },
  {
   "cell_type": "code",
   "execution_count": 99,
   "id": "f956a4a2",
   "metadata": {},
   "outputs": [],
   "source": [
    "# Testeamos este mismo segmento sobre la retención a 7 días."
   ]
  },
  {
   "cell_type": "code",
   "execution_count": 100,
   "id": "fbc866b6",
   "metadata": {},
   "outputs": [
    {
     "data": {
      "text/plain": [
       "gate_30    1350\n",
       "gate_40    1327\n",
       "Name: version, dtype: int64"
      ]
     },
     "execution_count": 100,
     "metadata": {},
     "output_type": "execute_result"
    }
   ],
   "source": [
    "# Recuperamos el número de observaciones para cada grupo (mismo que en el anterior retention_1).\n",
    "\n",
    "sub_data.version.value_counts()"
   ]
  },
  {
   "cell_type": "code",
   "execution_count": 101,
   "id": "ae4639b2",
   "metadata": {},
   "outputs": [
    {
     "data": {
      "text/plain": [
       "version  retention_7\n",
       "gate_30  True           1217\n",
       "         False           133\n",
       "gate_40  True           1213\n",
       "         False           114\n",
       "Name: retention_7, dtype: int64"
      ]
     },
     "execution_count": 101,
     "metadata": {},
     "output_type": "execute_result"
    }
   ],
   "source": [
    "# Obtenemos la cantidad de retenciones por grupo a 7 días.\n",
    "\n",
    "sub_data.groupby('version')['retention_7'].value_counts()"
   ]
  },
  {
   "cell_type": "code",
   "execution_count": 102,
   "id": "1c1f7dad",
   "metadata": {},
   "outputs": [
    {
     "data": {
      "text/plain": [
       "('Rates: ', 0.9014814814814814, 0.9140919366993218)"
      ]
     },
     "execution_count": 102,
     "metadata": {},
     "output_type": "execute_result"
    }
   ],
   "source": [
    "# Calculamos los ratios de retención a 7 días.\n",
    "\n",
    "control_users = 1350\n",
    "treatement_users = 1327\n",
    "\n",
    "control_retentions = 1217\n",
    "treatement_retentions = 1213\n",
    "\n",
    "control_ret_rate = control_retentions / control_users\n",
    "\n",
    "treatement_ret_rate = treatement_retentions / treatement_users\n",
    "\n",
    "'Rates: ', control_ret_rate, treatement_ret_rate\n",
    "\n",
    "# De nuevo encontramos una diferencia favorable en el grupo de tratamiento\n",
    "# Testeamos si esta diferencia es estadísticamente significativa."
   ]
  },
  {
   "cell_type": "code",
   "execution_count": 103,
   "id": "807c5a42",
   "metadata": {},
   "outputs": [],
   "source": [
    "# Creamos los betas a priori:\n",
    "\n",
    "a_C, b_C = control_retentions +1, control_users - control_retentions +1\n",
    "a_T, b_T = treatement_retentions +1, treatement_users - treatement_retentions +1\n",
    "\n",
    "\n",
    "beta_C = beta(a_C, b_C)   # control \n",
    "beta_T = beta(a_T, b_T)   # treatement (grupo de testeo)"
   ]
  },
  {
   "cell_type": "code",
   "execution_count": 104,
   "id": "32df4693",
   "metadata": {},
   "outputs": [
    {
     "data": {
      "text/plain": [
       "0.013965338087701243"
      ]
     },
     "execution_count": 104,
     "metadata": {},
     "output_type": "execute_result"
    }
   ],
   "source": [
    "# Calculamos la diferencia en entre la media de las betas (grupo de tratamiento vs. grupo de control)\n",
    "\n",
    "difference = (beta_T.mean()-beta_C.mean())/beta_C.mean()\n",
    "\n",
    "difference"
   ]
  },
  {
   "cell_type": "code",
   "execution_count": 105,
   "id": "9b958d61",
   "metadata": {},
   "outputs": [
    {
     "data": {
      "text/plain": [
       "0.8696591061311674"
      ]
     },
     "execution_count": 105,
     "metadata": {},
     "output_type": "execute_result"
    }
   ],
   "source": [
    "# Calculamos la probabilidad (nivel de significación de la diferencia obtenida):\n",
    "\n",
    "prob = calc_prob(beta_T, beta_C)\n",
    "\n",
    "prob"
   ]
  },
  {
   "cell_type": "code",
   "execution_count": 106,
   "id": "7ffb8f39",
   "metadata": {
    "scrolled": true
   },
   "outputs": [
    {
     "data": {
      "text/plain": [
       "'El test incrementa la tasa de retención en un 1.40%, con una probabilidad del 86.97%. Comenzamos a obtener diferencias con una probabilidad bastante elevada.'"
      ]
     },
     "execution_count": 106,
     "metadata": {},
     "output_type": "execute_result"
    }
   ],
   "source": [
    "# Resultado del test:\n",
    "\n",
    "'El test incrementa la tasa de retención en un {:2.2f}%, con una probabilidad del {:2.2f}%. Comenzamos a obtener diferencias con una probabilidad bastante elevada.'.format(difference*100, prob*100)"
   ]
  },
  {
   "cell_type": "markdown",
   "id": "f17b77fd",
   "metadata": {},
   "source": [
    "En el segmento de jugadores con más de 300 rondas jugadas hemos encontrado diferencias favorables con un nivel de probabilidad aceptable.\n",
    "\n",
    "Podemos confirmar que los cambios testeados impactan positivamente en aquellos usuarios que hacen un uso intensivo del juego durante los 14 primeros días. Es decir, los cambios propuestos fidelizan e incrementan la retención de aquellos jugadores que juegan mucho (los cuales se presupone que son los usuarios de mayor interés para el negocio).\n",
    "\n",
    "Llevaremos a cabo un último test sobre los jugadores con más de 500 rondas jugadas, un segmento muy específico dentro de la población (aquellos jugadores que hicieron un uso muy intensivo del juego)."
   ]
  },
  {
   "cell_type": "code",
   "execution_count": 113,
   "id": "db71d232",
   "metadata": {},
   "outputs": [],
   "source": [
    "sub_data = pd.DataFrame(data[data.sum_gamerounds > 500]) # Filtramos los datos."
   ]
  },
  {
   "cell_type": "code",
   "execution_count": 114,
   "id": "5d37c804",
   "metadata": {
    "scrolled": true
   },
   "outputs": [
    {
     "data": {
      "text/plain": [
       "(856, 5)"
      ]
     },
     "execution_count": 114,
     "metadata": {},
     "output_type": "execute_result"
    }
   ],
   "source": [
    "sub_data.shape"
   ]
  },
  {
   "cell_type": "code",
   "execution_count": 115,
   "id": "dd9bbedc",
   "metadata": {},
   "outputs": [
    {
     "data": {
      "text/plain": [
       "gate_40    429\n",
       "gate_30    427\n",
       "Name: version, dtype: int64"
      ]
     },
     "execution_count": 115,
     "metadata": {},
     "output_type": "execute_result"
    }
   ],
   "source": [
    "# Obtenemos el número de observaciones para cada grupo.\n",
    "\n",
    "sub_data.version.value_counts()"
   ]
  },
  {
   "cell_type": "code",
   "execution_count": 116,
   "id": "8bc860b3",
   "metadata": {
    "scrolled": true
   },
   "outputs": [
    {
     "data": {
      "text/plain": [
       "version  retention_1\n",
       "gate_30  True           415\n",
       "         False           12\n",
       "gate_40  True           419\n",
       "         False           10\n",
       "Name: retention_1, dtype: int64"
      ]
     },
     "execution_count": 116,
     "metadata": {},
     "output_type": "execute_result"
    }
   ],
   "source": [
    "# Obtenemos la cantidad de retenciones por grupo a 1 día.\n",
    "\n",
    "sub_data.groupby('version')['retention_1'].value_counts()"
   ]
  },
  {
   "cell_type": "code",
   "execution_count": 123,
   "id": "241fd49c",
   "metadata": {},
   "outputs": [
    {
     "data": {
      "text/plain": [
       "('Rates: ', 0.9718969555035128, 0.9766899766899767)"
      ]
     },
     "execution_count": 123,
     "metadata": {},
     "output_type": "execute_result"
    }
   ],
   "source": [
    "# Calculamos los ratios de retención a 1 día.\n",
    "\n",
    "control_users = 427\n",
    "treatement_users = 429\n",
    "\n",
    "control_retentions = 415\n",
    "treatement_retentions = 419\n",
    "\n",
    "control_ret_rate = control_retentions / control_users\n",
    "\n",
    "treatement_ret_rate = treatement_retentions / treatement_users\n",
    "\n",
    "'Rates: ', control_ret_rate, treatement_ret_rate\n",
    "\n",
    "# Observamos como el ratio de retención es más favorable en el grupo de tratamiento (por primeta vez en retention_1).\n",
    "# Testeamos si esta diferencia es estadísticamente significativa."
   ]
  },
  {
   "cell_type": "code",
   "execution_count": 124,
   "id": "6415ebb8",
   "metadata": {},
   "outputs": [],
   "source": [
    "# Creamos los betas a priori:\n",
    "\n",
    "a_C, b_C = control_retentions +1, control_users - control_retentions +1\n",
    "a_T, b_T = treatement_retentions +1, treatement_users - treatement_retentions +1\n",
    "\n",
    "\n",
    "beta_C = beta(a_C, b_C)   # control \n",
    "beta_T = beta(a_T, b_T)   # treatement (grupo de testeo)"
   ]
  },
  {
   "cell_type": "code",
   "execution_count": 125,
   "id": "4a839df8",
   "metadata": {},
   "outputs": [
    {
     "data": {
      "text/plain": [
       "0.004930394431554512"
      ]
     },
     "execution_count": 125,
     "metadata": {},
     "output_type": "execute_result"
    }
   ],
   "source": [
    "# Calculamos la diferencia en entre la media de las betas (grupo de tratamiento vs. grupo de control)\n",
    "\n",
    "difference = (beta_T.mean()-beta_C.mean())/beta_C.mean()\n",
    "\n",
    "difference   "
   ]
  },
  {
   "cell_type": "code",
   "execution_count": 126,
   "id": "30634a6b",
   "metadata": {},
   "outputs": [
    {
     "data": {
      "text/plain": [
       "0.6674528630264621"
      ]
     },
     "execution_count": 126,
     "metadata": {},
     "output_type": "execute_result"
    }
   ],
   "source": [
    "# Calculamos la probabilidad (nivel de significación de la diferencia obtenida):\n",
    "\n",
    "prob = calc_prob(beta_T, beta_C)\n",
    "\n",
    "prob"
   ]
  },
  {
   "cell_type": "code",
   "execution_count": 127,
   "id": "18c76826",
   "metadata": {},
   "outputs": [
    {
     "data": {
      "text/plain": [
       "'El test incrementa la tasa de retención en un 0.49%, con una probabilidad del 66.75%. La probabilidad no es tan alta como nos gustaría.'"
      ]
     },
     "execution_count": 127,
     "metadata": {},
     "output_type": "execute_result"
    }
   ],
   "source": [
    "# Resultado del test:\n",
    "\n",
    "'El test incrementa la tasa de retención en un {:2.2f}%, con una probabilidad del {:2.2f}%. La probabilidad no es tan alta como nos gustaría.'.format(difference*100, prob*100)"
   ]
  },
  {
   "cell_type": "code",
   "execution_count": 128,
   "id": "c4a5bb7f",
   "metadata": {},
   "outputs": [
    {
     "data": {
      "text/plain": [
       "version  retention_7\n",
       "gate_30  True           405\n",
       "         False           22\n",
       "gate_40  True           413\n",
       "         False           16\n",
       "Name: retention_7, dtype: int64"
      ]
     },
     "execution_count": 128,
     "metadata": {},
     "output_type": "execute_result"
    }
   ],
   "source": [
    "# Obtenemos la cantidad de retenciones por grupo a 7 días.\n",
    "\n",
    "sub_data.groupby('version')['retention_7'].value_counts()"
   ]
  },
  {
   "cell_type": "code",
   "execution_count": 129,
   "id": "3a3fb46b",
   "metadata": {},
   "outputs": [
    {
     "data": {
      "text/plain": [
       "('Rates: ', 0.9484777517564403, 0.9627039627039627)"
      ]
     },
     "execution_count": 129,
     "metadata": {},
     "output_type": "execute_result"
    }
   ],
   "source": [
    "# Calculamos los ratios de retención a 7 días.\n",
    "\n",
    "control_users = 427\n",
    "treatement_users = 429\n",
    "\n",
    "control_retentions = 405\n",
    "treatement_retentions = 413\n",
    "\n",
    "control_ret_rate = control_retentions / control_users\n",
    "\n",
    "treatement_ret_rate = treatement_retentions / treatement_users\n",
    "\n",
    "'Rates: ', control_ret_rate, treatement_ret_rate\n",
    "\n",
    "# De nuevo encontramos una diferencia favorable en el grupo de tratamiento\n",
    "# Testeamos si esta diferencia es estadísticamente significativa."
   ]
  },
  {
   "cell_type": "code",
   "execution_count": 130,
   "id": "83bcebc9",
   "metadata": {},
   "outputs": [],
   "source": [
    "# Creamos los betas a priori:\n",
    "\n",
    "a_C, b_C = control_retentions +1, control_users - control_retentions +1\n",
    "a_T, b_T = treatement_retentions +1, treatement_users - treatement_retentions +1\n",
    "\n",
    "\n",
    "beta_C = beta(a_C, b_C)   # control \n",
    "beta_T = beta(a_T, b_T)   # treatement (grupo de testeo)"
   ]
  },
  {
   "cell_type": "code",
   "execution_count": 131,
   "id": "5d80a20d",
   "metadata": {},
   "outputs": [
    {
     "data": {
      "text/plain": [
       "0.014972626381539098"
      ]
     },
     "execution_count": 131,
     "metadata": {},
     "output_type": "execute_result"
    }
   ],
   "source": [
    "# Calculamos la diferencia en entre la media de las betas (grupo de tratamiento vs. grupo de control)\n",
    "\n",
    "difference = (beta_T.mean()-beta_C.mean())/beta_C.mean()\n",
    "\n",
    "difference   "
   ]
  },
  {
   "cell_type": "code",
   "execution_count": 132,
   "id": "b3befbd4",
   "metadata": {},
   "outputs": [
    {
     "data": {
      "text/plain": [
       "0.8409097980336496"
      ]
     },
     "execution_count": 132,
     "metadata": {},
     "output_type": "execute_result"
    }
   ],
   "source": [
    "# Calculamos la probabilidad (nivel de significación de la diferencia obtenida):\n",
    "\n",
    "prob = calc_prob(beta_T, beta_C)\n",
    "\n",
    "prob"
   ]
  },
  {
   "cell_type": "code",
   "execution_count": 135,
   "id": "d63f5fb8",
   "metadata": {},
   "outputs": [
    {
     "data": {
      "text/plain": [
       "'El test incrementa la tasa de retención en un 1.50%, con una probabilidad del 84.09% en aquellos usuarios con más de 500 rondas jugadas. Estos datos son relativamente fiables y podríamos afirmar que los cambios propuestos muestran un impacto positivo en aquellos usuarios más fieles al juego.'"
      ]
     },
     "execution_count": 135,
     "metadata": {},
     "output_type": "execute_result"
    }
   ],
   "source": [
    "# Resultado del test:\n",
    "\n",
    "'El test incrementa la tasa de retención en un {:2.2f}%, con una probabilidad del {:2.2f}% en aquellos usuarios con más de 500 rondas jugadas. Estos datos son relativamente fiables y podríamos afirmar que los cambios propuestos muestran un impacto positivo en aquellos usuarios más fieles al juego.'.format(difference*100, prob*100)"
   ]
  },
  {
   "cell_type": "markdown",
   "id": "96e06929",
   "metadata": {},
   "source": [
    "## Conclusiones Finales"
   ]
  },
  {
   "cell_type": "markdown",
   "id": "58453d73",
   "metadata": {},
   "source": [
    "- Los cambios propuestos **no impactan positivamente** sobre la retención del grupo de tratamiento a nivel global.\n",
    "    \n",
    "    \n",
    "- En cambio, si segmentamos a los usuarios en función de las rondas jugadas durante los primeros 14 días tras la descarga, encontramos **diferencias significativas**: a medida que aumenta el número de rondas jugadas, mayor retención ofrece el grupo de tratamiento frente al de control.\n",
    "\n",
    "Esto quiere decir que podría interesar implantar los cambios únicamente para aquellos jugadores vayan a superar un determinado umbral de partidas jugadas durante los primeros 14 días.\n",
    "\n",
    "Como el gate actualmente aparece en el nivel 30, quizá no podamos esperar los 14 días para comprobar si los usuarios superan ese umbral. Por tanto se hace las siguientes **recomendaciones**:\n",
    "- Fijar un umbral de partidas jugadas a los 14 días en función de la diferencia y probabilidad en los tests.\n",
    "\n",
    "\n",
    "- Identificar los jugadores que superan ese umbral.\n",
    "\n",
    "\n",
    "- Buscar patrones en la actividad de esos jugadores durante los primeros 29 niveles para intentar predecir los jugadores que harán un uso intensivo del juego y superarán el umbral previamente establecido.\n",
    "\n",
    "\n",
    "- Clasificar a los nuevos usuarios en función de su actividad durante los primeras 29 niveles, de manera que el gate pueda aparecer en el nivel 30 o en el nivel 40 según corresponda."
   ]
  }
 ],
 "metadata": {
  "kernelspec": {
   "display_name": "Python 3 (ipykernel)",
   "language": "python",
   "name": "python3"
  },
  "language_info": {
   "codemirror_mode": {
    "name": "ipython",
    "version": 3
   },
   "file_extension": ".py",
   "mimetype": "text/x-python",
   "name": "python",
   "nbconvert_exporter": "python",
   "pygments_lexer": "ipython3",
   "version": "3.9.7"
  }
 },
 "nbformat": 4,
 "nbformat_minor": 5
}
