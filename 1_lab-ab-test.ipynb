{
 "cells": [
  {
   "cell_type": "markdown",
   "id": "angry-pearl",
   "metadata": {
    "toc": true
   },
   "source": [
    "<h1>Table of Contents<span class=\"tocSkip\"></span></h1>\n",
    "<div class=\"toc\"><ul class=\"toc-item\"><li><span><a href=\"#AB-Testing\" data-toc-modified-id=\"AB-Testing-1\"><span class=\"toc-item-num\">1&nbsp;&nbsp;</span>AB-Testing</a></span></li></ul></div>"
   ]
  },
  {
   "cell_type": "markdown",
   "id": "c92ba6e0",
   "metadata": {},
   "source": [
    "# AB-Testing\n",
    "\n",
    "![cats](images/cats.jpeg)\n",
    "\n",
    "\n",
    "Imaginad que somos los cientificos de datos de la empresa de videojuegos Tactile Entertainment. Los desarrolladores del juego Cookie Cats pretenden introducir un cambio en el juego para aumentar la retencion de los jugadores. En cierto nivel del juego los jugadores se encuentran una puerta que les obliga a esperar o a pagar la app. Actualmente la puerta se encuentra en nivel 30 y se pretende pasar al nivel 40, para comprobar la retencion a 1 y 7 dias. Antes de realizar el cambio definitivo en el juego se raliza un test AB.\n",
    "\n",
    "Los datos estan alojados en `data/cookie_cats.csv`. Nuestro grupo de control sera la version actual `gate_30` y el grupo de tratamiento sera la version `gate_40`. Debemos realizar el test para 1 dia de retencion `retention_1` y para 7 dias `retention_7`."
   ]
  },
  {
   "cell_type": "code",
   "execution_count": 1,
   "id": "ac3b2f52",
   "metadata": {},
   "outputs": [],
   "source": [
    "# LIBRERÍAS\n",
    "\n",
    "import pandas as pd\n",
    "import numpy as np\n",
    "\n",
    "from statsmodels.stats.proportion import proportions_ztest, proportion_confint\n",
    "import scipy.stats as stats\n",
    "from scipy.stats import norm, sem\n",
    "\n",
    "import pylab as plt\n",
    "import seaborn as sns\n",
    "%matplotlib inline"
   ]
  },
  {
   "cell_type": "code",
   "execution_count": 2,
   "id": "7fe515c2",
   "metadata": {},
   "outputs": [
    {
     "data": {
      "text/html": [
       "<div>\n",
       "<style scoped>\n",
       "    .dataframe tbody tr th:only-of-type {\n",
       "        vertical-align: middle;\n",
       "    }\n",
       "\n",
       "    .dataframe tbody tr th {\n",
       "        vertical-align: top;\n",
       "    }\n",
       "\n",
       "    .dataframe thead th {\n",
       "        text-align: right;\n",
       "    }\n",
       "</style>\n",
       "<table border=\"1\" class=\"dataframe\">\n",
       "  <thead>\n",
       "    <tr style=\"text-align: right;\">\n",
       "      <th></th>\n",
       "      <th>userid</th>\n",
       "      <th>version</th>\n",
       "      <th>sum_gamerounds</th>\n",
       "      <th>retention_1</th>\n",
       "      <th>retention_7</th>\n",
       "    </tr>\n",
       "  </thead>\n",
       "  <tbody>\n",
       "    <tr>\n",
       "      <th>0</th>\n",
       "      <td>116</td>\n",
       "      <td>gate_30</td>\n",
       "      <td>3</td>\n",
       "      <td>False</td>\n",
       "      <td>False</td>\n",
       "    </tr>\n",
       "    <tr>\n",
       "      <th>1</th>\n",
       "      <td>337</td>\n",
       "      <td>gate_30</td>\n",
       "      <td>38</td>\n",
       "      <td>True</td>\n",
       "      <td>False</td>\n",
       "    </tr>\n",
       "    <tr>\n",
       "      <th>2</th>\n",
       "      <td>377</td>\n",
       "      <td>gate_40</td>\n",
       "      <td>165</td>\n",
       "      <td>True</td>\n",
       "      <td>False</td>\n",
       "    </tr>\n",
       "    <tr>\n",
       "      <th>3</th>\n",
       "      <td>483</td>\n",
       "      <td>gate_40</td>\n",
       "      <td>1</td>\n",
       "      <td>False</td>\n",
       "      <td>False</td>\n",
       "    </tr>\n",
       "    <tr>\n",
       "      <th>4</th>\n",
       "      <td>488</td>\n",
       "      <td>gate_40</td>\n",
       "      <td>179</td>\n",
       "      <td>True</td>\n",
       "      <td>True</td>\n",
       "    </tr>\n",
       "  </tbody>\n",
       "</table>\n",
       "</div>"
      ],
      "text/plain": [
       "   userid  version  sum_gamerounds  retention_1  retention_7\n",
       "0     116  gate_30               3        False        False\n",
       "1     337  gate_30              38         True        False\n",
       "2     377  gate_40             165         True        False\n",
       "3     483  gate_40               1        False        False\n",
       "4     488  gate_40             179         True         True"
      ]
     },
     "execution_count": 2,
     "metadata": {},
     "output_type": "execute_result"
    }
   ],
   "source": [
    "# DATOS\n",
    "\n",
    "data = pd.read_csv('data/cookie_cats.csv')\n",
    "\n",
    "data.head()"
   ]
  },
  {
   "cell_type": "code",
   "execution_count": 3,
   "id": "f2e6147a",
   "metadata": {
    "scrolled": true
   },
   "outputs": [
    {
     "name": "stdout",
     "output_type": "stream",
     "text": [
      "<class 'pandas.core.frame.DataFrame'>\n",
      "RangeIndex: 90189 entries, 0 to 90188\n",
      "Data columns (total 5 columns):\n",
      " #   Column          Non-Null Count  Dtype \n",
      "---  ------          --------------  ----- \n",
      " 0   userid          90189 non-null  int64 \n",
      " 1   version         90189 non-null  object\n",
      " 2   sum_gamerounds  90189 non-null  int64 \n",
      " 3   retention_1     90189 non-null  bool  \n",
      " 4   retention_7     90189 non-null  bool  \n",
      "dtypes: bool(2), int64(2), object(1)\n",
      "memory usage: 2.2+ MB\n"
     ]
    }
   ],
   "source": [
    "# TRANSFORMACIÓN\n",
    "\n",
    "data.info()"
   ]
  },
  {
   "cell_type": "code",
   "execution_count": 4,
   "id": "b58d62cf",
   "metadata": {},
   "outputs": [
    {
     "data": {
      "text/plain": [
       "0"
      ]
     },
     "execution_count": 4,
     "metadata": {},
     "output_type": "execute_result"
    }
   ],
   "source": [
    "# Comprobamos si existen usuarios presentes en las dos versiones (esto supondría un problema a la hora de establecer el grupo de control).\n",
    "\n",
    "users = data.userid.value_counts(ascending=False)\n",
    "\n",
    "multi_users = users[users>1].count()\n",
    "\n",
    "multi_users\n",
    "\n",
    "# Observamos que no existen usuarios duplicados (todos están en una versión u otra, pero no en las dos)"
   ]
  },
  {
   "cell_type": "code",
   "execution_count": 5,
   "id": "38f422cb",
   "metadata": {},
   "outputs": [],
   "source": [
    "# MUESTREO"
   ]
  },
  {
   "cell_type": "code",
   "execution_count": 6,
   "id": "1b3e1d9c",
   "metadata": {
    "scrolled": true
   },
   "outputs": [
    {
     "data": {
      "text/plain": [
       "gate_40    45489\n",
       "gate_30    44700\n",
       "Name: version, dtype: int64"
      ]
     },
     "execution_count": 6,
     "metadata": {},
     "output_type": "execute_result"
    }
   ],
   "source": [
    "# Tomaremos muestras del mayor tamaño posible según los datos disponibles.\n",
    "\n",
    "data.version.value_counts()\n",
    "\n",
    "# Como la cantidad de registros para cada versión no es igual, tomaremos una muestra aleatoria de gate_40 para que tenga el mismo tamaño que gate_30 (44.700)."
   ]
  },
  {
   "cell_type": "code",
   "execution_count": 7,
   "id": "40556436",
   "metadata": {},
   "outputs": [
    {
     "data": {
      "text/html": [
       "<div>\n",
       "<style scoped>\n",
       "    .dataframe tbody tr th:only-of-type {\n",
       "        vertical-align: middle;\n",
       "    }\n",
       "\n",
       "    .dataframe tbody tr th {\n",
       "        vertical-align: top;\n",
       "    }\n",
       "\n",
       "    .dataframe thead th {\n",
       "        text-align: right;\n",
       "    }\n",
       "</style>\n",
       "<table border=\"1\" class=\"dataframe\">\n",
       "  <thead>\n",
       "    <tr style=\"text-align: right;\">\n",
       "      <th></th>\n",
       "      <th>userid</th>\n",
       "      <th>version</th>\n",
       "      <th>sum_gamerounds</th>\n",
       "      <th>retention_1</th>\n",
       "      <th>retention_7</th>\n",
       "    </tr>\n",
       "  </thead>\n",
       "  <tbody>\n",
       "    <tr>\n",
       "      <th>40554</th>\n",
       "      <td>4486568</td>\n",
       "      <td>gate_40</td>\n",
       "      <td>1</td>\n",
       "      <td>False</td>\n",
       "      <td>False</td>\n",
       "    </tr>\n",
       "    <tr>\n",
       "      <th>83613</th>\n",
       "      <td>9265806</td>\n",
       "      <td>gate_40</td>\n",
       "      <td>10</td>\n",
       "      <td>False</td>\n",
       "      <td>False</td>\n",
       "    </tr>\n",
       "    <tr>\n",
       "      <th>71485</th>\n",
       "      <td>7922317</td>\n",
       "      <td>gate_40</td>\n",
       "      <td>12</td>\n",
       "      <td>False</td>\n",
       "      <td>False</td>\n",
       "    </tr>\n",
       "    <tr>\n",
       "      <th>21925</th>\n",
       "      <td>2440769</td>\n",
       "      <td>gate_40</td>\n",
       "      <td>46</td>\n",
       "      <td>True</td>\n",
       "      <td>False</td>\n",
       "    </tr>\n",
       "    <tr>\n",
       "      <th>12383</th>\n",
       "      <td>1370609</td>\n",
       "      <td>gate_40</td>\n",
       "      <td>10</td>\n",
       "      <td>False</td>\n",
       "      <td>False</td>\n",
       "    </tr>\n",
       "  </tbody>\n",
       "</table>\n",
       "</div>"
      ],
      "text/plain": [
       "        userid  version  sum_gamerounds  retention_1  retention_7\n",
       "40554  4486568  gate_40               1        False        False\n",
       "83613  9265806  gate_40              10        False        False\n",
       "71485  7922317  gate_40              12        False        False\n",
       "21925  2440769  gate_40              46         True        False\n",
       "12383  1370609  gate_40              10        False        False"
      ]
     },
     "execution_count": 7,
     "metadata": {},
     "output_type": "execute_result"
    }
   ],
   "source": [
    "tratamiento = data[data.version == 'gate_40'].sample(n = 44700, random_state = 42)\n",
    "\n",
    "tratamiento.head()"
   ]
  },
  {
   "cell_type": "code",
   "execution_count": 8,
   "id": "379df549",
   "metadata": {},
   "outputs": [
    {
     "data": {
      "text/html": [
       "<div>\n",
       "<style scoped>\n",
       "    .dataframe tbody tr th:only-of-type {\n",
       "        vertical-align: middle;\n",
       "    }\n",
       "\n",
       "    .dataframe tbody tr th {\n",
       "        vertical-align: top;\n",
       "    }\n",
       "\n",
       "    .dataframe thead th {\n",
       "        text-align: right;\n",
       "    }\n",
       "</style>\n",
       "<table border=\"1\" class=\"dataframe\">\n",
       "  <thead>\n",
       "    <tr style=\"text-align: right;\">\n",
       "      <th></th>\n",
       "      <th>userid</th>\n",
       "      <th>version</th>\n",
       "      <th>sum_gamerounds</th>\n",
       "      <th>retention_1</th>\n",
       "      <th>retention_7</th>\n",
       "    </tr>\n",
       "  </thead>\n",
       "  <tbody>\n",
       "    <tr>\n",
       "      <th>0</th>\n",
       "      <td>116</td>\n",
       "      <td>gate_30</td>\n",
       "      <td>3</td>\n",
       "      <td>False</td>\n",
       "      <td>False</td>\n",
       "    </tr>\n",
       "    <tr>\n",
       "      <th>1</th>\n",
       "      <td>337</td>\n",
       "      <td>gate_30</td>\n",
       "      <td>38</td>\n",
       "      <td>True</td>\n",
       "      <td>False</td>\n",
       "    </tr>\n",
       "    <tr>\n",
       "      <th>6</th>\n",
       "      <td>1066</td>\n",
       "      <td>gate_30</td>\n",
       "      <td>0</td>\n",
       "      <td>False</td>\n",
       "      <td>False</td>\n",
       "    </tr>\n",
       "    <tr>\n",
       "      <th>11</th>\n",
       "      <td>2101</td>\n",
       "      <td>gate_30</td>\n",
       "      <td>0</td>\n",
       "      <td>False</td>\n",
       "      <td>False</td>\n",
       "    </tr>\n",
       "    <tr>\n",
       "      <th>13</th>\n",
       "      <td>2179</td>\n",
       "      <td>gate_30</td>\n",
       "      <td>39</td>\n",
       "      <td>True</td>\n",
       "      <td>False</td>\n",
       "    </tr>\n",
       "  </tbody>\n",
       "</table>\n",
       "</div>"
      ],
      "text/plain": [
       "    userid  version  sum_gamerounds  retention_1  retention_7\n",
       "0      116  gate_30               3        False        False\n",
       "1      337  gate_30              38         True        False\n",
       "6     1066  gate_30               0        False        False\n",
       "11    2101  gate_30               0        False        False\n",
       "13    2179  gate_30              39         True        False"
      ]
     },
     "execution_count": 8,
     "metadata": {},
     "output_type": "execute_result"
    }
   ],
   "source": [
    "control = data[data.version=='gate_30']\n",
    "\n",
    "control.head()"
   ]
  },
  {
   "cell_type": "code",
   "execution_count": 9,
   "id": "991393d3",
   "metadata": {},
   "outputs": [
    {
     "data": {
      "text/plain": [
       "gate_30    44700\n",
       "gate_40    44700\n",
       "Name: version, dtype: int64"
      ]
     },
     "execution_count": 9,
     "metadata": {},
     "output_type": "execute_result"
    }
   ],
   "source": [
    "ab_test = pd.concat([control, tratamiento], axis=0)\n",
    "\n",
    "ab_test.version.value_counts()\n",
    "\n",
    "# Ya tenemos dos muestras del mismo tamaño."
   ]
  },
  {
   "cell_type": "code",
   "execution_count": 10,
   "id": "1061c493",
   "metadata": {},
   "outputs": [
    {
     "data": {
      "text/html": [
       "<div>\n",
       "<style scoped>\n",
       "    .dataframe tbody tr th:only-of-type {\n",
       "        vertical-align: middle;\n",
       "    }\n",
       "\n",
       "    .dataframe tbody tr th {\n",
       "        vertical-align: top;\n",
       "    }\n",
       "\n",
       "    .dataframe thead th {\n",
       "        text-align: right;\n",
       "    }\n",
       "</style>\n",
       "<table border=\"1\" class=\"dataframe\">\n",
       "  <thead>\n",
       "    <tr style=\"text-align: right;\">\n",
       "      <th></th>\n",
       "      <th>userid</th>\n",
       "      <th>version</th>\n",
       "      <th>sum_gamerounds</th>\n",
       "      <th>retention_1</th>\n",
       "      <th>retention_7</th>\n",
       "    </tr>\n",
       "  </thead>\n",
       "  <tbody>\n",
       "    <tr>\n",
       "      <th>0</th>\n",
       "      <td>116</td>\n",
       "      <td>gate_30</td>\n",
       "      <td>3</td>\n",
       "      <td>False</td>\n",
       "      <td>False</td>\n",
       "    </tr>\n",
       "    <tr>\n",
       "      <th>1</th>\n",
       "      <td>337</td>\n",
       "      <td>gate_30</td>\n",
       "      <td>38</td>\n",
       "      <td>True</td>\n",
       "      <td>False</td>\n",
       "    </tr>\n",
       "    <tr>\n",
       "      <th>2</th>\n",
       "      <td>1066</td>\n",
       "      <td>gate_30</td>\n",
       "      <td>0</td>\n",
       "      <td>False</td>\n",
       "      <td>False</td>\n",
       "    </tr>\n",
       "    <tr>\n",
       "      <th>3</th>\n",
       "      <td>2101</td>\n",
       "      <td>gate_30</td>\n",
       "      <td>0</td>\n",
       "      <td>False</td>\n",
       "      <td>False</td>\n",
       "    </tr>\n",
       "    <tr>\n",
       "      <th>4</th>\n",
       "      <td>2179</td>\n",
       "      <td>gate_30</td>\n",
       "      <td>39</td>\n",
       "      <td>True</td>\n",
       "      <td>False</td>\n",
       "    </tr>\n",
       "  </tbody>\n",
       "</table>\n",
       "</div>"
      ],
      "text/plain": [
       "   userid  version  sum_gamerounds  retention_1  retention_7\n",
       "0     116  gate_30               3        False        False\n",
       "1     337  gate_30              38         True        False\n",
       "2    1066  gate_30               0        False        False\n",
       "3    2101  gate_30               0        False        False\n",
       "4    2179  gate_30              39         True        False"
      ]
     },
     "execution_count": 10,
     "metadata": {},
     "output_type": "execute_result"
    }
   ],
   "source": [
    "ab_test.reset_index(drop=True, inplace=True)\n",
    "\n",
    "ab_test.head()"
   ]
  },
  {
   "cell_type": "code",
   "execution_count": 11,
   "id": "5b90c429",
   "metadata": {},
   "outputs": [],
   "source": [
    "# TESTEO para retention_1\n",
    "\n",
    "retention = ab_test.groupby('version')['retention_1']\n",
    "\n",
    "std=lambda x: np.std(x, ddof=0)             # std poblacional\n",
    "error_std=lambda x: stats.sem(x, ddof=0)    # error estandard (std/sqrt(n))\n"
   ]
  },
  {
   "cell_type": "code",
   "execution_count": 12,
   "id": "38c7dde3",
   "metadata": {},
   "outputs": [],
   "source": [
    "retention = retention.agg([np.mean, std, error_std])   # Generamos DataFrame con los valores que nos interesan."
   ]
  },
  {
   "cell_type": "code",
   "execution_count": 13,
   "id": "1a8967b8",
   "metadata": {},
   "outputs": [
    {
     "data": {
      "text/html": [
       "<div>\n",
       "<style scoped>\n",
       "    .dataframe tbody tr th:only-of-type {\n",
       "        vertical-align: middle;\n",
       "    }\n",
       "\n",
       "    .dataframe tbody tr th {\n",
       "        vertical-align: top;\n",
       "    }\n",
       "\n",
       "    .dataframe thead th {\n",
       "        text-align: right;\n",
       "    }\n",
       "</style>\n",
       "<table border=\"1\" class=\"dataframe\">\n",
       "  <thead>\n",
       "    <tr style=\"text-align: right;\">\n",
       "      <th></th>\n",
       "      <th>conv_rate</th>\n",
       "      <th>std</th>\n",
       "      <th>error_std</th>\n",
       "    </tr>\n",
       "    <tr>\n",
       "      <th>version</th>\n",
       "      <th></th>\n",
       "      <th></th>\n",
       "      <th></th>\n",
       "    </tr>\n",
       "  </thead>\n",
       "  <tbody>\n",
       "    <tr>\n",
       "      <th>gate_30</th>\n",
       "      <td>0.448188</td>\n",
       "      <td>0.497308</td>\n",
       "      <td>0.002352</td>\n",
       "    </tr>\n",
       "    <tr>\n",
       "      <th>gate_40</th>\n",
       "      <td>0.442573</td>\n",
       "      <td>0.496691</td>\n",
       "      <td>0.002349</td>\n",
       "    </tr>\n",
       "  </tbody>\n",
       "</table>\n",
       "</div>"
      ],
      "text/plain": [
       "         conv_rate       std  error_std\n",
       "version                                \n",
       "gate_30   0.448188  0.497308   0.002352\n",
       "gate_40   0.442573  0.496691   0.002349"
      ]
     },
     "execution_count": 13,
     "metadata": {},
     "output_type": "execute_result"
    }
   ],
   "source": [
    "retention.columns=['conv_rate', 'std', 'error_std']   # Cambiamos los nombres de columnas.\n",
    "\n",
    "retention"
   ]
  },
  {
   "cell_type": "code",
   "execution_count": 14,
   "id": "f73b690e",
   "metadata": {
    "scrolled": true
   },
   "outputs": [
    {
     "data": {
      "text/html": [
       "<style type=\"text/css\">\n",
       "</style>\n",
       "<table id=\"T_01357_\">\n",
       "  <thead>\n",
       "    <tr>\n",
       "      <th class=\"blank level0\" >&nbsp;</th>\n",
       "      <th class=\"col_heading level0 col0\" >conv_rate</th>\n",
       "      <th class=\"col_heading level0 col1\" >std</th>\n",
       "      <th class=\"col_heading level0 col2\" >error_std</th>\n",
       "    </tr>\n",
       "    <tr>\n",
       "      <th class=\"index_name level0\" >version</th>\n",
       "      <th class=\"blank col0\" >&nbsp;</th>\n",
       "      <th class=\"blank col1\" >&nbsp;</th>\n",
       "      <th class=\"blank col2\" >&nbsp;</th>\n",
       "    </tr>\n",
       "  </thead>\n",
       "  <tbody>\n",
       "    <tr>\n",
       "      <th id=\"T_01357_level0_row0\" class=\"row_heading level0 row0\" >gate_30</th>\n",
       "      <td id=\"T_01357_row0_col0\" class=\"data row0 col0\" >0.448</td>\n",
       "      <td id=\"T_01357_row0_col1\" class=\"data row0 col1\" >0.497</td>\n",
       "      <td id=\"T_01357_row0_col2\" class=\"data row0 col2\" >0.002</td>\n",
       "    </tr>\n",
       "    <tr>\n",
       "      <th id=\"T_01357_level0_row1\" class=\"row_heading level0 row1\" >gate_40</th>\n",
       "      <td id=\"T_01357_row1_col0\" class=\"data row1 col0\" >0.443</td>\n",
       "      <td id=\"T_01357_row1_col1\" class=\"data row1 col1\" >0.497</td>\n",
       "      <td id=\"T_01357_row1_col2\" class=\"data row1 col2\" >0.002</td>\n",
       "    </tr>\n",
       "  </tbody>\n",
       "</table>\n"
      ],
      "text/plain": [
       "<pandas.io.formats.style.Styler at 0x7f107dbf0280>"
      ]
     },
     "execution_count": 14,
     "metadata": {},
     "output_type": "execute_result"
    }
   ],
   "source": [
    "retention.style.format('{:.3f}')   # Mostramos los valores con tres decimales."
   ]
  },
  {
   "cell_type": "code",
   "execution_count": 15,
   "id": "062f2d5b",
   "metadata": {},
   "outputs": [
    {
     "data": {
      "text/plain": [
       "'Observamos que la diferencia en la retención es muy escasa y, además, la retención en el grupo de control es algo superior que en el de tratamiento.\\n\\nEn principio podríamos descartar una mejora en la retención con las modificaciones propuestas (grupo de tratamiento).\\n\\nMás allá de que esta diferencia sea estadísticamente significativa o no, la introdicción de los cambios parece perjudicial para el negocio.\\n\\nNo obstante, testearemos significación esta diferencia para asegurarnos de la fiabilidad de los datos y completar el proceso como es debido.'"
      ]
     },
     "execution_count": 15,
     "metadata": {},
     "output_type": "execute_result"
    },
    {
     "data": {
      "image/png": "[encoded data removed]",
      "text/plain": [
       "<Figure size 576x432 with 1 Axes>"
      ]
     },
     "metadata": {
      "needs_background": "light"
     },
     "output_type": "display_data"
    }
   ],
   "source": [
    "# Visualizamos los datos de la población.\n",
    "\n",
    "plt.figure(figsize=(8,6))\n",
    "\n",
    "sns.barplot(x=ab_test['version'], \n",
    "            y=ab_test['retention_1'])\n",
    "\n",
    "plt.title('Tasa de retención por grupo')\n",
    "plt.xlabel('Grupo')\n",
    "plt.ylabel('Retenido (proporción)');\n",
    "\n",
    "\n",
    "'''Observamos que la diferencia en la retención es muy escasa y, además, la retención en el grupo de control es algo superior que en el de tratamiento.\n",
    "\n",
    "En principio podríamos descartar una mejora en la retención con las modificaciones propuestas (grupo de tratamiento).\n",
    "\n",
    "Más allá de que esta diferencia sea estadísticamente significativa o no, la introducción de los cambios parece perjudicial para el negocio.\n",
    "\n",
    "No obstante, testearemos la significación de esta diferencia para asegurarnos de la fiabilidad de los datos y completar el proceso como es debido.'''"
   ]
  },
  {
   "cell_type": "code",
   "execution_count": 66,
   "id": "48e4db05",
   "metadata": {},
   "outputs": [],
   "source": [
    "# Testeo de HIPÓTESIS para retention_1\n",
    "\n",
    "control_retention = ab_test[ab_test.version=='gate_30']['retention_1']        # Extraemos los valores de retención para cada grupo.\n",
    "tratamiento_retention = ab_test[ab_test.version=='gate_40']['retention_1']\n"
   ]
  },
  {
   "cell_type": "code",
   "execution_count": 67,
   "id": "fa14900f",
   "metadata": {},
   "outputs": [
    {
     "data": {
      "text/plain": [
       "(1.6890473061671334, 0.09121036470055781)"
      ]
     },
     "execution_count": 67,
     "metadata": {},
     "output_type": "execute_result"
    }
   ],
   "source": [
    "n_con = control_retention.count()        # cantidad de observaciones por grupo.\n",
    "n_trat = tratamiento_retention.count()\n",
    "\n",
    "retentions = [control_retention.sum(), tratamiento_retention.sum()]  # cantidad de retenciones por grupo (retention_1 = True).\n",
    "\n",
    "observaciones = [n_con, n_trat] # cuenta N de cada grupo (44.700 por grupo, tal y como definimos en el muestreo)\n",
    "\n",
    "z_score, p_value = proportions_ztest(retentions, nobs=observaciones)\n",
    "\n",
    "z_score, p_value"
   ]
  },
  {
   "cell_type": "code",
   "execution_count": 68,
   "id": "e412e444",
   "metadata": {},
   "outputs": [
    {
     "name": "stdout",
     "output_type": "stream",
     "text": [
      "Control [0.44357771693415227, 0.4527981219920222]\n",
      "Tratamiento [0.43796822516446715, 0.4471771887057789]\n"
     ]
    }
   ],
   "source": [
    "# Estudiamos los intervalos de confianza:\n",
    "\n",
    "(control_a, tratamiento_a), (control_b, tratamiento_b) = proportion_confint(retentions, \n",
    "                                                                           nobs=observaciones,\n",
    "                                                                           alpha=0.05)\n",
    "\n",
    "# se definen las dos tuplas de salida del confint\n",
    "\n",
    "print('Control', [control_a, control_b])\n",
    "print('Tratamiento', [tratamiento_a, tratamiento_b])\n",
    "\n",
    "# Observamos también mediante los intervalos como los cambios no mejorarán la tasa de retención."
   ]
  },
  {
   "cell_type": "code",
   "execution_count": 33,
   "id": "09a47d90",
   "metadata": {},
   "outputs": [
    {
     "data": {
      "text/plain": [
       "' Obtenemos un p-valor demasiado elevado. En principio trabajamos con un nivel de confianza del 95% y, como el p-valor es superior a 0,05; no podemos rechazar la hipótesis nula.\\n\\nNo rechazamos hipótesis nula, por lo que no podemos afirmar que la diferencia existente sea estadísticamente significativa.\\n\\nCONCLUSIÓN retention_1:\\n    - El grupo de tratamiento ofrece un ratio de retención inferior al grupo de control.\\n    - Esta diferencia no es estadísticamente significativa.\\n    - Los resultados de retención en un periodo de tiempo de un día bajo el nuevo sistema gate_40 no son satisfactorios. Desde esta perspectiva se recomieda no implementar los cambios. '"
      ]
     },
     "execution_count": 33,
     "metadata": {},
     "output_type": "execute_result"
    }
   ],
   "source": [
    "''' Obtenemos un p-valor demasiado elevado. En principio trabajamos con un nivel de confianza del 95% y, como el p-valor es superior a 0,05; no podemos rechazar la hipótesis nula.\n",
    "\n",
    "No rechazamos hipótesis nula, por lo que no podemos afirmar que la diferencia existente sea estadísticamente significativa.\n",
    "\n",
    "CONCLUSIÓN retention_1:\n",
    "    - El grupo de tratamiento ofrece un ratio de retención inferior al grupo de control.\n",
    "    - Esta diferencia no es estadísticamente significativa, por lo que ni siquiera podemos confirmat una diferencia real en la tasa de retención del grupo de tratamiento.\n",
    "    - Los resultados de retención en un periodo de tiempo de un día bajo el nuevo sistema gate_40 no son satisfactorios. Desde esta perspectiva se recomieda no implementar los cambios. '''"
   ]
  },
  {
   "cell_type": "code",
   "execution_count": 16,
   "id": "a048a711",
   "metadata": {},
   "outputs": [],
   "source": [
    "# TESTEO para retention_7\n",
    "\n",
    "# Aunque los resultados para retention_1 no son satisfactorios, testearemos también la retención a 7 días para estudiar más a fondo los resultados del grupo de tratamiento."
   ]
  },
  {
   "cell_type": "code",
   "execution_count": 38,
   "id": "4af7777d",
   "metadata": {},
   "outputs": [],
   "source": [
    "retention_7 = ab_test.groupby('version')['retention_7']\n",
    "\n",
    "std=lambda x: np.std(x, ddof=0)             # std poblacional\n",
    "error_std=lambda x: stats.sem(x, ddof=0)    # error estandard (std/sqrt(n))\n"
   ]
  },
  {
   "cell_type": "code",
   "execution_count": 39,
   "id": "7d09e6c5",
   "metadata": {},
   "outputs": [],
   "source": [
    "retention_7 = retention_7.agg([np.mean, std, error_std])   # Generamos DataFrame con los valores que nos interesan."
   ]
  },
  {
   "cell_type": "code",
   "execution_count": 40,
   "id": "fd307b22",
   "metadata": {},
   "outputs": [
    {
     "data": {
      "text/html": [
       "<div>\n",
       "<style scoped>\n",
       "    .dataframe tbody tr th:only-of-type {\n",
       "        vertical-align: middle;\n",
       "    }\n",
       "\n",
       "    .dataframe tbody tr th {\n",
       "        vertical-align: top;\n",
       "    }\n",
       "\n",
       "    .dataframe thead th {\n",
       "        text-align: right;\n",
       "    }\n",
       "</style>\n",
       "<table border=\"1\" class=\"dataframe\">\n",
       "  <thead>\n",
       "    <tr style=\"text-align: right;\">\n",
       "      <th></th>\n",
       "      <th>conv_rate</th>\n",
       "      <th>std</th>\n",
       "      <th>error_std</th>\n",
       "    </tr>\n",
       "    <tr>\n",
       "      <th>version</th>\n",
       "      <th></th>\n",
       "      <th></th>\n",
       "      <th></th>\n",
       "    </tr>\n",
       "  </thead>\n",
       "  <tbody>\n",
       "    <tr>\n",
       "      <th>gate_30</th>\n",
       "      <td>0.190201</td>\n",
       "      <td>0.392460</td>\n",
       "      <td>0.001856</td>\n",
       "    </tr>\n",
       "    <tr>\n",
       "      <th>gate_40</th>\n",
       "      <td>0.182438</td>\n",
       "      <td>0.386205</td>\n",
       "      <td>0.001827</td>\n",
       "    </tr>\n",
       "  </tbody>\n",
       "</table>\n",
       "</div>"
      ],
      "text/plain": [
       "         conv_rate       std  error_std\n",
       "version                                \n",
       "gate_30   0.190201  0.392460   0.001856\n",
       "gate_40   0.182438  0.386205   0.001827"
      ]
     },
     "execution_count": 40,
     "metadata": {},
     "output_type": "execute_result"
    }
   ],
   "source": [
    "retention_7.columns=['conv_rate', 'std', 'error_std']   # Cambiamos los nombres de columnas.\n",
    "\n",
    "retention_7"
   ]
  },
  {
   "cell_type": "code",
   "execution_count": 41,
   "id": "bd5e8b5e",
   "metadata": {
    "scrolled": true
   },
   "outputs": [
    {
     "data": {
      "text/html": [
       "<style type=\"text/css\">\n",
       "</style>\n",
       "<table id=\"T_e6a7a_\">\n",
       "  <thead>\n",
       "    <tr>\n",
       "      <th class=\"blank level0\" >&nbsp;</th>\n",
       "      <th class=\"col_heading level0 col0\" >conv_rate</th>\n",
       "      <th class=\"col_heading level0 col1\" >std</th>\n",
       "      <th class=\"col_heading level0 col2\" >error_std</th>\n",
       "    </tr>\n",
       "    <tr>\n",
       "      <th class=\"index_name level0\" >version</th>\n",
       "      <th class=\"blank col0\" >&nbsp;</th>\n",
       "      <th class=\"blank col1\" >&nbsp;</th>\n",
       "      <th class=\"blank col2\" >&nbsp;</th>\n",
       "    </tr>\n",
       "  </thead>\n",
       "  <tbody>\n",
       "    <tr>\n",
       "      <th id=\"T_e6a7a_level0_row0\" class=\"row_heading level0 row0\" >gate_30</th>\n",
       "      <td id=\"T_e6a7a_row0_col0\" class=\"data row0 col0\" >0.190</td>\n",
       "      <td id=\"T_e6a7a_row0_col1\" class=\"data row0 col1\" >0.392</td>\n",
       "      <td id=\"T_e6a7a_row0_col2\" class=\"data row0 col2\" >0.002</td>\n",
       "    </tr>\n",
       "    <tr>\n",
       "      <th id=\"T_e6a7a_level0_row1\" class=\"row_heading level0 row1\" >gate_40</th>\n",
       "      <td id=\"T_e6a7a_row1_col0\" class=\"data row1 col0\" >0.182</td>\n",
       "      <td id=\"T_e6a7a_row1_col1\" class=\"data row1 col1\" >0.386</td>\n",
       "      <td id=\"T_e6a7a_row1_col2\" class=\"data row1 col2\" >0.002</td>\n",
       "    </tr>\n",
       "  </tbody>\n",
       "</table>\n"
      ],
      "text/plain": [
       "<pandas.io.formats.style.Styler at 0x7f107c2a2b20>"
      ]
     },
     "execution_count": 41,
     "metadata": {},
     "output_type": "execute_result"
    }
   ],
   "source": [
    "retention_7.style.format('{:.3f}')   # Mostramos los valores con tres decimales."
   ]
  },
  {
   "cell_type": "code",
   "execution_count": 42,
   "id": "07ac95ec",
   "metadata": {
    "scrolled": true
   },
   "outputs": [
    {
     "data": {
      "image/png": "[encoded data removed]",
      "text/plain": [
       "<Figure size 576x432 with 1 Axes>"
      ]
     },
     "metadata": {
      "needs_background": "light"
     },
     "output_type": "display_data"
    }
   ],
   "source": [
    "# Visualizamos los datos de la población.\n",
    "\n",
    "plt.figure(figsize=(8,6))\n",
    "\n",
    "sns.barplot(x=ab_test['version'], \n",
    "            y=ab_test['retention_7'])\n",
    "\n",
    "plt.title('Tasa de retención por grupo')\n",
    "plt.xlabel('Grupo')\n",
    "plt.ylabel('Retenido (proporción)');\n",
    "\n",
    "''' Ocurre algo similar que con retention_1, pero en este caso la diferencia (a la baja) en la tasa de retención es aún mayor.\n",
    "\n",
    "De nuevo, a priori podríamos descartar una mejora en la retención con las modificaciones propuestas (grupo de tratamiento).\n",
    "\n",
    "Más allá de que esta diferencia sea estadísticamente significativa o no, la introducción de los cambios parece perjudicial para el negocio.\n",
    "\n",
    "No obstante, testearemos la significación de esta diferencia para asegurarnos de la fiabilidad de los datos y completar el proceso como es debido.'''"
   ]
  },
  {
   "cell_type": "code",
   "execution_count": 69,
   "id": "77420ed3",
   "metadata": {},
   "outputs": [],
   "source": [
    "# Testeo de HIPÓTESIS para retention_7\n",
    "\n",
    "control_retention_7 = ab_test[ab_test.version=='gate_30']['retention_7']        # Extraemos los valores de retención para cada grupo.\n",
    "tratamiento_retention_7 = ab_test[ab_test.version=='gate_40']['retention_7']"
   ]
  },
  {
   "cell_type": "code",
   "execution_count": 70,
   "id": "bb44679e",
   "metadata": {},
   "outputs": [
    {
     "data": {
      "text/plain": [
       "(2.9806037079284167, 0.002876808101694685)"
      ]
     },
     "execution_count": 70,
     "metadata": {},
     "output_type": "execute_result"
    }
   ],
   "source": [
    "n_con_7 = control_retention_7.count()        # cantidad de observaciones por grupo.\n",
    "n_trat_7 = tratamiento_retention_7.count()\n",
    "\n",
    "retentions_7 = [control_retention_7.sum(), tratamiento_retention_7.sum()]  # cantidad de retenciones por grupo (retention_1 = True).\n",
    "\n",
    "observaciones_7 = [n_con, n_trat] # cuenta N de cada grupo (44.700 por grupo, tal y como definimos en el muestreo)\n",
    "\n",
    "z_score, p_value = proportions_ztest(retentions_7, nobs=observaciones_7)\n",
    "\n",
    "z_score, p_value"
   ]
  },
  {
   "cell_type": "code",
   "execution_count": null,
   "id": "d6153f73",
   "metadata": {},
   "outputs": [],
   "source": [
    "''' En principio trabajamos con un nivel de confianza del 95%. Al obtener un p-valor inferior a 0.05 podemos rechazar la hipótesis nula.\n",
    "\n",
    "Rechazamos que no existe una diferencia significativa en la tasa de retención del grupo de tratamiento frente al grupo de control.\n",
    "\n",
    "Sin embargo, esta diferencia no es la deseada. El grupo de tratamiento ofrece una tasa de retención a los 7 días inferior al grupo de control.\n",
    "\n",
    "Es decir, es cierto que los cambios implican una diferencia significativa en los resultados de retención (a 7 días), pero esta diferencia es a peor.\n",
    "\n",
    "Por tanto, desde esta perspectiva tampoco recomendaríamos implantar los cambios testeados (gate_40).'''"
   ]
  },
  {
   "cell_type": "code",
   "execution_count": 71,
   "id": "15536193",
   "metadata": {},
   "outputs": [
    {
     "name": "stdout",
     "output_type": "stream",
     "text": [
      "Control [0.18656311652199903, 0.19383956804175934]\n",
      "Tratamiento [0.17885823353926938, 0.1860187239551378]\n"
     ]
    }
   ],
   "source": [
    "# Estudiamos los intervalos de confianza:\n",
    "\n",
    "(control_a, tratamiento_a), (control_b, tratamiento_b) = proportion_confint(retentions_7, \n",
    "                                                                           nobs=observaciones_7,\n",
    "                                                                           alpha=0.05)\n",
    "\n",
    "# se definen las dos tuplas de salida del confint\n",
    "\n",
    "print('Control', [control_a, control_b])\n",
    "print('Tratamiento', [tratamiento_a, tratamiento_b])\n",
    "\n",
    "# Observamos también mediante los intervalos como los cambios no mejorarán la tasa de retención."
   ]
  },
  {
   "cell_type": "code",
   "execution_count": 17,
   "id": "cooked-magnet",
   "metadata": {},
   "outputs": [],
   "source": [
    "# CONCLUSIONES FINALES:\n",
    "\n",
    "'''En base a los resultados de los tests desarrollados, podemos afirmar que los cambios propuestos no deben ser implementados.\n",
    "\n",
    "Los cambios en los resultados de retención en el grupo de tratamiento son a la baja, es decir, la tasa de retención disminuye.\n",
    "\n",
    "En el caso de la retención a un día, esta diferencia no es estadísticamente significativa, por lo que no podemos afirmar que los cambios producidos impacten en la tasa de retención (bajo un nivel de confianza del 95% o superior).\n",
    "Encontramos una diferencia desfavorable en la tasa de retención, pero no podemos afirmar que esta diferencia sea significativa.\n",
    "En cualquier caso, no encontramos una diferencia favorable (signicativa o no), por lo que no podemos recomendar la implantación de los cambios (desde el punto de vista de la tasa de conversión a un día).\n",
    "\n",
    "En cuanto a la retención a siete días, sí que encontramos una diferencia estadísticamente significativa en los resultados de conversión. \n",
    "Sin embargo, esta diferencia supone un escenario menos favorable para el negocio (tasa de retención más baja).\n",
    "A partir de estos resultados, podemos afirmar que existe una diferencia significativa desfavorable y debemos recomentar que no se implementen los cambios (desde el punto de vusta de la tasa de conversión a siete días).\n",
    "\n",
    "En conclusión, no recomendamos implementar los cambios propuestos.\n",
    "Si esto se hiciera, podemos esperar una bajada en la retención a siete días (existe diferencia desfavorable y es significativa) y no podemos afirmar que vayan a producirse cambios en la retención a un día (existe diferencia desfavorable, aunque no es significativa).\n",
    "Es decir, según es test podemos esperar cambios negativos en la retención a 7 días y no podemos esperar cambios significativos en la retención a un día.\n",
    "'''"
   ]
  }
 ],
 "metadata": {
  "finalized": {
   "timestamp": 1642857010293,
   "trusted": true
  },
  "kernelspec": {
   "display_name": "Python 3 (ipykernel)",
   "language": "python",
   "name": "python3"
  },
  "language_info": {
   "codemirror_mode": {
    "name": "ipython",
    "version": 3
   },
   "file_extension": ".py",
   "mimetype": "text/x-python",
   "name": "python",
   "nbconvert_exporter": "python",
   "pygments_lexer": "ipython3",
   "version": "3.9.7"
  },
  "toc": {
   "base_numbering": 1,
   "nav_menu": {},
   "number_sections": true,
   "sideBar": true,
   "skip_h1_title": false,
   "title_cell": "Table of Contents",
   "title_sidebar": "Contents",
   "toc_cell": true,
   "toc_position": {},
   "toc_section_display": true,
   "toc_window_display": false
  },
  "varInspector": {
   "cols": {
    "lenName": 16,
    "lenType": 16,
    "lenVar": 40
   },
   "kernels_config": {
    "python": {
     "delete_cmd_postfix": "",
     "delete_cmd_prefix": "del ",
     "library": "var_list.py",
     "varRefreshCmd": "print(var_dic_list())"
    },
    "r": {
     "delete_cmd_postfix": ") ",
     "delete_cmd_prefix": "rm(",
     "library": "var_list.r",
     "varRefreshCmd": "cat(var_dic_list()) "
    }
   },
   "types_to_exclude": [
    "module",
    "function",
    "builtin_function_or_method",
    "instance",
    "_Feature"
   ],
   "window_display": false
  }
 },
 "nbformat": 4,
 "nbformat_minor": 5
}
