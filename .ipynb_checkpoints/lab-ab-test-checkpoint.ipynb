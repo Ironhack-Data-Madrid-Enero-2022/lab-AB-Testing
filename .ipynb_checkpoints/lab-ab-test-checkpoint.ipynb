{
 "cells": [
  {
   "cell_type": "markdown",
   "id": "angry-pearl",
   "metadata": {
    "toc": true
   },
   "source": [
    "<h1>Table of Contents<span class=\"tocSkip\"></span></h1>\n",
    "<div class=\"toc\"><ul class=\"toc-item\"><li><span><a href=\"#AB-Testing\" data-toc-modified-id=\"AB-Testing-1\"><span class=\"toc-item-num\">1&nbsp;&nbsp;</span>AB-Testing</a></span></li></ul></div>"
   ]
  },
  {
   "cell_type": "markdown",
   "id": "c92ba6e0",
   "metadata": {},
   "source": [
    "# AB-Testing\n",
    "\n",
    "![cats](images/cats.jpeg)\n",
    "\n",
    "\n",
    "Imaginad que somos los cientificos de datos de la empresa de videojuegos Tactile Entertainment. Los desarrolladores del juego Cookie Cats pretenden introducir un cambio en el juego para aumentar la retencion de los jugadores. En cierto nivel del juego los jugadores se encuentran una puerta que les obliga a esperar o a pagar la app. Actualmente la puerta se encuentra en nivel 30 y se pretende pasar al nivel 40, para comprobar la retencion a 1 y 7 dias. Antes de realizar el cambio definitivo en el juego se raliza un test AB.\n",
    "\n",
    "Los datos estan alojados en `data/cookie_cats.csv`. Nuestro grupo de control sera la version actual `gate_30` y el grupo de tratamiento sera la version `gate_40`. Debemos realizar el test para 1 dia de retencion `retention_1` y para 7 dias `retention_7`."
   ]
  },
  {
   "cell_type": "code",
   "execution_count": 3,
   "id": "ac3b2f52",
   "metadata": {},
   "outputs": [],
   "source": [
    "# librerias\n",
    "\n",
    "import pandas as pd\n",
    "import numpy as np\n",
    "\n",
    "from statsmodels.stats.proportion import proportions_ztest, proportion_confint\n",
    "from scipy.stats import norm, sem\n",
    "\n",
    "import pylab as plt\n",
    "import seaborn as sns"
   ]
  },
  {
   "cell_type": "code",
   "execution_count": 4,
   "id": "7fe515c2",
   "metadata": {},
   "outputs": [],
   "source": [
    "# datos\n",
    "TE_level_trail = pd.read_csv('data/cookie_cats.csv')\n"
   ]
  },
  {
   "cell_type": "code",
   "execution_count": 5,
   "id": "c8900967",
   "metadata": {},
   "outputs": [
    {
     "data": {
      "text/html": [
       "<div>\n",
       "<style scoped>\n",
       "    .dataframe tbody tr th:only-of-type {\n",
       "        vertical-align: middle;\n",
       "    }\n",
       "\n",
       "    .dataframe tbody tr th {\n",
       "        vertical-align: top;\n",
       "    }\n",
       "\n",
       "    .dataframe thead th {\n",
       "        text-align: right;\n",
       "    }\n",
       "</style>\n",
       "<table border=\"1\" class=\"dataframe\">\n",
       "  <thead>\n",
       "    <tr style=\"text-align: right;\">\n",
       "      <th></th>\n",
       "      <th>userid</th>\n",
       "      <th>version</th>\n",
       "      <th>sum_gamerounds</th>\n",
       "      <th>retention_1</th>\n",
       "      <th>retention_7</th>\n",
       "    </tr>\n",
       "  </thead>\n",
       "  <tbody>\n",
       "    <tr>\n",
       "      <th>0</th>\n",
       "      <td>116</td>\n",
       "      <td>gate_30</td>\n",
       "      <td>3</td>\n",
       "      <td>False</td>\n",
       "      <td>False</td>\n",
       "    </tr>\n",
       "    <tr>\n",
       "      <th>1</th>\n",
       "      <td>337</td>\n",
       "      <td>gate_30</td>\n",
       "      <td>38</td>\n",
       "      <td>True</td>\n",
       "      <td>False</td>\n",
       "    </tr>\n",
       "    <tr>\n",
       "      <th>2</th>\n",
       "      <td>377</td>\n",
       "      <td>gate_40</td>\n",
       "      <td>165</td>\n",
       "      <td>True</td>\n",
       "      <td>False</td>\n",
       "    </tr>\n",
       "  </tbody>\n",
       "</table>\n",
       "</div>"
      ],
      "text/plain": [
       "   userid  version  sum_gamerounds  retention_1  retention_7\n",
       "0     116  gate_30               3        False        False\n",
       "1     337  gate_30              38         True        False\n",
       "2     377  gate_40             165         True        False"
      ]
     },
     "execution_count": 5,
     "metadata": {},
     "output_type": "execute_result"
    }
   ],
   "source": [
    "TE_level_trail.head(3)"
   ]
  },
  {
   "cell_type": "code",
   "execution_count": 6,
   "id": "4aa75ab7",
   "metadata": {},
   "outputs": [
    {
     "data": {
      "text/html": [
       "<div>\n",
       "<style scoped>\n",
       "    .dataframe tbody tr th:only-of-type {\n",
       "        vertical-align: middle;\n",
       "    }\n",
       "\n",
       "    .dataframe tbody tr th {\n",
       "        vertical-align: top;\n",
       "    }\n",
       "\n",
       "    .dataframe thead th {\n",
       "        text-align: right;\n",
       "    }\n",
       "</style>\n",
       "<table border=\"1\" class=\"dataframe\">\n",
       "  <thead>\n",
       "    <tr style=\"text-align: right;\">\n",
       "      <th></th>\n",
       "      <th>count</th>\n",
       "      <th>mean</th>\n",
       "      <th>std</th>\n",
       "      <th>min</th>\n",
       "      <th>25%</th>\n",
       "      <th>50%</th>\n",
       "      <th>75%</th>\n",
       "      <th>max</th>\n",
       "    </tr>\n",
       "  </thead>\n",
       "  <tbody>\n",
       "    <tr>\n",
       "      <th>userid</th>\n",
       "      <td>90189.0</td>\n",
       "      <td>4.998412e+06</td>\n",
       "      <td>2.883286e+06</td>\n",
       "      <td>116.0</td>\n",
       "      <td>2512230.0</td>\n",
       "      <td>4995815.0</td>\n",
       "      <td>7496452.0</td>\n",
       "      <td>9999861.0</td>\n",
       "    </tr>\n",
       "    <tr>\n",
       "      <th>sum_gamerounds</th>\n",
       "      <td>90189.0</td>\n",
       "      <td>5.187246e+01</td>\n",
       "      <td>1.950509e+02</td>\n",
       "      <td>0.0</td>\n",
       "      <td>5.0</td>\n",
       "      <td>16.0</td>\n",
       "      <td>51.0</td>\n",
       "      <td>49854.0</td>\n",
       "    </tr>\n",
       "  </tbody>\n",
       "</table>\n",
       "</div>"
      ],
      "text/plain": [
       "                  count          mean           std    min        25%  \\\n",
       "userid          90189.0  4.998412e+06  2.883286e+06  116.0  2512230.0   \n",
       "sum_gamerounds  90189.0  5.187246e+01  1.950509e+02    0.0        5.0   \n",
       "\n",
       "                      50%        75%        max  \n",
       "userid          4995815.0  7496452.0  9999861.0  \n",
       "sum_gamerounds       16.0       51.0    49854.0  "
      ]
     },
     "execution_count": 6,
     "metadata": {},
     "output_type": "execute_result"
    }
   ],
   "source": [
    "TE_level_trail.describe().T"
   ]
  },
  {
   "cell_type": "code",
   "execution_count": 7,
   "id": "c33025ce",
   "metadata": {},
   "outputs": [
    {
     "name": "stdout",
     "output_type": "stream",
     "text": [
      "<class 'pandas.core.frame.DataFrame'>\n",
      "RangeIndex: 90189 entries, 0 to 90188\n",
      "Data columns (total 5 columns):\n",
      " #   Column          Non-Null Count  Dtype \n",
      "---  ------          --------------  ----- \n",
      " 0   userid          90189 non-null  int64 \n",
      " 1   version         90189 non-null  object\n",
      " 2   sum_gamerounds  90189 non-null  int64 \n",
      " 3   retention_1     90189 non-null  bool  \n",
      " 4   retention_7     90189 non-null  bool  \n",
      "dtypes: bool(2), int64(2), object(1)\n",
      "memory usage: 2.2+ MB\n"
     ]
    }
   ],
   "source": [
    "TE_level_trail.info()"
   ]
  },
  {
   "cell_type": "code",
   "execution_count": 8,
   "id": "ad315282",
   "metadata": {
    "scrolled": true
   },
   "outputs": [
    {
     "data": {
      "text/plain": [
       "version  retention_1\n",
       "gate_30  False          24666\n",
       "         True           20034\n",
       "dtype: int64"
      ]
     },
     "execution_count": 8,
     "metadata": {},
     "output_type": "execute_result"
    }
   ],
   "source": [
    "TE_level_trail.loc[(TE_level_trail.version=='gate_30'),['version','retention_1']].value_counts()"
   ]
  },
  {
   "cell_type": "code",
   "execution_count": 9,
   "id": "a8c621b5",
   "metadata": {
    "scrolled": false
   },
   "outputs": [
    {
     "data": {
      "text/html": [
       "<div>\n",
       "<style scoped>\n",
       "    .dataframe tbody tr th:only-of-type {\n",
       "        vertical-align: middle;\n",
       "    }\n",
       "\n",
       "    .dataframe tbody tr th {\n",
       "        vertical-align: top;\n",
       "    }\n",
       "\n",
       "    .dataframe thead th {\n",
       "        text-align: right;\n",
       "    }\n",
       "</style>\n",
       "<table border=\"1\" class=\"dataframe\">\n",
       "  <thead>\n",
       "    <tr style=\"text-align: right;\">\n",
       "      <th></th>\n",
       "      <th>version</th>\n",
       "      <th>retention_7</th>\n",
       "    </tr>\n",
       "  </thead>\n",
       "  <tbody>\n",
       "    <tr>\n",
       "      <th>2</th>\n",
       "      <td>gate_40</td>\n",
       "      <td>False</td>\n",
       "    </tr>\n",
       "    <tr>\n",
       "      <th>3</th>\n",
       "      <td>gate_40</td>\n",
       "      <td>False</td>\n",
       "    </tr>\n",
       "    <tr>\n",
       "      <th>4</th>\n",
       "      <td>gate_40</td>\n",
       "      <td>True</td>\n",
       "    </tr>\n",
       "    <tr>\n",
       "      <th>5</th>\n",
       "      <td>gate_40</td>\n",
       "      <td>True</td>\n",
       "    </tr>\n",
       "    <tr>\n",
       "      <th>7</th>\n",
       "      <td>gate_40</td>\n",
       "      <td>False</td>\n",
       "    </tr>\n",
       "    <tr>\n",
       "      <th>...</th>\n",
       "      <td>...</td>\n",
       "      <td>...</td>\n",
       "    </tr>\n",
       "    <tr>\n",
       "      <th>90181</th>\n",
       "      <td>gate_40</td>\n",
       "      <td>False</td>\n",
       "    </tr>\n",
       "    <tr>\n",
       "      <th>90184</th>\n",
       "      <td>gate_40</td>\n",
       "      <td>False</td>\n",
       "    </tr>\n",
       "    <tr>\n",
       "      <th>90185</th>\n",
       "      <td>gate_40</td>\n",
       "      <td>False</td>\n",
       "    </tr>\n",
       "    <tr>\n",
       "      <th>90187</th>\n",
       "      <td>gate_40</td>\n",
       "      <td>False</td>\n",
       "    </tr>\n",
       "    <tr>\n",
       "      <th>90188</th>\n",
       "      <td>gate_40</td>\n",
       "      <td>False</td>\n",
       "    </tr>\n",
       "  </tbody>\n",
       "</table>\n",
       "<p>45489 rows × 2 columns</p>\n",
       "</div>"
      ],
      "text/plain": [
       "       version  retention_7\n",
       "2      gate_40        False\n",
       "3      gate_40        False\n",
       "4      gate_40         True\n",
       "5      gate_40         True\n",
       "7      gate_40        False\n",
       "...        ...          ...\n",
       "90181  gate_40        False\n",
       "90184  gate_40        False\n",
       "90185  gate_40        False\n",
       "90187  gate_40        False\n",
       "90188  gate_40        False\n",
       "\n",
       "[45489 rows x 2 columns]"
      ]
     },
     "execution_count": 9,
     "metadata": {},
     "output_type": "execute_result"
    }
   ],
   "source": [
    "TE_level_trail.loc[(TE_level_trail.version=='gate_40'),['version','retention_7']]"
   ]
  },
  {
   "cell_type": "code",
   "execution_count": 10,
   "id": "38cc2a26",
   "metadata": {},
   "outputs": [],
   "source": [
    "new_Rtrail = TE_level_trail.loc[(TE_level_trail.version=='gate_40'),['version','retention_7']]"
   ]
  },
  {
   "cell_type": "code",
   "execution_count": 11,
   "id": "e61ffdfc",
   "metadata": {},
   "outputs": [],
   "source": [
    "old_Rtrail = TE_level_trail.loc[(TE_level_trail.version=='gate_30'),['version','retention_1']]"
   ]
  },
  {
   "cell_type": "code",
   "execution_count": 12,
   "id": "059cb6d8",
   "metadata": {},
   "outputs": [
    {
     "data": {
      "text/plain": [
       "<bound method DataFrame.value_counts of         version retention_7\n",
       "count     45489       45489\n",
       "unique        1           2\n",
       "top     gate_40       False\n",
       "freq      45489       37210>"
      ]
     },
     "execution_count": 12,
     "metadata": {},
     "output_type": "execute_result"
    }
   ],
   "source": [
    "new_Rtrail.describe().value_counts"
   ]
  },
  {
   "cell_type": "code",
   "execution_count": 13,
   "id": "72f0a428",
   "metadata": {},
   "outputs": [
    {
     "data": {
      "text/html": [
       "<div>\n",
       "<style scoped>\n",
       "    .dataframe tbody tr th:only-of-type {\n",
       "        vertical-align: middle;\n",
       "    }\n",
       "\n",
       "    .dataframe tbody tr th {\n",
       "        vertical-align: top;\n",
       "    }\n",
       "\n",
       "    .dataframe thead th {\n",
       "        text-align: right;\n",
       "    }\n",
       "</style>\n",
       "<table border=\"1\" class=\"dataframe\">\n",
       "  <thead>\n",
       "    <tr style=\"text-align: right;\">\n",
       "      <th></th>\n",
       "      <th>count</th>\n",
       "      <th>unique</th>\n",
       "      <th>top</th>\n",
       "      <th>freq</th>\n",
       "    </tr>\n",
       "  </thead>\n",
       "  <tbody>\n",
       "    <tr>\n",
       "      <th>version</th>\n",
       "      <td>44700</td>\n",
       "      <td>1</td>\n",
       "      <td>gate_30</td>\n",
       "      <td>44700</td>\n",
       "    </tr>\n",
       "    <tr>\n",
       "      <th>retention_1</th>\n",
       "      <td>44700</td>\n",
       "      <td>2</td>\n",
       "      <td>False</td>\n",
       "      <td>24666</td>\n",
       "    </tr>\n",
       "  </tbody>\n",
       "</table>\n",
       "</div>"
      ],
      "text/plain": [
       "             count unique      top   freq\n",
       "version      44700      1  gate_30  44700\n",
       "retention_1  44700      2    False  24666"
      ]
     },
     "execution_count": 13,
     "metadata": {},
     "output_type": "execute_result"
    }
   ],
   "source": [
    "old_Rtrail.describe().T"
   ]
  },
  {
   "cell_type": "code",
   "execution_count": 14,
   "id": "b6429022",
   "metadata": {},
   "outputs": [
    {
     "data": {
      "text/html": [
       "<div>\n",
       "<style scoped>\n",
       "    .dataframe tbody tr th:only-of-type {\n",
       "        vertical-align: middle;\n",
       "    }\n",
       "\n",
       "    .dataframe tbody tr th {\n",
       "        vertical-align: top;\n",
       "    }\n",
       "\n",
       "    .dataframe thead th {\n",
       "        text-align: right;\n",
       "    }\n",
       "</style>\n",
       "<table border=\"1\" class=\"dataframe\">\n",
       "  <thead>\n",
       "    <tr style=\"text-align: right;\">\n",
       "      <th>retention_1</th>\n",
       "      <th>False</th>\n",
       "      <th>True</th>\n",
       "    </tr>\n",
       "    <tr>\n",
       "      <th>version</th>\n",
       "      <th></th>\n",
       "      <th></th>\n",
       "    </tr>\n",
       "  </thead>\n",
       "  <tbody>\n",
       "    <tr>\n",
       "      <th>gate_30</th>\n",
       "      <td>24666</td>\n",
       "      <td>20034</td>\n",
       "    </tr>\n",
       "    <tr>\n",
       "      <th>gate_40</th>\n",
       "      <td>25370</td>\n",
       "      <td>20119</td>\n",
       "    </tr>\n",
       "  </tbody>\n",
       "</table>\n",
       "</div>"
      ],
      "text/plain": [
       "retention_1  False   True\n",
       "version                  \n",
       "gate_30      24666  20034\n",
       "gate_40      25370  20119"
      ]
     },
     "execution_count": 14,
     "metadata": {},
     "output_type": "execute_result"
    }
   ],
   "source": [
    "pd.crosstab(TE_level_trail.version,TE_level_trail.retention_1)"
   ]
  },
  {
   "cell_type": "code",
   "execution_count": 15,
   "id": "1f698e9d",
   "metadata": {
    "scrolled": true
   },
   "outputs": [
    {
     "data": {
      "text/html": [
       "<div>\n",
       "<style scoped>\n",
       "    .dataframe tbody tr th:only-of-type {\n",
       "        vertical-align: middle;\n",
       "    }\n",
       "\n",
       "    .dataframe tbody tr th {\n",
       "        vertical-align: top;\n",
       "    }\n",
       "\n",
       "    .dataframe thead th {\n",
       "        text-align: right;\n",
       "    }\n",
       "</style>\n",
       "<table border=\"1\" class=\"dataframe\">\n",
       "  <thead>\n",
       "    <tr style=\"text-align: right;\">\n",
       "      <th>retention_7</th>\n",
       "      <th>False</th>\n",
       "      <th>True</th>\n",
       "    </tr>\n",
       "    <tr>\n",
       "      <th>version</th>\n",
       "      <th></th>\n",
       "      <th></th>\n",
       "    </tr>\n",
       "  </thead>\n",
       "  <tbody>\n",
       "    <tr>\n",
       "      <th>gate_30</th>\n",
       "      <td>36198</td>\n",
       "      <td>8502</td>\n",
       "    </tr>\n",
       "    <tr>\n",
       "      <th>gate_40</th>\n",
       "      <td>37210</td>\n",
       "      <td>8279</td>\n",
       "    </tr>\n",
       "  </tbody>\n",
       "</table>\n",
       "</div>"
      ],
      "text/plain": [
       "retention_7  False  True\n",
       "version                 \n",
       "gate_30      36198  8502\n",
       "gate_40      37210  8279"
      ]
     },
     "execution_count": 15,
     "metadata": {},
     "output_type": "execute_result"
    }
   ],
   "source": [
    "pd.crosstab(TE_level_trail.version,TE_level_trail.retention_7)"
   ]
  },
  {
   "cell_type": "markdown",
   "id": "2f1a8396",
   "metadata": {},
   "source": [
    "**Grupo_1**"
   ]
  },
  {
   "cell_type": "markdown",
   "id": "7092f825",
   "metadata": {},
   "source": [
    "**G1_Step_1**"
   ]
  },
  {
   "cell_type": "code",
   "execution_count": 23,
   "id": "35fcab84",
   "metadata": {},
   "outputs": [],
   "source": [
    "control_res_1=TE_level_trail[TE_level_trail.version=='gate_30']['retention_1']\n",
    "tratamiento_res_1=TE_level_trail[TE_level_trail.version=='gate_40']['retention_1']"
   ]
  },
  {
   "cell_type": "markdown",
   "id": "9febcdcc",
   "metadata": {},
   "source": [
    "**G1_Step_2** "
   ]
  },
  {
   "cell_type": "code",
   "execution_count": 24,
   "id": "370e7442",
   "metadata": {},
   "outputs": [
    {
     "data": {
      "text/plain": [
       "(44700, 45489)"
      ]
     },
     "execution_count": 24,
     "metadata": {},
     "output_type": "execute_result"
    }
   ],
   "source": [
    "n_con_1=control_res_1.count()   # cuenta de elementos por grupo, ie, conversiones\n",
    "n_trat_1=tratamiento_res_1.count()\n",
    "n_con_1,n_trat_1"
   ]
  },
  {
   "cell_type": "markdown",
   "id": "5eeeca29",
   "metadata": {},
   "source": [
    "**G1_Step_3**"
   ]
  },
  {
   "cell_type": "code",
   "execution_count": 25,
   "id": "19136b12",
   "metadata": {},
   "outputs": [
    {
     "data": {
      "text/plain": [
       "[20034, 20119]"
      ]
     },
     "execution_count": 25,
     "metadata": {},
     "output_type": "execute_result"
    }
   ],
   "source": [
    "conversiones_1=[control_res_1.sum(), tratamiento_res_1.sum()]  # conversiones por grupo\n",
    "conversiones_1"
   ]
  },
  {
   "cell_type": "markdown",
   "id": "4a0ab555",
   "metadata": {},
   "source": [
    "**G1_Step_4**"
   ]
  },
  {
   "cell_type": "code",
   "execution_count": 26,
   "id": "6ad3f940",
   "metadata": {},
   "outputs": [
    {
     "data": {
      "text/plain": [
       "[44700, 45489]"
      ]
     },
     "execution_count": 26,
     "metadata": {},
     "output_type": "execute_result"
    }
   ],
   "source": [
    "observaciones_1=[n_con_1, n_trat_1] # cuenta N de cada grupo\n",
    "observaciones_1"
   ]
  },
  {
   "cell_type": "markdown",
   "id": "61e2f00c",
   "metadata": {},
   "source": [
    "**G1_Step_5**"
   ]
  },
  {
   "cell_type": "code",
   "execution_count": 27,
   "id": "d0254fe9",
   "metadata": {},
   "outputs": [
    {
     "data": {
      "text/plain": [
       "(1.7840862247974725, 0.07440965529691913)"
      ]
     },
     "execution_count": 27,
     "metadata": {},
     "output_type": "execute_result"
    }
   ],
   "source": [
    "z_score_1, p_value_1 = proportions_ztest(conversiones_1, nobs=observaciones_1)\n",
    "z_score_1, p_value_1"
   ]
  },
  {
   "cell_type": "markdown",
   "id": "d2b6d1f4",
   "metadata": {},
   "source": [
    "**Grupo_2**"
   ]
  },
  {
   "cell_type": "markdown",
   "id": "85c3120b",
   "metadata": {},
   "source": [
    "**G2_Step_1**"
   ]
  },
  {
   "cell_type": "code",
   "execution_count": 28,
   "id": "350b295a",
   "metadata": {},
   "outputs": [],
   "source": [
    "control_res_2=TE_level_trail[TE_level_trail.version=='gate_30']['retention_7']\n",
    "tratamiento_res_2=TE_level_trail[TE_level_trail.version=='gate_40']['retention_7']"
   ]
  },
  {
   "cell_type": "markdown",
   "id": "5cf743cb",
   "metadata": {},
   "source": [
    "**G2_Step_2** "
   ]
  },
  {
   "cell_type": "code",
   "execution_count": 31,
   "id": "c646cdf3",
   "metadata": {},
   "outputs": [
    {
     "data": {
      "text/plain": [
       "(44700, 45489)"
      ]
     },
     "execution_count": 31,
     "metadata": {},
     "output_type": "execute_result"
    }
   ],
   "source": [
    "n_con_2=control_res_2.count()   # cuenta de elementos por grupo, ie, conversiones\n",
    "n_trat_2=tratamiento_res_2.count()\n",
    "\n",
    "n_con_2,n_trat_2"
   ]
  },
  {
   "cell_type": "markdown",
   "id": "547e5c4c",
   "metadata": {},
   "source": [
    "**G2_Step_3**"
   ]
  },
  {
   "cell_type": "code",
   "execution_count": 32,
   "id": "1082afce",
   "metadata": {},
   "outputs": [
    {
     "data": {
      "text/plain": [
       "[8502, 8279]"
      ]
     },
     "execution_count": 32,
     "metadata": {},
     "output_type": "execute_result"
    }
   ],
   "source": [
    "conversiones_2=[control_res_2.sum(), tratamiento_res_2.sum()]  # conversiones por grupo\n",
    "conversiones_2"
   ]
  },
  {
   "cell_type": "markdown",
   "id": "abc5b10a",
   "metadata": {},
   "source": [
    "**G2_Step_4**"
   ]
  },
  {
   "cell_type": "code",
   "execution_count": 33,
   "id": "2c556446",
   "metadata": {},
   "outputs": [
    {
     "data": {
      "text/plain": [
       "[44700, 45489]"
      ]
     },
     "execution_count": 33,
     "metadata": {},
     "output_type": "execute_result"
    }
   ],
   "source": [
    "observaciones_2=[n_con_2, n_trat_2] # cuenta N de cada grupo\n",
    "observaciones_2"
   ]
  },
  {
   "cell_type": "markdown",
   "id": "282a9002",
   "metadata": {},
   "source": [
    "**G2_Step_5**"
   ]
  },
  {
   "cell_type": "code",
   "execution_count": 34,
   "id": "f03b4ee0",
   "metadata": {},
   "outputs": [
    {
     "data": {
      "text/plain": [
       "(3.164358912748191, 0.001554249975614329)"
      ]
     },
     "execution_count": 34,
     "metadata": {},
     "output_type": "execute_result"
    }
   ],
   "source": [
    "z_score_2, p_value_2 = proportions_ztest(conversiones_2, nobs=observaciones_2)\n",
    "z_score_2, p_value_2"
   ]
  },
  {
   "cell_type": "code",
   "execution_count": null,
   "id": "6b1e1343",
   "metadata": {},
   "outputs": [],
   "source": []
  },
  {
   "cell_type": "markdown",
   "id": "33476889",
   "metadata": {},
   "source": [
    "**Conclusión:**"
   ]
  },
  {
   "cell_type": "code",
   "execution_count": 37,
   "id": "01eb0a32",
   "metadata": {},
   "outputs": [
    {
     "data": {
      "text/plain": [
       "'El grupo 1 que estimaba la retencion de 1 dia ha presentado un resultado de 0.07441 > 0.05, superior al umbal, por otro lado El grupo 2 que estimaba la retencion de un 7 dias ha presentado un resultado de 0.00155 < 0.05. Los resultados nos indican que el grupos de retencion a los 7 dias, obtendra mayor retencion'"
      ]
     },
     "execution_count": 37,
     "metadata": {},
     "output_type": "execute_result"
    }
   ],
   "source": [
    "f'El grupo 1 que estimaba la retencion de 1 dia ha presentado un resultado de {round(p_value_1,5)} > 0.05, superior al umbal, por otro lado El grupo 2 que estimaba la retencion de un 7 dias ha presentado un resultado de {round(p_value_2,5)} < 0.05. Los resultados nos indican que el grupos de retencion a los 7 dias, obtendra mayor retencion'"
   ]
  },
  {
   "cell_type": "code",
   "execution_count": null,
   "id": "29390c46",
   "metadata": {},
   "outputs": [],
   "source": []
  }
 ],
 "metadata": {
  "finalized": {
   "timestamp": 1642857010293,
   "trusted": true
  },
  "kernelspec": {
   "display_name": "ironhack",
   "language": "python",
   "name": "ironhack"
  },
  "language_info": {
   "codemirror_mode": {
    "name": "ipython",
    "version": 3
   },
   "file_extension": ".py",
   "mimetype": "text/x-python",
   "name": "python",
   "nbconvert_exporter": "python",
   "pygments_lexer": "ipython3",
   "version": "3.9.7"
  },
  "toc": {
   "base_numbering": 1,
   "nav_menu": {},
   "number_sections": true,
   "sideBar": true,
   "skip_h1_title": false,
   "title_cell": "Table of Contents",
   "title_sidebar": "Contents",
   "toc_cell": true,
   "toc_position": {},
   "toc_section_display": true,
   "toc_window_display": false
  },
  "varInspector": {
   "cols": {
    "lenName": 16,
    "lenType": 16,
    "lenVar": 40
   },
   "kernels_config": {
    "python": {
     "delete_cmd_postfix": "",
     "delete_cmd_prefix": "del ",
     "library": "var_list.py",
     "varRefreshCmd": "print(var_dic_list())"
    },
    "r": {
     "delete_cmd_postfix": ") ",
     "delete_cmd_prefix": "rm(",
     "library": "var_list.r",
     "varRefreshCmd": "cat(var_dic_list()) "
    }
   },
   "types_to_exclude": [
    "module",
    "function",
    "builtin_function_or_method",
    "instance",
    "_Feature"
   ],
   "window_display": false
  }
 },
 "nbformat": 4,
 "nbformat_minor": 5
}
