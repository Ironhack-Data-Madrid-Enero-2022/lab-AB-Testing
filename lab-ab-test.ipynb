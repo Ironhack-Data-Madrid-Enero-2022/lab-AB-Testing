{
 "cells": [
  {
   "cell_type": "markdown",
   "id": "angry-pearl",
   "metadata": {
    "toc": true
   },
   "source": [
    "<h1>Table of Contents<span class=\"tocSkip\"></span></h1>\n",
    "<div class=\"toc\"><ul class=\"toc-item\"><li><span><a href=\"#AB-Testing\" data-toc-modified-id=\"AB-Testing-1\"><span class=\"toc-item-num\">1&nbsp;&nbsp;</span>AB-Testing</a></span></li></ul></div>"
   ]
  },
  {
   "cell_type": "markdown",
   "id": "c92ba6e0",
   "metadata": {},
   "source": [
    "# AB-Testing\n",
    "\n",
    "![cats](images/cats.jpeg)\n",
    "\n",
    "\n",
    "Imaginad que somos los cientificos de datos de la empresa de videojuegos Tactile Entertainment. Los desarrolladores del juego Cookie Cats pretenden introducir un cambio en el juego para aumentar la retencion de los jugadores. En cierto nivel del juego los jugadores se encuentran una puerta que les obliga a esperar o a pagar la app. Actualmente la puerta se encuentra en nivel 30 y se pretende pasar al nivel 40, para comprobar la retencion a 1 y 7 dias. Antes de realizar el cambio definitivo en el juego se raliza un test AB.\n",
    "\n",
    "Los datos estan alojados en `data/cookie_cats.csv`. Nuestro grupo de control sera la version actual `gate_30` y el grupo de tratamiento sera la version `gate_40`. Debemos realizar el test para 1 dia de retencion `retention_1` y para 7 dias `retention_7`."
   ]
  },
  {
   "cell_type": "code",
   "execution_count": 1,
   "id": "ac3b2f52",
   "metadata": {},
   "outputs": [],
   "source": [
    "# librerias\n",
    "\n",
    "import pandas as pd\n",
    "import numpy as np\n",
    "\n",
    "from statsmodels.stats.proportion import proportions_ztest, proportion_confint\n",
    "from scipy.stats import norm, sem\n",
    "\n",
    "import pylab as plt"
   ]
  },
  {
   "cell_type": "code",
   "execution_count": 2,
   "id": "7fe515c2",
   "metadata": {},
   "outputs": [
    {
     "data": {
      "text/html": [
       "<div>\n",
       "<style scoped>\n",
       "    .dataframe tbody tr th:only-of-type {\n",
       "        vertical-align: middle;\n",
       "    }\n",
       "\n",
       "    .dataframe tbody tr th {\n",
       "        vertical-align: top;\n",
       "    }\n",
       "\n",
       "    .dataframe thead th {\n",
       "        text-align: right;\n",
       "    }\n",
       "</style>\n",
       "<table border=\"1\" class=\"dataframe\">\n",
       "  <thead>\n",
       "    <tr style=\"text-align: right;\">\n",
       "      <th></th>\n",
       "      <th>userid</th>\n",
       "      <th>version</th>\n",
       "      <th>sum_gamerounds</th>\n",
       "      <th>retention_1</th>\n",
       "      <th>retention_7</th>\n",
       "    </tr>\n",
       "  </thead>\n",
       "  <tbody>\n",
       "    <tr>\n",
       "      <th>0</th>\n",
       "      <td>116</td>\n",
       "      <td>gate_30</td>\n",
       "      <td>3</td>\n",
       "      <td>False</td>\n",
       "      <td>False</td>\n",
       "    </tr>\n",
       "    <tr>\n",
       "      <th>1</th>\n",
       "      <td>337</td>\n",
       "      <td>gate_30</td>\n",
       "      <td>38</td>\n",
       "      <td>True</td>\n",
       "      <td>False</td>\n",
       "    </tr>\n",
       "    <tr>\n",
       "      <th>2</th>\n",
       "      <td>377</td>\n",
       "      <td>gate_40</td>\n",
       "      <td>165</td>\n",
       "      <td>True</td>\n",
       "      <td>False</td>\n",
       "    </tr>\n",
       "    <tr>\n",
       "      <th>3</th>\n",
       "      <td>483</td>\n",
       "      <td>gate_40</td>\n",
       "      <td>1</td>\n",
       "      <td>False</td>\n",
       "      <td>False</td>\n",
       "    </tr>\n",
       "    <tr>\n",
       "      <th>4</th>\n",
       "      <td>488</td>\n",
       "      <td>gate_40</td>\n",
       "      <td>179</td>\n",
       "      <td>True</td>\n",
       "      <td>True</td>\n",
       "    </tr>\n",
       "  </tbody>\n",
       "</table>\n",
       "</div>"
      ],
      "text/plain": [
       "   userid  version  sum_gamerounds  retention_1  retention_7\n",
       "0     116  gate_30               3        False        False\n",
       "1     337  gate_30              38         True        False\n",
       "2     377  gate_40             165         True        False\n",
       "3     483  gate_40               1        False        False\n",
       "4     488  gate_40             179         True         True"
      ]
     },
     "execution_count": 2,
     "metadata": {},
     "output_type": "execute_result"
    }
   ],
   "source": [
    "# datos\n",
    "df = pd.read_csv('data/cookie_cats.csv')\n",
    "df.head(5)"
   ]
  },
  {
   "cell_type": "code",
   "execution_count": 3,
   "id": "f2e6147a",
   "metadata": {
    "scrolled": true
   },
   "outputs": [
    {
     "name": "stdout",
     "output_type": "stream",
     "text": [
      "   userid  version  sum_gamerounds  retention_1\n",
      "0     116  gate_30               3        False\n",
      "1     337  gate_30              38         True\n",
      "2     377  gate_40             165         True\n",
      "   userid  version  sum_gamerounds  retention_7\n",
      "0     116  gate_30               3        False\n",
      "1     337  gate_30              38        False\n",
      "2     377  gate_40             165        False\n"
     ]
    }
   ],
   "source": [
    "# transformacion\n",
    "\n",
    "df1 = df.drop(labels='retention_7', axis=1)\n",
    "print(df1.head(3))\n",
    "df7 = df.drop(labels='retention_1', axis=1)\n",
    "print(df7.head(3))"
   ]
  },
  {
   "cell_type": "code",
   "execution_count": 4,
   "id": "27cfd316",
   "metadata": {},
   "outputs": [],
   "source": [
    "def to_binary(x):\n",
    "    if x == True:\n",
    "        return 1\n",
    "    else:\n",
    "        return 0"
   ]
  },
  {
   "cell_type": "code",
   "execution_count": 25,
   "id": "b6a09964",
   "metadata": {},
   "outputs": [],
   "source": [
    "df1['ret_b'] = df1['retention_1'].apply(to_binary)\n",
    "df7['ret_b'] = df7['retention_7'].apply(to_binary)\n",
    "\n",
    "S1_30 = df1[df1['version']=='gate_30']['ret_b']\n",
    "S1_40 = df1[df1['version']=='gate_40']['ret_b']\n",
    "\n",
    "S7_30 = df7[df7['version']=='gate_30']['ret_b']\n",
    "S7_40 = df7[df7['version']=='gate_40']['ret_b']"
   ]
  },
  {
   "cell_type": "code",
   "execution_count": 74,
   "id": "2ae0656f",
   "metadata": {},
   "outputs": [
    {
     "data": {
      "text/html": [
       "<div>\n",
       "<style scoped>\n",
       "    .dataframe tbody tr th:only-of-type {\n",
       "        vertical-align: middle;\n",
       "    }\n",
       "\n",
       "    .dataframe tbody tr th {\n",
       "        vertical-align: top;\n",
       "    }\n",
       "\n",
       "    .dataframe thead th {\n",
       "        text-align: right;\n",
       "    }\n",
       "</style>\n",
       "<table border=\"1\" class=\"dataframe\">\n",
       "  <thead>\n",
       "    <tr style=\"text-align: right;\">\n",
       "      <th>ret_b</th>\n",
       "      <th>0</th>\n",
       "      <th>1</th>\n",
       "      <th>ratio</th>\n",
       "    </tr>\n",
       "    <tr>\n",
       "      <th>version</th>\n",
       "      <th></th>\n",
       "      <th></th>\n",
       "      <th></th>\n",
       "    </tr>\n",
       "  </thead>\n",
       "  <tbody>\n",
       "    <tr>\n",
       "      <th>gate_30</th>\n",
       "      <td>24666</td>\n",
       "      <td>20034</td>\n",
       "      <td>0.812211</td>\n",
       "    </tr>\n",
       "    <tr>\n",
       "      <th>gate_40</th>\n",
       "      <td>25370</td>\n",
       "      <td>20119</td>\n",
       "      <td>0.793023</td>\n",
       "    </tr>\n",
       "  </tbody>\n",
       "</table>\n",
       "</div>"
      ],
      "text/plain": [
       "ret_b        0      1     ratio\n",
       "version                        \n",
       "gate_30  24666  20034  0.812211\n",
       "gate_40  25370  20119  0.793023"
      ]
     },
     "metadata": {},
     "output_type": "display_data"
    }
   ],
   "source": [
    "cross1 = pd.crosstab(df1.version, df1.ret_b)\n",
    "cross1['ratio'] = (cross1[1]/cross1[0])\n",
    "display(cross1)"
   ]
  },
  {
   "cell_type": "code",
   "execution_count": 76,
   "id": "e67cd3bc",
   "metadata": {},
   "outputs": [
    {
     "data": {
      "text/html": [
       "<div>\n",
       "<style scoped>\n",
       "    .dataframe tbody tr th:only-of-type {\n",
       "        vertical-align: middle;\n",
       "    }\n",
       "\n",
       "    .dataframe tbody tr th {\n",
       "        vertical-align: top;\n",
       "    }\n",
       "\n",
       "    .dataframe thead th {\n",
       "        text-align: right;\n",
       "    }\n",
       "</style>\n",
       "<table border=\"1\" class=\"dataframe\">\n",
       "  <thead>\n",
       "    <tr style=\"text-align: right;\">\n",
       "      <th>ret_b</th>\n",
       "      <th>0</th>\n",
       "      <th>1</th>\n",
       "      <th>ratio</th>\n",
       "    </tr>\n",
       "    <tr>\n",
       "      <th>version</th>\n",
       "      <th></th>\n",
       "      <th></th>\n",
       "      <th></th>\n",
       "    </tr>\n",
       "  </thead>\n",
       "  <tbody>\n",
       "    <tr>\n",
       "      <th>gate_30</th>\n",
       "      <td>36198</td>\n",
       "      <td>8502</td>\n",
       "      <td>0.234875</td>\n",
       "    </tr>\n",
       "    <tr>\n",
       "      <th>gate_40</th>\n",
       "      <td>37210</td>\n",
       "      <td>8279</td>\n",
       "      <td>0.222494</td>\n",
       "    </tr>\n",
       "  </tbody>\n",
       "</table>\n",
       "</div>"
      ],
      "text/plain": [
       "ret_b        0     1     ratio\n",
       "version                       \n",
       "gate_30  36198  8502  0.234875\n",
       "gate_40  37210  8279  0.222494"
      ]
     },
     "metadata": {},
     "output_type": "display_data"
    }
   ],
   "source": [
    "cross7 = pd.crosstab(df7.version, df7.ret_b)\n",
    "cross7['ratio'] = (cross7[1]/cross7[0])\n",
    "display(cross7)"
   ]
  },
  {
   "cell_type": "code",
   "execution_count": 56,
   "id": "c72f293c",
   "metadata": {
    "scrolled": true
   },
   "outputs": [
    {
     "data": {
      "image/png": "[encoded data removed]",
      "text/plain": [
       "<Figure size 432x288 with 1 Axes>"
      ]
     },
     "metadata": {
      "needs_background": "light"
     },
     "output_type": "display_data"
    }
   ],
   "source": [
    "pd.crosstab(df1.version, df1.ret_b).plot(kind='bar');"
   ]
  },
  {
   "cell_type": "code",
   "execution_count": 57,
   "id": "527f2771",
   "metadata": {},
   "outputs": [
    {
     "data": {
      "image/png": "[encoded data removed]",
      "text/plain": [
       "<Figure size 432x288 with 1 Axes>"
      ]
     },
     "metadata": {
      "needs_background": "light"
     },
     "output_type": "display_data"
    }
   ],
   "source": [
    "pd.crosstab(df7.version, df7.ret_b).plot(kind='bar');"
   ]
  },
  {
   "cell_type": "code",
   "execution_count": 28,
   "id": "38f422cb",
   "metadata": {},
   "outputs": [
    {
     "data": {
      "text/plain": [
       "count    44700.000000\n",
       "mean         0.448188\n",
       "std          0.497314\n",
       "min          0.000000\n",
       "25%          0.000000\n",
       "50%          0.000000\n",
       "75%          1.000000\n",
       "max          1.000000\n",
       "Name: ret_b, dtype: float64"
      ]
     },
     "metadata": {},
     "output_type": "display_data"
    },
    {
     "data": {
      "text/plain": [
       "count    45489.000000\n",
       "mean         0.442283\n",
       "std          0.496663\n",
       "min          0.000000\n",
       "25%          0.000000\n",
       "50%          0.000000\n",
       "75%          1.000000\n",
       "max          1.000000\n",
       "Name: ret_b, dtype: float64"
      ]
     },
     "metadata": {},
     "output_type": "display_data"
    },
    {
     "data": {
      "text/plain": [
       "count    44700.000000\n",
       "mean         0.190201\n",
       "std          0.392464\n",
       "min          0.000000\n",
       "25%          0.000000\n",
       "50%          0.000000\n",
       "75%          0.000000\n",
       "max          1.000000\n",
       "Name: ret_b, dtype: float64"
      ]
     },
     "metadata": {},
     "output_type": "display_data"
    },
    {
     "data": {
      "text/plain": [
       "count    45489.000000\n",
       "mean         0.182000\n",
       "std          0.385849\n",
       "min          0.000000\n",
       "25%          0.000000\n",
       "50%          0.000000\n",
       "75%          0.000000\n",
       "max          1.000000\n",
       "Name: ret_b, dtype: float64"
      ]
     },
     "metadata": {},
     "output_type": "display_data"
    }
   ],
   "source": [
    "display(S1_30.describe().T)\n",
    "display(S1_40.describe().T)\n",
    "display(S7_30.describe().T)\n",
    "display(S7_40.describe().T)"
   ]
  },
  {
   "cell_type": "code",
   "execution_count": 79,
   "id": "5b90c429",
   "metadata": {},
   "outputs": [
    {
     "data": {
      "text/plain": [
       "(1.7840862247974725, 0.9627951723515404)"
      ]
     },
     "execution_count": 79,
     "metadata": {},
     "output_type": "execute_result"
    }
   ],
   "source": [
    "# testeo para retention_1\n",
    "n_con=S1_30.count()   \n",
    "n_trat=S1_40.count()\n",
    "\n",
    "conversiones=[S1_30.sum(), S1_40.sum()]\n",
    "\n",
    "observaciones=[n_con, n_trat]\n",
    "\n",
    "z_score, p_value = proportions_ztest(conversiones, nobs=observaciones, alternative='smaller')\n",
    "\n",
    "z_score, p_value"
   ]
  },
  {
   "cell_type": "code",
   "execution_count": 80,
   "id": "a048a711",
   "metadata": {},
   "outputs": [
    {
     "data": {
      "text/plain": [
       "(3.164358912748191, 0.9992228750121929)"
      ]
     },
     "execution_count": 80,
     "metadata": {},
     "output_type": "execute_result"
    }
   ],
   "source": [
    "# testeo para retention_7\n",
    "\n",
    "n_con=S7_30.count()   \n",
    "n_trat=S7_40.count()\n",
    "\n",
    "conversiones=[S7_30.sum(), S7_40.sum()]\n",
    "\n",
    "observaciones=[n_con, n_trat]\n",
    "\n",
    "z_score, p_value = proportions_ztest(conversiones, nobs=observaciones, alternative='smaller')\n",
    "\n",
    "z_score, p_value"
   ]
  },
  {
   "cell_type": "code",
   "execution_count": 81,
   "id": "cooked-magnet",
   "metadata": {},
   "outputs": [
    {
     "data": {
      "text/plain": [
       "\" \\nBy looking at conversion rates at 1 and 7 days, a visual inspection reveals that conversion rates \\ntend to be lower for the treatment group (gate 40)\\n\\nFurthermore, The obtained results from the hypothesis testing for 1-day conversion rate does not allow us to\\nstate with a confidence of at lest 95% that the new version of the game (payment/wait at gate_40)\\nachieves a significantly better conversion rate compared to the old version. Quite on the contrary, the test\\nstrongly suggests that the conversion rate for the trearment group is significantly lower.\\n\\nIf we look at the 7-day conversion rate the situation looks pretty similar. With a P-value higher than \\n0.99 for our AB-testing we would no be able to reject H0 with. It seems that the conversion rate is superior.\\n\\nIt does not matter if we look at conversion rates at 1 or 7 days, the treatment group conversion rates' are\\n, according to our test, significantly worse.\\n\\n(Hypotheses: H0: Conv_30 >= Conv_40, H1 Conv_30 < Conv_40)\\n\""
      ]
     },
     "execution_count": 81,
     "metadata": {},
     "output_type": "execute_result"
    }
   ],
   "source": [
    "# conclusiones\n",
    "# Explica detalladamente las conclusiones obtenidas de tu testeo.\n",
    "\n",
    "''' \n",
    "By looking at conversion rates at 1 and 7 days, a visual inspection reveals that conversion rates \n",
    "tend to be lower for the treatment group (gate 40)\n",
    "\n",
    "Furthermore, The obtained results from the hypothesis testing for 1-day conversion rate does not allow us to\n",
    "state with a confidence of at lest 95% that the new version of the game (payment/wait at gate_40)\n",
    "achieves a significantly better conversion rate compared to the old version. Quite on the contrary, the test\n",
    "strongly suggests that the conversion rate for the trearment group is significantly lower.\n",
    "\n",
    "If we look at the 7-day conversion rate the situation looks pretty similar. With a P-value higher than \n",
    "0.99 for our AB-testing we would no be able to reject H0 with. It seems that the conversion rate is superior.\n",
    "\n",
    "It does not matter if we look at conversion rates at 1 or 7 days, the treatment group conversion rates' are\n",
    ", according to our test, significantly worse.\n",
    "\n",
    "(Hypotheses: H0: Conv_30 >= Conv_40, H1 Conv_30 < Conv_40)\n",
    "'''"
   ]
  }
 ],
 "metadata": {
  "finalized": {
   "timestamp": 1642857010293,
   "trusted": true
  },
  "kernelspec": {
   "display_name": "ironhack",
   "language": "python",
   "name": "ironhack"
  },
  "language_info": {
   "codemirror_mode": {
    "name": "ipython",
    "version": 3
   },
   "file_extension": ".py",
   "mimetype": "text/x-python",
   "name": "python",
   "nbconvert_exporter": "python",
   "pygments_lexer": "ipython3",
   "version": "3.8.5"
  },
  "toc": {
   "base_numbering": 1,
   "nav_menu": {},
   "number_sections": true,
   "sideBar": true,
   "skip_h1_title": false,
   "title_cell": "Table of Contents",
   "title_sidebar": "Contents",
   "toc_cell": true,
   "toc_position": {},
   "toc_section_display": true,
   "toc_window_display": false
  },
  "varInspector": {
   "cols": {
    "lenName": 16,
    "lenType": 16,
    "lenVar": 40
   },
   "kernels_config": {
    "python": {
     "delete_cmd_postfix": "",
     "delete_cmd_prefix": "del ",
     "library": "var_list.py",
     "varRefreshCmd": "print(var_dic_list())"
    },
    "r": {
     "delete_cmd_postfix": ") ",
     "delete_cmd_prefix": "rm(",
     "library": "var_list.r",
     "varRefreshCmd": "cat(var_dic_list()) "
    }
   },
   "types_to_exclude": [
    "module",
    "function",
    "builtin_function_or_method",
    "instance",
    "_Feature"
   ],
   "window_display": false
  }
 },
 "nbformat": 4,
 "nbformat_minor": 5
}
