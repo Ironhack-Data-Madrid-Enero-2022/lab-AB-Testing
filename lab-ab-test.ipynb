{
 "cells": [
  {
   "cell_type": "markdown",
   "id": "b4e24753",
   "metadata": {
    "toc": true
   },
   "source": [
    "<h1>Table of Contents<span class=\"tocSkip\"></span></h1>\n",
    "<div class=\"toc\"><ul class=\"toc-item\"><li><span><a href=\"#AB-Testing\" data-toc-modified-id=\"AB-Testing-1\"><span class=\"toc-item-num\">1&nbsp;&nbsp;</span>AB-Testing</a></span></li></ul></div>"
   ]
  },
  {
   "cell_type": "markdown",
   "id": "72e144de",
   "metadata": {},
   "source": [
    "# AB-Testing\n",
    "\n",
    "![cats](images/cats.jpeg)\n",
    "\n",
    "\n",
    "Imaginad que somos los cientificos de datos de la empresa de videojuegos Tactile Entertainment. Los desarrolladores del juego Cookie Cats pretenden introducir un cambio en el juego para aumentar la retencion de los jugadores. En cierto nivel del juego los jugadores se encuentran una puerta que les obliga a esperar o a pagar la app. Actualmente la puerta se encuentra en nivel 30 y se pretende pasar al nivel 40, para comprobar la retencion a 1 y 7 dias. Antes de realizar el cambio definitivo en el juego se raliza un test AB.\n",
    "\n",
    "Los datos estan alojados en `data/cookie_cats.csv`. Nuestro grupo de control sera la version actual `gate_30` y el grupo de tratamiento sera la version `gate_40`. Debemos realizar el test para 1 dia de retencion `retention_1` y para 7 dias `retention_7`."
   ]
  },
  {
   "cell_type": "code",
   "execution_count": 1,
   "id": "708e0b29",
   "metadata": {},
   "outputs": [],
   "source": [
    "# librerias\n",
    "\n",
    "import pandas as pd\n",
    "import numpy as np\n",
    "\n",
    "from statsmodels.stats.proportion import proportions_ztest, proportion_confint\n",
    "from scipy.stats import norm, sem\n",
    "import scipy.stats as stats\n",
    "\n",
    "import pylab as plt\n",
    "import seaborn as sns"
   ]
  },
  {
   "cell_type": "code",
   "execution_count": null,
   "id": "9abd3ed9",
   "metadata": {},
   "outputs": [],
   "source": [
    "# Diseño experimento.\n",
    "\"\"\"\n",
    "Hacemos un test de dos colas ya que no sabemos si la nueva página funciona mejor o peor.\n",
    "\n",
    "H0: p = po\n",
    "H1: p != po\n",
    "\n",
    "p y po son las tasas de retención de la nueva y vieja versión de la página web. Se establece un intervalo de confianza del 95%\n",
    "(alfa = 0,05)\n",
    "\"\"\""
   ]
  },
  {
   "cell_type": "code",
   "execution_count": 2,
   "id": "0ba5d350",
   "metadata": {},
   "outputs": [
    {
     "data": {
      "text/html": [
       "<div>\n",
       "<style scoped>\n",
       "    .dataframe tbody tr th:only-of-type {\n",
       "        vertical-align: middle;\n",
       "    }\n",
       "\n",
       "    .dataframe tbody tr th {\n",
       "        vertical-align: top;\n",
       "    }\n",
       "\n",
       "    .dataframe thead th {\n",
       "        text-align: right;\n",
       "    }\n",
       "</style>\n",
       "<table border=\"1\" class=\"dataframe\">\n",
       "  <thead>\n",
       "    <tr style=\"text-align: right;\">\n",
       "      <th></th>\n",
       "      <th>userid</th>\n",
       "      <th>version</th>\n",
       "      <th>sum_gamerounds</th>\n",
       "      <th>retention_1</th>\n",
       "      <th>retention_7</th>\n",
       "    </tr>\n",
       "  </thead>\n",
       "  <tbody>\n",
       "    <tr>\n",
       "      <th>0</th>\n",
       "      <td>116</td>\n",
       "      <td>gate_30</td>\n",
       "      <td>3</td>\n",
       "      <td>False</td>\n",
       "      <td>False</td>\n",
       "    </tr>\n",
       "    <tr>\n",
       "      <th>1</th>\n",
       "      <td>337</td>\n",
       "      <td>gate_30</td>\n",
       "      <td>38</td>\n",
       "      <td>True</td>\n",
       "      <td>False</td>\n",
       "    </tr>\n",
       "    <tr>\n",
       "      <th>2</th>\n",
       "      <td>377</td>\n",
       "      <td>gate_40</td>\n",
       "      <td>165</td>\n",
       "      <td>True</td>\n",
       "      <td>False</td>\n",
       "    </tr>\n",
       "    <tr>\n",
       "      <th>3</th>\n",
       "      <td>483</td>\n",
       "      <td>gate_40</td>\n",
       "      <td>1</td>\n",
       "      <td>False</td>\n",
       "      <td>False</td>\n",
       "    </tr>\n",
       "    <tr>\n",
       "      <th>4</th>\n",
       "      <td>488</td>\n",
       "      <td>gate_40</td>\n",
       "      <td>179</td>\n",
       "      <td>True</td>\n",
       "      <td>True</td>\n",
       "    </tr>\n",
       "  </tbody>\n",
       "</table>\n",
       "</div>"
      ],
      "text/plain": [
       "   userid  version  sum_gamerounds  retention_1  retention_7\n",
       "0     116  gate_30               3        False        False\n",
       "1     337  gate_30              38         True        False\n",
       "2     377  gate_40             165         True        False\n",
       "3     483  gate_40               1        False        False\n",
       "4     488  gate_40             179         True         True"
      ]
     },
     "execution_count": 2,
     "metadata": {},
     "output_type": "execute_result"
    }
   ],
   "source": [
    "# datos\n",
    "df=pd.read_csv('data/cookie_cats.csv')\n",
    "df.head()"
   ]
  },
  {
   "cell_type": "code",
   "execution_count": 3,
   "id": "e315bee0",
   "metadata": {},
   "outputs": [
    {
     "data": {
      "text/plain": [
       "array(['gate_30', 'gate_40'], dtype=object)"
      ]
     },
     "execution_count": 3,
     "metadata": {},
     "output_type": "execute_result"
    }
   ],
   "source": [
    "df.version.unique()"
   ]
  },
  {
   "cell_type": "code",
   "execution_count": 4,
   "id": "03da3f64",
   "metadata": {},
   "outputs": [],
   "source": [
    "control = df[df.version==\"gate_30\"]"
   ]
  },
  {
   "cell_type": "code",
   "execution_count": 5,
   "id": "992facd2",
   "metadata": {},
   "outputs": [],
   "source": [
    "tratamiento = df[df.version==\"gate_40\"]"
   ]
  },
  {
   "cell_type": "code",
   "execution_count": 6,
   "id": "ca3b0922",
   "metadata": {},
   "outputs": [
    {
     "data": {
      "text/plain": [
       "False    24666\n",
       "True     20034\n",
       "Name: retention_1, dtype: int64"
      ]
     },
     "execution_count": 6,
     "metadata": {},
     "output_type": "execute_result"
    }
   ],
   "source": [
    "control.retention_1.value_counts()"
   ]
  },
  {
   "cell_type": "code",
   "execution_count": 7,
   "id": "0e5012aa",
   "metadata": {},
   "outputs": [
    {
     "data": {
      "text/plain": [
       "False    25370\n",
       "True     20119\n",
       "Name: retention_1, dtype: int64"
      ]
     },
     "execution_count": 7,
     "metadata": {},
     "output_type": "execute_result"
    }
   ],
   "source": [
    "tratamiento.retention_1.value_counts()"
   ]
  },
  {
   "cell_type": "code",
   "execution_count": 8,
   "id": "f979859f",
   "metadata": {},
   "outputs": [
    {
     "data": {
      "text/plain": [
       "False    36198\n",
       "True      8502\n",
       "Name: retention_7, dtype: int64"
      ]
     },
     "execution_count": 8,
     "metadata": {},
     "output_type": "execute_result"
    }
   ],
   "source": [
    "control.retention_7.value_counts()"
   ]
  },
  {
   "cell_type": "code",
   "execution_count": 9,
   "id": "5cd69a8b",
   "metadata": {},
   "outputs": [
    {
     "data": {
      "text/plain": [
       "False    37210\n",
       "True      8279\n",
       "Name: retention_7, dtype: int64"
      ]
     },
     "execution_count": 9,
     "metadata": {},
     "output_type": "execute_result"
    }
   ],
   "source": [
    "tratamiento.retention_7.value_counts()"
   ]
  },
  {
   "cell_type": "code",
   "execution_count": 10,
   "id": "e17ec819",
   "metadata": {},
   "outputs": [
    {
     "name": "stdout",
     "output_type": "stream",
     "text": [
      "<class 'pandas.core.frame.DataFrame'>\n",
      "RangeIndex: 90189 entries, 0 to 90188\n",
      "Data columns (total 5 columns):\n",
      " #   Column          Non-Null Count  Dtype \n",
      "---  ------          --------------  ----- \n",
      " 0   userid          90189 non-null  int64 \n",
      " 1   version         90189 non-null  object\n",
      " 2   sum_gamerounds  90189 non-null  int64 \n",
      " 3   retention_1     90189 non-null  bool  \n",
      " 4   retention_7     90189 non-null  bool  \n",
      "dtypes: bool(2), int64(2), object(1)\n",
      "memory usage: 7.1 MB\n"
     ]
    }
   ],
   "source": [
    "df.info(memory_usage='deep')"
   ]
  },
  {
   "cell_type": "code",
   "execution_count": 11,
   "id": "0ed6e490",
   "metadata": {},
   "outputs": [
    {
     "data": {
      "text/html": [
       "<div>\n",
       "<style scoped>\n",
       "    .dataframe tbody tr th:only-of-type {\n",
       "        vertical-align: middle;\n",
       "    }\n",
       "\n",
       "    .dataframe tbody tr th {\n",
       "        vertical-align: top;\n",
       "    }\n",
       "\n",
       "    .dataframe thead th {\n",
       "        text-align: right;\n",
       "    }\n",
       "</style>\n",
       "<table border=\"1\" class=\"dataframe\">\n",
       "  <thead>\n",
       "    <tr style=\"text-align: right;\">\n",
       "      <th></th>\n",
       "      <th>count</th>\n",
       "      <th>mean</th>\n",
       "      <th>std</th>\n",
       "      <th>min</th>\n",
       "      <th>25%</th>\n",
       "      <th>50%</th>\n",
       "      <th>75%</th>\n",
       "      <th>max</th>\n",
       "    </tr>\n",
       "  </thead>\n",
       "  <tbody>\n",
       "    <tr>\n",
       "      <th>userid</th>\n",
       "      <td>90189.0</td>\n",
       "      <td>4.998412e+06</td>\n",
       "      <td>2.883286e+06</td>\n",
       "      <td>116.0</td>\n",
       "      <td>2512230.0</td>\n",
       "      <td>4995815.0</td>\n",
       "      <td>7496452.0</td>\n",
       "      <td>9999861.0</td>\n",
       "    </tr>\n",
       "    <tr>\n",
       "      <th>sum_gamerounds</th>\n",
       "      <td>90189.0</td>\n",
       "      <td>5.187246e+01</td>\n",
       "      <td>1.950509e+02</td>\n",
       "      <td>0.0</td>\n",
       "      <td>5.0</td>\n",
       "      <td>16.0</td>\n",
       "      <td>51.0</td>\n",
       "      <td>49854.0</td>\n",
       "    </tr>\n",
       "  </tbody>\n",
       "</table>\n",
       "</div>"
      ],
      "text/plain": [
       "                  count          mean           std    min        25%  \\\n",
       "userid          90189.0  4.998412e+06  2.883286e+06  116.0  2512230.0   \n",
       "sum_gamerounds  90189.0  5.187246e+01  1.950509e+02    0.0        5.0   \n",
       "\n",
       "                      50%        75%        max  \n",
       "userid          4995815.0  7496452.0  9999861.0  \n",
       "sum_gamerounds       16.0       51.0    49854.0  "
      ]
     },
     "execution_count": 11,
     "metadata": {},
     "output_type": "execute_result"
    }
   ],
   "source": [
    "df.describe().T"
   ]
  },
  {
   "cell_type": "code",
   "execution_count": 14,
   "id": "6ff18357",
   "metadata": {},
   "outputs": [
    {
     "data": {
      "text/plain": [
       "-0.2003348423231197"
      ]
     },
     "execution_count": 14,
     "metadata": {},
     "output_type": "execute_result"
    }
   ],
   "source": [
    "# muestreo\n",
    "import statsmodels.stats.api as sms\n",
    "efecto=sms.proportion_effectsize(0.45, 0.55) # No se especifica el efecto del test en el el ejercicio. He puesto un 1%.\n",
    "\n",
    "efecto"
   ]
  },
  {
   "cell_type": "code",
   "execution_count": 15,
   "id": "80e23f18",
   "metadata": {},
   "outputs": [
    {
     "data": {
      "text/plain": [
       "391.1322551881439"
      ]
     },
     "execution_count": 15,
     "metadata": {},
     "output_type": "execute_result"
    }
   ],
   "source": [
    "n_requerido=sms.NormalIndPower().solve_power(efecto,\n",
    "                                             power=0.8,\n",
    "                                             alpha=0.05)\n",
    "\n",
    "n_requerido  # tamaño de la muestra"
   ]
  },
  {
   "cell_type": "code",
   "execution_count": 16,
   "id": "bdbdd71b",
   "metadata": {},
   "outputs": [
    {
     "data": {
      "text/html": [
       "<div>\n",
       "<style scoped>\n",
       "    .dataframe tbody tr th:only-of-type {\n",
       "        vertical-align: middle;\n",
       "    }\n",
       "\n",
       "    .dataframe tbody tr th {\n",
       "        vertical-align: top;\n",
       "    }\n",
       "\n",
       "    .dataframe thead th {\n",
       "        text-align: right;\n",
       "    }\n",
       "</style>\n",
       "<table border=\"1\" class=\"dataframe\">\n",
       "  <thead>\n",
       "    <tr style=\"text-align: right;\">\n",
       "      <th></th>\n",
       "      <th>userid</th>\n",
       "      <th>version</th>\n",
       "      <th>sum_gamerounds</th>\n",
       "      <th>retention_1</th>\n",
       "      <th>retention_7</th>\n",
       "    </tr>\n",
       "  </thead>\n",
       "  <tbody>\n",
       "    <tr>\n",
       "      <th>0</th>\n",
       "      <td>6531033</td>\n",
       "      <td>gate_30</td>\n",
       "      <td>35</td>\n",
       "      <td>False</td>\n",
       "      <td>False</td>\n",
       "    </tr>\n",
       "    <tr>\n",
       "      <th>1</th>\n",
       "      <td>8003009</td>\n",
       "      <td>gate_30</td>\n",
       "      <td>4</td>\n",
       "      <td>False</td>\n",
       "      <td>False</td>\n",
       "    </tr>\n",
       "    <tr>\n",
       "      <th>2</th>\n",
       "      <td>5566807</td>\n",
       "      <td>gate_30</td>\n",
       "      <td>23</td>\n",
       "      <td>True</td>\n",
       "      <td>False</td>\n",
       "    </tr>\n",
       "    <tr>\n",
       "      <th>3</th>\n",
       "      <td>64235</td>\n",
       "      <td>gate_30</td>\n",
       "      <td>1</td>\n",
       "      <td>False</td>\n",
       "      <td>False</td>\n",
       "    </tr>\n",
       "    <tr>\n",
       "      <th>4</th>\n",
       "      <td>6210551</td>\n",
       "      <td>gate_30</td>\n",
       "      <td>7</td>\n",
       "      <td>False</td>\n",
       "      <td>False</td>\n",
       "    </tr>\n",
       "  </tbody>\n",
       "</table>\n",
       "</div>"
      ],
      "text/plain": [
       "    userid  version  sum_gamerounds  retention_1  retention_7\n",
       "0  6531033  gate_30              35        False        False\n",
       "1  8003009  gate_30               4        False        False\n",
       "2  5566807  gate_30              23         True        False\n",
       "3    64235  gate_30               1        False        False\n",
       "4  6210551  gate_30               7        False        False"
      ]
     },
     "execution_count": 16,
     "metadata": {},
     "output_type": "execute_result"
    }
   ],
   "source": [
    "control=control.sample(n=392, random_state=42)\n",
    "\n",
    "tratamiento=tratamiento.sample(n=392, random_state=42)\n",
    "\n",
    "ab_test=pd.concat([control, tratamiento], axis=0)\n",
    "\n",
    "ab_test.reset_index(drop=True, inplace=True)\n",
    "\n",
    "ab_test.head()"
   ]
  },
  {
   "cell_type": "code",
   "execution_count": 17,
   "id": "c4fccf70",
   "metadata": {},
   "outputs": [
    {
     "name": "stdout",
     "output_type": "stream",
     "text": [
      "<class 'pandas.core.frame.DataFrame'>\n",
      "RangeIndex: 784 entries, 0 to 783\n",
      "Data columns (total 5 columns):\n",
      " #   Column          Non-Null Count  Dtype \n",
      "---  ------          --------------  ----- \n",
      " 0   userid          784 non-null    int64 \n",
      " 1   version         784 non-null    object\n",
      " 2   sum_gamerounds  784 non-null    int64 \n",
      " 3   retention_1     784 non-null    bool  \n",
      " 4   retention_7     784 non-null    bool  \n",
      "dtypes: bool(2), int64(2), object(1)\n",
      "memory usage: 20.0+ KB\n"
     ]
    }
   ],
   "source": [
    "ab_test.info()"
   ]
  },
  {
   "cell_type": "code",
   "execution_count": 18,
   "id": "b5697bfb",
   "metadata": {},
   "outputs": [
    {
     "data": {
      "text/plain": [
       "gate_30    392\n",
       "gate_40    392\n",
       "Name: version, dtype: int64"
      ]
     },
     "execution_count": 18,
     "metadata": {},
     "output_type": "execute_result"
    }
   ],
   "source": [
    "ab_test.version.value_counts()"
   ]
  },
  {
   "cell_type": "code",
   "execution_count": 19,
   "id": "b531733b",
   "metadata": {},
   "outputs": [
    {
     "data": {
      "text/html": [
       "<style type=\"text/css\">\n",
       "</style>\n",
       "<table id=\"T_3729b_\">\n",
       "  <thead>\n",
       "    <tr>\n",
       "      <th class=\"blank level0\" >&nbsp;</th>\n",
       "      <th class=\"col_heading level0 col0\" >conv_rate</th>\n",
       "      <th class=\"col_heading level0 col1\" >std</th>\n",
       "      <th class=\"col_heading level0 col2\" >error_std</th>\n",
       "    </tr>\n",
       "    <tr>\n",
       "      <th class=\"index_name level0\" >version</th>\n",
       "      <th class=\"blank col0\" >&nbsp;</th>\n",
       "      <th class=\"blank col1\" >&nbsp;</th>\n",
       "      <th class=\"blank col2\" >&nbsp;</th>\n",
       "    </tr>\n",
       "  </thead>\n",
       "  <tbody>\n",
       "    <tr>\n",
       "      <th id=\"T_3729b_level0_row0\" class=\"row_heading level0 row0\" >gate_30</th>\n",
       "      <td id=\"T_3729b_row0_col0\" class=\"data row0 col0\" >0.464</td>\n",
       "      <td id=\"T_3729b_row0_col1\" class=\"data row0 col1\" >0.499</td>\n",
       "      <td id=\"T_3729b_row0_col2\" class=\"data row0 col2\" >0.025</td>\n",
       "    </tr>\n",
       "    <tr>\n",
       "      <th id=\"T_3729b_level0_row1\" class=\"row_heading level0 row1\" >gate_40</th>\n",
       "      <td id=\"T_3729b_row1_col0\" class=\"data row1 col0\" >0.467</td>\n",
       "      <td id=\"T_3729b_row1_col1\" class=\"data row1 col1\" >0.499</td>\n",
       "      <td id=\"T_3729b_row1_col2\" class=\"data row1 col2\" >0.025</td>\n",
       "    </tr>\n",
       "  </tbody>\n",
       "</table>\n"
      ],
      "text/plain": [
       "<pandas.io.formats.style.Styler at 0x7f79c03de580>"
      ]
     },
     "execution_count": 19,
     "metadata": {},
     "output_type": "execute_result"
    }
   ],
   "source": [
    "tasas_conversion=ab_test.groupby('version')['retention_1']\n",
    "\n",
    "std=lambda x: np.std(x, ddof=0)             # std poblacional\n",
    "error_std=lambda x: stats.sem(x, ddof=0)    # error estandard (std/sqrt(n))\n",
    "\n",
    "tasas_conversion=tasas_conversion.agg([np.mean, std, error_std])\n",
    "\n",
    "tasas_conversion.columns=['conv_rate', 'std', 'error_std']\n",
    "\n",
    "tasas_conversion.style.format('{:.3f}')"
   ]
  },
  {
   "cell_type": "code",
   "execution_count": 28,
   "id": "bffa45da",
   "metadata": {},
   "outputs": [
    {
     "data": {
      "image/png": "[encoded data removed]",
      "text/plain": [
       "<Figure size 576x432 with 1 Axes>"
      ]
     },
     "metadata": {
      "needs_background": "light"
     },
     "output_type": "display_data"
    }
   ],
   "source": [
    "plt.figure(figsize=(8,6))\n",
    "\n",
    "sns.barplot(x=ab_test['version'], \n",
    "            y=ab_test['retention_1'], \n",
    "            ci=95 # intervalo de confianza (con el error estandard)\n",
    "           )\n",
    "\n",
    "plt.ylim(0, 0.60)\n",
    "plt.title('Tasa de conversión por grupo')\n",
    "plt.xlabel('Versión')\n",
    "plt.ylabel('Retenido (proporción)');"
   ]
  },
  {
   "cell_type": "code",
   "execution_count": 29,
   "id": "6204ca1b",
   "metadata": {},
   "outputs": [],
   "source": [
    "# testeo para retention_1\n",
    "control_res=ab_test[ab_test.version=='gate_30']['retention_1']\n",
    "tratamiento_res=ab_test[ab_test.version=='gate_40']['retention_1']"
   ]
  },
  {
   "cell_type": "code",
   "execution_count": 30,
   "id": "3d0b1360",
   "metadata": {},
   "outputs": [
    {
     "data": {
      "text/plain": [
       "(-0.0715986094296942, 0.9429213467512827)"
      ]
     },
     "execution_count": 30,
     "metadata": {},
     "output_type": "execute_result"
    }
   ],
   "source": [
    "n_con=control_res.count()   # cuenta de elementos por grupo, ie, conversiones\n",
    "n_trat=tratamiento_res.count()\n",
    "\n",
    "conversiones=[control_res.sum(), tratamiento_res.sum()]  # conversiones por grupo\n",
    "\n",
    "observaciones=[n_con, n_trat] # cuenta N de cada grupo\n",
    "\n",
    "z_score, p_value = proportions_ztest(conversiones, nobs=observaciones)\n",
    "\n",
    "z_score, p_value"
   ]
  },
  {
   "cell_type": "code",
   "execution_count": 31,
   "id": "6fef4916",
   "metadata": {},
   "outputs": [
    {
     "name": "stdout",
     "output_type": "stream",
     "text": [
      "Control [0.4149155773449074, 0.5136558512265211]\n",
      "Tratamiento [0.41744916240035357, 0.5162243069874015]\n"
     ]
    }
   ],
   "source": [
    "# intervalos de confianza\n",
    "\n",
    "(control_a, tratamiento_a), (control_b, tratamiento_b) = proportion_confint(conversiones, \n",
    "                                                                           nobs=observaciones,\n",
    "                                                                           alpha=0.05)\n",
    "\n",
    "# se definen las dos tuplas de salida del confint\n",
    "\n",
    "print('Control', [control_a, control_b])\n",
    "print('Tratamiento', [tratamiento_a, tratamiento_b])"
   ]
  },
  {
   "cell_type": "code",
   "execution_count": 33,
   "id": "53f9ff62",
   "metadata": {},
   "outputs": [],
   "source": [
    "# testeo para retention_7\n",
    "control_res=ab_test[ab_test.version=='gate_30']['retention_7']\n",
    "tratamiento_res=ab_test[ab_test.version=='gate_40']['retention_7']"
   ]
  },
  {
   "cell_type": "code",
   "execution_count": 34,
   "id": "2931a8a8",
   "metadata": {},
   "outputs": [
    {
     "data": {
      "text/plain": [
       "(0.7418845589930833, 0.45815728198346883)"
      ]
     },
     "execution_count": 34,
     "metadata": {},
     "output_type": "execute_result"
    }
   ],
   "source": [
    "n_con=control_res.count()   # cuenta de elementos por grupo, ie, conversiones\n",
    "n_trat=tratamiento_res.count()\n",
    "\n",
    "conversiones=[control_res.sum(), tratamiento_res.sum()]  # conversiones por grupo\n",
    "\n",
    "observaciones=[n_con, n_trat] # cuenta N de cada grupo\n",
    "\n",
    "z_score, p_value = proportions_ztest(conversiones, nobs=observaciones)\n",
    "\n",
    "z_score, p_value"
   ]
  },
  {
   "cell_type": "code",
   "execution_count": 35,
   "id": "2a524849",
   "metadata": {},
   "outputs": [
    {
     "name": "stdout",
     "output_type": "stream",
     "text": [
      "Control [0.15238802740210436, 0.23026503382238542]\n",
      "Tratamiento [0.13365362933156077, 0.20818310536231677]\n"
     ]
    }
   ],
   "source": [
    "(control_a, tratamiento_a), (control_b, tratamiento_b) = proportion_confint(conversiones, \n",
    "                                                                           nobs=observaciones,\n",
    "                                                                           alpha=0.05)\n",
    "\n",
    "# se definen las dos tuplas de salida del confint\n",
    "\n",
    "print('Control', [control_a, control_b])\n",
    "print('Tratamiento', [tratamiento_a, tratamiento_b])"
   ]
  },
  {
   "cell_type": "code",
   "execution_count": 25,
   "id": "b37c2e89",
   "metadata": {},
   "outputs": [],
   "source": [
    "# conclusiones\n",
    "# Explica detalladamente las conclusiones obtenidas de. tu testeo.\n",
    "\"\"\"\n",
    "Retención 1 día; Las diferencias entre la versión antigua y nueva son mínimas. En principio parece que es \n",
    "ligeramente mejor la versión nueva para un intervalo de confianza del 95% aunque no existe una diferencia relevante\n",
    "entre ambas. No podemos rechazar la H0.\n",
    "\n",
    "Retención 7 días; Se empeora la retención en la nueva versión si se compara con la antigua.\n",
    "\n",
    "Se recomienda no implementar la nueva versión.\n",
    "\"\"\""
   ]
  }
 ],
 "metadata": {
  "finalized": {
   "timestamp": 1642857010293,
   "trusted": true
  },
  "kernelspec": {
   "display_name": "ironhack",
   "language": "python",
   "name": "ironhack"
  },
  "language_info": {
   "codemirror_mode": {
    "name": "ipython",
    "version": 3
   },
   "file_extension": ".py",
   "mimetype": "text/x-python",
   "name": "python",
   "nbconvert_exporter": "python",
   "pygments_lexer": "ipython3",
   "version": "3.8.5"
  },
  "toc": {
   "base_numbering": 1,
   "nav_menu": {},
   "number_sections": true,
   "sideBar": true,
   "skip_h1_title": false,
   "title_cell": "Table of Contents",
   "title_sidebar": "Contents",
   "toc_cell": true,
   "toc_position": {},
   "toc_section_display": true,
   "toc_window_display": false
  },
  "varInspector": {
   "cols": {
    "lenName": 16,
    "lenType": 16,
    "lenVar": 40
   },
   "kernels_config": {
    "python": {
     "delete_cmd_postfix": "",
     "delete_cmd_prefix": "del ",
     "library": "var_list.py",
     "varRefreshCmd": "print(var_dic_list())"
    },
    "r": {
     "delete_cmd_postfix": ") ",
     "delete_cmd_prefix": "rm(",
     "library": "var_list.r",
     "varRefreshCmd": "cat(var_dic_list()) "
    }
   },
   "types_to_exclude": [
    "module",
    "function",
    "builtin_function_or_method",
    "instance",
    "_Feature"
   ],
   "window_display": false
  }
 },
 "nbformat": 4,
 "nbformat_minor": 5
}
