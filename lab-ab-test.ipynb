{
 "cells": [
  {
   "cell_type": "markdown",
   "metadata": {
    "toc": true
   },
   "source": [
    "<h1>Table of Contents<span class=\"tocSkip\"></span></h1>\n",
    "<div class=\"toc\"><ul class=\"toc-item\"><li><span><a href=\"#AB-Testing\" data-toc-modified-id=\"AB-Testing-1\"><span class=\"toc-item-num\">1&nbsp;&nbsp;</span>AB-Testing</a></span></li></ul></div>"
   ]
  },
  {
   "cell_type": "markdown",
   "metadata": {},
   "source": [
    "# AB-Testing\n",
    "\n",
    "![cats](images/cats.jpeg)\n",
    "\n",
    "\n",
    "Imaginad que somos los cientificos de datos de la empresa de videojuegos Tactile Entertainment. Los desarrolladores del juego Cookie Cats pretenden introducir un cambio en el juego para aumentar la retencion de los jugadores. En cierto nivel del juego los jugadores se encuentran una puerta que les obliga a esperar o a pagar la app. Actualmente la puerta se encuentra en nivel 30 y se pretende pasar al nivel 40, para comprobar la retencion a 1 y 7 dias. Antes de realizar el cambio definitivo en el juego se raliza un test AB.\n",
    "\n",
    "Los datos estan alojados en `data/cookie_cats.csv`. Nuestro grupo de control sera la version actual `gate_30` y el grupo de tratamiento sera la version `gate_40`. Debemos realizar el test para 1 dia de retencion `retention_1` y para 7 dias `retention_7`."
   ]
  },
  {
   "cell_type": "code",
   "execution_count": 1,
   "metadata": {},
   "outputs": [],
   "source": [
    "# librerias\n",
    "\n",
    "import pandas as pd\n",
    "import numpy as np\n",
    "import seaborn as sns\n",
    "\n",
    "from statsmodels.stats.proportion import proportions_ztest, proportion_confint\n",
    "from scipy.stats import norm, sem\n",
    "import scipy.stats as stats\n",
    "import pylab as plt"
   ]
  },
  {
   "cell_type": "code",
   "execution_count": 2,
   "metadata": {},
   "outputs": [
    {
     "data": {
      "text/html": [
       "<div>\n",
       "<style scoped>\n",
       "    .dataframe tbody tr th:only-of-type {\n",
       "        vertical-align: middle;\n",
       "    }\n",
       "\n",
       "    .dataframe tbody tr th {\n",
       "        vertical-align: top;\n",
       "    }\n",
       "\n",
       "    .dataframe thead th {\n",
       "        text-align: right;\n",
       "    }\n",
       "</style>\n",
       "<table border=\"1\" class=\"dataframe\">\n",
       "  <thead>\n",
       "    <tr style=\"text-align: right;\">\n",
       "      <th></th>\n",
       "      <th>userid</th>\n",
       "      <th>version</th>\n",
       "      <th>sum_gamerounds</th>\n",
       "      <th>retention_1</th>\n",
       "      <th>retention_7</th>\n",
       "    </tr>\n",
       "  </thead>\n",
       "  <tbody>\n",
       "    <tr>\n",
       "      <th>0</th>\n",
       "      <td>116</td>\n",
       "      <td>gate_30</td>\n",
       "      <td>3</td>\n",
       "      <td>False</td>\n",
       "      <td>False</td>\n",
       "    </tr>\n",
       "    <tr>\n",
       "      <th>1</th>\n",
       "      <td>337</td>\n",
       "      <td>gate_30</td>\n",
       "      <td>38</td>\n",
       "      <td>True</td>\n",
       "      <td>False</td>\n",
       "    </tr>\n",
       "    <tr>\n",
       "      <th>2</th>\n",
       "      <td>377</td>\n",
       "      <td>gate_40</td>\n",
       "      <td>165</td>\n",
       "      <td>True</td>\n",
       "      <td>False</td>\n",
       "    </tr>\n",
       "    <tr>\n",
       "      <th>3</th>\n",
       "      <td>483</td>\n",
       "      <td>gate_40</td>\n",
       "      <td>1</td>\n",
       "      <td>False</td>\n",
       "      <td>False</td>\n",
       "    </tr>\n",
       "    <tr>\n",
       "      <th>4</th>\n",
       "      <td>488</td>\n",
       "      <td>gate_40</td>\n",
       "      <td>179</td>\n",
       "      <td>True</td>\n",
       "      <td>True</td>\n",
       "    </tr>\n",
       "  </tbody>\n",
       "</table>\n",
       "</div>"
      ],
      "text/plain": [
       "   userid  version  sum_gamerounds  retention_1  retention_7\n",
       "0     116  gate_30               3        False        False\n",
       "1     337  gate_30              38         True        False\n",
       "2     377  gate_40             165         True        False\n",
       "3     483  gate_40               1        False        False\n",
       "4     488  gate_40             179         True         True"
      ]
     },
     "execution_count": 2,
     "metadata": {},
     "output_type": "execute_result"
    }
   ],
   "source": [
    "df=pd.read_csv('data/cookie_cats.csv')\n",
    "df.head()"
   ]
  },
  {
   "cell_type": "code",
   "execution_count": 3,
   "metadata": {},
   "outputs": [
    {
     "data": {
      "text/html": [
       "<div>\n",
       "<style scoped>\n",
       "    .dataframe tbody tr th:only-of-type {\n",
       "        vertical-align: middle;\n",
       "    }\n",
       "\n",
       "    .dataframe tbody tr th {\n",
       "        vertical-align: top;\n",
       "    }\n",
       "\n",
       "    .dataframe thead th {\n",
       "        text-align: right;\n",
       "    }\n",
       "</style>\n",
       "<table border=\"1\" class=\"dataframe\">\n",
       "  <thead>\n",
       "    <tr style=\"text-align: right;\">\n",
       "      <th></th>\n",
       "      <th>userid</th>\n",
       "      <th>version</th>\n",
       "      <th>retention_1</th>\n",
       "    </tr>\n",
       "  </thead>\n",
       "  <tbody>\n",
       "    <tr>\n",
       "      <th>0</th>\n",
       "      <td>116</td>\n",
       "      <td>gate_30</td>\n",
       "      <td>False</td>\n",
       "    </tr>\n",
       "    <tr>\n",
       "      <th>1</th>\n",
       "      <td>337</td>\n",
       "      <td>gate_30</td>\n",
       "      <td>True</td>\n",
       "    </tr>\n",
       "    <tr>\n",
       "      <th>2</th>\n",
       "      <td>377</td>\n",
       "      <td>gate_40</td>\n",
       "      <td>True</td>\n",
       "    </tr>\n",
       "    <tr>\n",
       "      <th>3</th>\n",
       "      <td>483</td>\n",
       "      <td>gate_40</td>\n",
       "      <td>False</td>\n",
       "    </tr>\n",
       "    <tr>\n",
       "      <th>4</th>\n",
       "      <td>488</td>\n",
       "      <td>gate_40</td>\n",
       "      <td>True</td>\n",
       "    </tr>\n",
       "  </tbody>\n",
       "</table>\n",
       "</div>"
      ],
      "text/plain": [
       "   userid  version  retention_1\n",
       "0     116  gate_30        False\n",
       "1     337  gate_30         True\n",
       "2     377  gate_40         True\n",
       "3     483  gate_40        False\n",
       "4     488  gate_40         True"
      ]
     },
     "execution_count": 3,
     "metadata": {},
     "output_type": "execute_result"
    }
   ],
   "source": [
    "retention_1 = df[[\"userid\", \"version\", \"retention_1\"]]\n",
    "retention_7 = df[[\"userid\", \"version\", \"retention_7\"]]\n",
    "\n",
    "retention_1.head()"
   ]
  },
  {
   "cell_type": "markdown",
   "metadata": {},
   "source": [
    "# testeo para retention_1"
   ]
  },
  {
   "cell_type": "code",
   "execution_count": 4,
   "metadata": {},
   "outputs": [
    {
     "data": {
      "text/html": [
       "<div>\n",
       "<style scoped>\n",
       "    .dataframe tbody tr th:only-of-type {\n",
       "        vertical-align: middle;\n",
       "    }\n",
       "\n",
       "    .dataframe tbody tr th {\n",
       "        vertical-align: top;\n",
       "    }\n",
       "\n",
       "    .dataframe thead th {\n",
       "        text-align: right;\n",
       "    }\n",
       "</style>\n",
       "<table border=\"1\" class=\"dataframe\">\n",
       "  <thead>\n",
       "    <tr style=\"text-align: right;\">\n",
       "      <th>retention_1</th>\n",
       "      <th>False</th>\n",
       "      <th>True</th>\n",
       "    </tr>\n",
       "    <tr>\n",
       "      <th>version</th>\n",
       "      <th></th>\n",
       "      <th></th>\n",
       "    </tr>\n",
       "  </thead>\n",
       "  <tbody>\n",
       "    <tr>\n",
       "      <th>gate_30</th>\n",
       "      <td>24666</td>\n",
       "      <td>20034</td>\n",
       "    </tr>\n",
       "    <tr>\n",
       "      <th>gate_40</th>\n",
       "      <td>25370</td>\n",
       "      <td>20119</td>\n",
       "    </tr>\n",
       "  </tbody>\n",
       "</table>\n",
       "</div>"
      ],
      "text/plain": [
       "retention_1  False  True \n",
       "version                  \n",
       "gate_30      24666  20034\n",
       "gate_40      25370  20119"
      ]
     },
     "execution_count": 4,
     "metadata": {},
     "output_type": "execute_result"
    }
   ],
   "source": [
    "pd.crosstab(df.version, df.retention_1)\n"
   ]
  },
  {
   "cell_type": "code",
   "execution_count": 6,
   "metadata": {},
   "outputs": [
    {
     "data": {
      "text/html": [
       "<style  type=\"text/css\" >\n",
       "</style><table id=\"T_119bf8f8_8cc3_11ec_a234_31f8c9e364e4\" ><thead>    <tr>        <th class=\"blank level0\" ></th>        <th class=\"col_heading level0 col0\" >conv_rate</th>        <th class=\"col_heading level0 col1\" >std</th>        <th class=\"col_heading level0 col2\" >error_std</th>    </tr>    <tr>        <th class=\"index_name level0\" >version</th>        <th class=\"blank\" ></th>        <th class=\"blank\" ></th>        <th class=\"blank\" ></th>    </tr></thead><tbody>\n",
       "                <tr>\n",
       "                        <th id=\"T_119bf8f8_8cc3_11ec_a234_31f8c9e364e4level0_row0\" class=\"row_heading level0 row0\" >gate_30</th>\n",
       "                        <td id=\"T_119bf8f8_8cc3_11ec_a234_31f8c9e364e4row0_col0\" class=\"data row0 col0\" >0.448</td>\n",
       "                        <td id=\"T_119bf8f8_8cc3_11ec_a234_31f8c9e364e4row0_col1\" class=\"data row0 col1\" >0.497</td>\n",
       "                        <td id=\"T_119bf8f8_8cc3_11ec_a234_31f8c9e364e4row0_col2\" class=\"data row0 col2\" >0.002</td>\n",
       "            </tr>\n",
       "            <tr>\n",
       "                        <th id=\"T_119bf8f8_8cc3_11ec_a234_31f8c9e364e4level0_row1\" class=\"row_heading level0 row1\" >gate_40</th>\n",
       "                        <td id=\"T_119bf8f8_8cc3_11ec_a234_31f8c9e364e4row1_col0\" class=\"data row1 col0\" >0.442</td>\n",
       "                        <td id=\"T_119bf8f8_8cc3_11ec_a234_31f8c9e364e4row1_col1\" class=\"data row1 col1\" >0.497</td>\n",
       "                        <td id=\"T_119bf8f8_8cc3_11ec_a234_31f8c9e364e4row1_col2\" class=\"data row1 col2\" >0.002</td>\n",
       "            </tr>\n",
       "    </tbody></table>"
      ],
      "text/plain": [
       "<pandas.io.formats.style.Styler at 0x7f79206ed460>"
      ]
     },
     "execution_count": 6,
     "metadata": {},
     "output_type": "execute_result"
    }
   ],
   "source": [
    "tasas_conversion=retention_1.groupby('version')['retention_1']\n",
    "\n",
    "std=lambda x: np.std(x, ddof=0)             # std poblacional\n",
    "error_std=lambda x: stats.sem(x, ddof=0)    # error estandard (std/sqrt(n))\n",
    "\n",
    "tasas_conversion=tasas_conversion.agg([np.mean, std, error_std])\n",
    "\n",
    "tasas_conversion.columns=['conv_rate', 'std', 'error_std']\n",
    "\n",
    "tasas_conversion.style.format('{:.3f}')"
   ]
  },
  {
   "cell_type": "code",
   "execution_count": 7,
   "metadata": {},
   "outputs": [
    {
     "data": {
      "image/png": "[encoded data removed]",
      "text/plain": [
       "<Figure size 576x432 with 1 Axes>"
      ]
     },
     "metadata": {
      "needs_background": "light"
     },
     "output_type": "display_data"
    }
   ],
   "source": [
    "plt.figure(figsize=(8,6))\n",
    "\n",
    "sns.barplot(x=retention_1['version'], \n",
    "            y=retention_1['retention_1'], \n",
    "            ci=95 # intervalo de confianza (con el error estandard)\n",
    "           )\n",
    "\n",
    "#plt.ylim(0, 0.17)\n",
    "plt.title('Tasa de conversión por grupo')\n",
    "plt.xlabel('Grupo')\n",
    "plt.ylabel('Convertido (proporción)');"
   ]
  },
  {
   "cell_type": "code",
   "execution_count": 8,
   "metadata": {},
   "outputs": [
    {
     "data": {
      "text/plain": [
       "(1.7840862247974725, 0.07440965529691913)"
      ]
     },
     "execution_count": 8,
     "metadata": {},
     "output_type": "execute_result"
    }
   ],
   "source": [
    "control_res=retention_1[retention_1.version=='gate_30']['retention_1']\n",
    "tratamiento_res=retention_1[retention_1.version=='gate_40']['retention_1']\n",
    "n_con=control_res.count()   # cuenta de elementos por grupo, ie, conversiones\n",
    "n_trat=tratamiento_res.count()\n",
    "\n",
    "conversiones=[control_res.sum(), tratamiento_res.sum()]  # conversiones por grupo\n",
    "\n",
    "observaciones=[n_con, n_trat] # cuenta N de cada grupo\n",
    "\n",
    "z_score, p_value = proportions_ztest(conversiones, nobs=observaciones)\n",
    "\n",
    "z_score, p_value\n"
   ]
  },
  {
   "cell_type": "code",
   "execution_count": 9,
   "metadata": {},
   "outputs": [
    {
     "name": "stdout",
     "output_type": "stream",
     "text": [
      "Gate 30 [0.44357771693415227, 0.4527981219920222]\n",
      "Gate 40 [0.4377186834721228, 0.44684681587936875]\n"
     ]
    }
   ],
   "source": [
    "(gate_30_a, gate_40_a), (gate_30_b, gate_40_b) = proportion_confint(conversiones, \n",
    "                                                                           nobs=observaciones,\n",
    "                                                                           alpha=0.05)\n",
    "\n",
    "# se definen las dos tuplas de salida del confint\n",
    "\n",
    "print('Gate 30', [gate_30_a, gate_30_b])\n",
    "print('Gate 40', [gate_40_a, gate_40_b])"
   ]
  },
  {
   "cell_type": "markdown",
   "metadata": {},
   "source": [
    "# testeo para retention_7\n",
    "\n"
   ]
  },
  {
   "cell_type": "code",
   "execution_count": 10,
   "metadata": {},
   "outputs": [
    {
     "data": {
      "text/html": [
       "<style  type=\"text/css\" >\n",
       "</style><table id=\"T_12416ed2_8cc3_11ec_a234_31f8c9e364e4\" ><thead>    <tr>        <th class=\"blank level0\" ></th>        <th class=\"col_heading level0 col0\" >conv_rate</th>        <th class=\"col_heading level0 col1\" >std</th>        <th class=\"col_heading level0 col2\" >error_std</th>    </tr>    <tr>        <th class=\"index_name level0\" >version</th>        <th class=\"blank\" ></th>        <th class=\"blank\" ></th>        <th class=\"blank\" ></th>    </tr></thead><tbody>\n",
       "                <tr>\n",
       "                        <th id=\"T_12416ed2_8cc3_11ec_a234_31f8c9e364e4level0_row0\" class=\"row_heading level0 row0\" >gate_30</th>\n",
       "                        <td id=\"T_12416ed2_8cc3_11ec_a234_31f8c9e364e4row0_col0\" class=\"data row0 col0\" >0.190</td>\n",
       "                        <td id=\"T_12416ed2_8cc3_11ec_a234_31f8c9e364e4row0_col1\" class=\"data row0 col1\" >0.392</td>\n",
       "                        <td id=\"T_12416ed2_8cc3_11ec_a234_31f8c9e364e4row0_col2\" class=\"data row0 col2\" >0.002</td>\n",
       "            </tr>\n",
       "            <tr>\n",
       "                        <th id=\"T_12416ed2_8cc3_11ec_a234_31f8c9e364e4level0_row1\" class=\"row_heading level0 row1\" >gate_40</th>\n",
       "                        <td id=\"T_12416ed2_8cc3_11ec_a234_31f8c9e364e4row1_col0\" class=\"data row1 col0\" >0.182</td>\n",
       "                        <td id=\"T_12416ed2_8cc3_11ec_a234_31f8c9e364e4row1_col1\" class=\"data row1 col1\" >0.386</td>\n",
       "                        <td id=\"T_12416ed2_8cc3_11ec_a234_31f8c9e364e4row1_col2\" class=\"data row1 col2\" >0.002</td>\n",
       "            </tr>\n",
       "    </tbody></table>"
      ],
      "text/plain": [
       "<pandas.io.formats.style.Styler at 0x7f78f2517a30>"
      ]
     },
     "execution_count": 10,
     "metadata": {},
     "output_type": "execute_result"
    }
   ],
   "source": [
    "control_7=retention_7[retention_7.version=='gate_30']\n",
    "\n",
    "tratamiento_7=retention_7[retention_7.version=='gate_40']\n",
    "tasas_conversion_7=retention_7.groupby('version')['retention_7']\n",
    "\n",
    "std=lambda x: np.std(x, ddof=0)             # std poblacional\n",
    "error_std=lambda x: stats.sem(x, ddof=0)    # error estandard (std/sqrt(n))\n",
    "\n",
    "tasas_conversion_7=tasas_conversion_7.agg([np.mean, std, error_std])\n",
    "\n",
    "tasas_conversion_7.columns=['conv_rate', 'std', 'error_std']\n",
    "\n",
    "tasas_conversion_7.style.format('{:.3f}')"
   ]
  },
  {
   "cell_type": "code",
   "execution_count": 11,
   "metadata": {
    "scrolled": true
   },
   "outputs": [
    {
     "data": {
      "image/png": "[encoded data removed]",
      "text/plain": [
       "<Figure size 576x432 with 1 Axes>"
      ]
     },
     "metadata": {
      "needs_background": "light"
     },
     "output_type": "display_data"
    }
   ],
   "source": [
    "plt.figure(figsize=(8,6))\n",
    "\n",
    "sns.barplot(x=retention_1['version'], \n",
    "            y=retention_1['retention_1'], \n",
    "            ci=95 # intervalo de confianza (con el error estandard)\n",
    "           )\n",
    "\n",
    "#plt.ylim(0, 0.17)\n",
    "plt.title('Tasa de conversión por grupo')\n",
    "plt.xlabel('Grupo')\n",
    "plt.ylabel('Convertido (proporción)');"
   ]
  },
  {
   "cell_type": "code",
   "execution_count": 12,
   "metadata": {},
   "outputs": [
    {
     "data": {
      "text/plain": [
       "(3.164358912748191, 0.001554249975614329)"
      ]
     },
     "execution_count": 12,
     "metadata": {},
     "output_type": "execute_result"
    }
   ],
   "source": [
    "control_res=retention_7[retention_7.version=='gate_30']['retention_7']\n",
    "tratamiento_res=retention_7[retention_7.version=='gate_40']['retention_7']\n",
    "n_con=control_res.count()   # cuenta de elementos por grupo, ie, conversiones\n",
    "n_trat=tratamiento_res.count()\n",
    "\n",
    "conversiones=[control_res.sum(), tratamiento_res.sum()]  # conversiones por grupo\n",
    "\n",
    "observaciones=[n_con, n_trat] # cuenta N de cada grupo\n",
    "\n",
    "z_score, p_value = proportions_ztest(conversiones, nobs=observaciones)\n",
    "\n",
    "z_score, p_value"
   ]
  },
  {
   "cell_type": "markdown",
   "metadata": {},
   "source": [
    "Con los Pvalue obtenidos en las conversiones a 1 días y 7 días, la diferencia de las conversiones\n",
    "a 1 días no es significativa, sin embargo, a los 7 días sí podemos decir que hay diferencia y las\n",
    "conversiones son mayores en la puerta 40."
   ]
  }
 ],
 "metadata": {
  "finalized": {
   "timestamp": 1642857010293,
   "trusted": true
  },
  "kernelspec": {
   "display_name": "ironhack",
   "language": "python",
   "name": "ironhack"
  },
  "language_info": {
   "codemirror_mode": {
    "name": "ipython",
    "version": 3
   },
   "file_extension": ".py",
   "mimetype": "text/x-python",
   "name": "python",
   "nbconvert_exporter": "python",
   "pygments_lexer": "ipython3",
   "version": "3.8.5"
  },
  "toc": {
   "base_numbering": 1,
   "nav_menu": {},
   "number_sections": true,
   "sideBar": true,
   "skip_h1_title": false,
   "title_cell": "Table of Contents",
   "title_sidebar": "Contents",
   "toc_cell": true,
   "toc_position": {},
   "toc_section_display": true,
   "toc_window_display": false
  },
  "varInspector": {
   "cols": {
    "lenName": 16,
    "lenType": 16,
    "lenVar": 40
   },
   "kernels_config": {
    "python": {
     "delete_cmd_postfix": "",
     "delete_cmd_prefix": "del ",
     "library": "var_list.py",
     "varRefreshCmd": "print(var_dic_list())"
    },
    "r": {
     "delete_cmd_postfix": ") ",
     "delete_cmd_prefix": "rm(",
     "library": "var_list.r",
     "varRefreshCmd": "cat(var_dic_list()) "
    }
   },
   "types_to_exclude": [
    "module",
    "function",
    "builtin_function_or_method",
    "instance",
    "_Feature"
   ],
   "window_display": false
  }
 },
 "nbformat": 4,
 "nbformat_minor": 5
}
