{
 "cells": [
  {
   "cell_type": "markdown",
   "id": "angry-pearl",
   "metadata": {
    "toc": true
   },
   "source": [
    "<h1>Table of Contents<span class=\"tocSkip\"></span></h1>\n",
    "<div class=\"toc\"><ul class=\"toc-item\"><li><span><a href=\"#AB-Testing\" data-toc-modified-id=\"AB-Testing-1\"><span class=\"toc-item-num\">1&nbsp;&nbsp;</span>AB-Testing</a></span></li></ul></div>"
   ]
  },
  {
   "cell_type": "markdown",
   "id": "c92ba6e0",
   "metadata": {},
   "source": [
    "# AB-Testing\n",
    "\n",
    "![cats](images/cats.jpeg)\n",
    "\n",
    "\n",
    "Imaginad que somos los cientificos de datos de la empresa de videojuegos Tactile Entertainment. Los desarrolladores del juego Cookie Cats pretenden introducir un cambio en el juego para aumentar la retencion de los jugadores. En cierto nivel del juego los jugadores se encuentran una puerta que les obliga a esperar o a pagar la app. Actualmente la puerta se encuentra en nivel 30 y se pretende pasar al nivel 40, para comprobar la retencion a 1 y 7 dias. Antes de realizar el cambio definitivo en el juego se raliza un test AB.\n",
    "\n",
    "Los datos estan alojados en `data/cookie_cats.csv`. Nuestro grupo de control sera la version actual `gate_30` y el grupo de tratamiento sera la version `gate_40`. Debemos realizar el test para 1 dia de retencion `retention_1` y para 7 dias `retention_7`."
   ]
  },
  {
   "cell_type": "code",
   "execution_count": 28,
   "id": "ac3b2f52",
   "metadata": {},
   "outputs": [],
   "source": [
    "# librerias\n",
    "\n",
    "import pandas as pd\n",
    "import numpy as np\n",
    "\n",
    "from statsmodels.stats.proportion import proportions_ztest, proportion_confint\n",
    "from scipy.stats import norm, sem\n",
    "\n",
    "import statsmodels.stats.api as sms\n",
    "\n",
    "import pylab as plt\n",
    "from bayes import *\n",
    "%matplotlib inline"
   ]
  },
  {
   "cell_type": "code",
   "execution_count": 29,
   "id": "7fe515c2",
   "metadata": {},
   "outputs": [
    {
     "data": {
      "text/plain": [
       "(90189, 5)"
      ]
     },
     "execution_count": 29,
     "metadata": {},
     "output_type": "execute_result"
    }
   ],
   "source": [
    "# datos\n",
    "df = pd.read_csv('data/cookie_cats.csv')\n",
    "df.shape"
   ]
  },
  {
   "cell_type": "code",
   "execution_count": 30,
   "id": "735946ac",
   "metadata": {},
   "outputs": [
    {
     "name": "stdout",
     "output_type": "stream",
     "text": [
      "<class 'pandas.core.frame.DataFrame'>\n",
      "RangeIndex: 90189 entries, 0 to 90188\n",
      "Data columns (total 5 columns):\n",
      " #   Column          Non-Null Count  Dtype \n",
      "---  ------          --------------  ----- \n",
      " 0   userid          90189 non-null  int64 \n",
      " 1   version         90189 non-null  object\n",
      " 2   sum_gamerounds  90189 non-null  int64 \n",
      " 3   retention_1     90189 non-null  bool  \n",
      " 4   retention_7     90189 non-null  bool  \n",
      "dtypes: bool(2), int64(2), object(1)\n",
      "memory usage: 2.2+ MB\n"
     ]
    }
   ],
   "source": [
    "df.info()"
   ]
  },
  {
   "cell_type": "code",
   "execution_count": 51,
   "id": "3d733324",
   "metadata": {},
   "outputs": [
    {
     "data": {
      "text/html": [
       "<div>\n",
       "<style scoped>\n",
       "    .dataframe tbody tr th:only-of-type {\n",
       "        vertical-align: middle;\n",
       "    }\n",
       "\n",
       "    .dataframe tbody tr th {\n",
       "        vertical-align: top;\n",
       "    }\n",
       "\n",
       "    .dataframe thead th {\n",
       "        text-align: right;\n",
       "    }\n",
       "</style>\n",
       "<table border=\"1\" class=\"dataframe\">\n",
       "  <thead>\n",
       "    <tr style=\"text-align: right;\">\n",
       "      <th>retention_1</th>\n",
       "      <th>False</th>\n",
       "      <th>True</th>\n",
       "    </tr>\n",
       "    <tr>\n",
       "      <th>version</th>\n",
       "      <th></th>\n",
       "      <th></th>\n",
       "    </tr>\n",
       "  </thead>\n",
       "  <tbody>\n",
       "    <tr>\n",
       "      <th>gate_30</th>\n",
       "      <td>24666</td>\n",
       "      <td>20034</td>\n",
       "    </tr>\n",
       "    <tr>\n",
       "      <th>gate_40</th>\n",
       "      <td>25370</td>\n",
       "      <td>20119</td>\n",
       "    </tr>\n",
       "  </tbody>\n",
       "</table>\n",
       "</div>"
      ],
      "text/plain": [
       "retention_1  False   True\n",
       "version                  \n",
       "gate_30      24666  20034\n",
       "gate_40      25370  20119"
      ]
     },
     "execution_count": 51,
     "metadata": {},
     "output_type": "execute_result"
    }
   ],
   "source": [
    "matrix1 = pd.crosstab(df.version, df.retention_1)\n",
    "matrix1"
   ]
  },
  {
   "cell_type": "code",
   "execution_count": 70,
   "id": "e127aa5d",
   "metadata": {},
   "outputs": [
    {
     "data": {
      "text/plain": [
       "(0.5518120805369128, 0.5577172503242542, 0.010701414477181674)"
      ]
     },
     "execution_count": 70,
     "metadata": {},
     "output_type": "execute_result"
    }
   ],
   "source": [
    "ret301 = 24666/(24666+20034)\n",
    "ret401 = 25370/(25370+20119)\n",
    "ret301, ret401, (ret401-ret301)/ret301\n"
   ]
  },
  {
   "cell_type": "code",
   "execution_count": 32,
   "id": "a8cae0e3",
   "metadata": {},
   "outputs": [
    {
     "data": {
      "text/html": [
       "<div>\n",
       "<style scoped>\n",
       "    .dataframe tbody tr th:only-of-type {\n",
       "        vertical-align: middle;\n",
       "    }\n",
       "\n",
       "    .dataframe tbody tr th {\n",
       "        vertical-align: top;\n",
       "    }\n",
       "\n",
       "    .dataframe thead th {\n",
       "        text-align: right;\n",
       "    }\n",
       "</style>\n",
       "<table border=\"1\" class=\"dataframe\">\n",
       "  <thead>\n",
       "    <tr style=\"text-align: right;\">\n",
       "      <th>retention_7</th>\n",
       "      <th>False</th>\n",
       "      <th>True</th>\n",
       "    </tr>\n",
       "    <tr>\n",
       "      <th>version</th>\n",
       "      <th></th>\n",
       "      <th></th>\n",
       "    </tr>\n",
       "  </thead>\n",
       "  <tbody>\n",
       "    <tr>\n",
       "      <th>gate_30</th>\n",
       "      <td>36198</td>\n",
       "      <td>8502</td>\n",
       "    </tr>\n",
       "    <tr>\n",
       "      <th>gate_40</th>\n",
       "      <td>37210</td>\n",
       "      <td>8279</td>\n",
       "    </tr>\n",
       "  </tbody>\n",
       "</table>\n",
       "</div>"
      ],
      "text/plain": [
       "retention_7  False  True\n",
       "version                 \n",
       "gate_30      36198  8502\n",
       "gate_40      37210  8279"
      ]
     },
     "execution_count": 32,
     "metadata": {},
     "output_type": "execute_result"
    }
   ],
   "source": [
    "matrix7 = pd.crosstab(df.version, df.retention_7)\n",
    "matrix7"
   ]
  },
  {
   "cell_type": "code",
   "execution_count": 85,
   "id": "84174540",
   "metadata": {},
   "outputs": [
    {
     "data": {
      "text/plain": [
       "(0.23487485496436267, 0.22249395323837678)"
      ]
     },
     "execution_count": 85,
     "metadata": {},
     "output_type": "execute_result"
    }
   ],
   "source": [
    "matrix7[1][0]/matrix7[0][0], matrix7[1][1]/matrix7[0][1]\n"
   ]
  },
  {
   "cell_type": "code",
   "execution_count": 33,
   "id": "f2e6147a",
   "metadata": {},
   "outputs": [],
   "source": [
    "# En el enunciado ya se nos indica como grupod de control el grupo gate_30 y el otro como grupo de tratamiento, \n",
    "# vamos a crearnos cuantro series con cada uno de los grupos (control/tratamiento) y con los dos estudios que deseamos realizar\n",
    "\n",
    "control_res1=df[df.version=='gate_30']['retention_1']\n",
    "tratamiento_res1=df[df.version=='gate_40']['retention_1']\n",
    "\n",
    "control_res7=df[df.version=='gate_30']['retention_7']\n",
    "tratamiento_res7=df[df.version=='gate_40']['retention_7']\n",
    "\n"
   ]
  },
  {
   "cell_type": "code",
   "execution_count": 119,
   "id": "374ce6f5",
   "metadata": {},
   "outputs": [],
   "source": [
    "# Para poder reutilizar codigo, voy a crearme una funcion a la que le entren las 2 series (control/tratamiento)\n",
    "#  y devuelva z-score y pvalue,\n",
    "def proportion_test(cont, trat):\n",
    "    \"\"\" This function is meant to study a set of 2 Series, and it an it carries outan AB test with them,\n",
    "    INPUTS: --------------------------------------------------------------------------------\n",
    "            - cont --> Control Serie\n",
    "            - trat --> Treatment Serie\n",
    "    OUTPUTS:--------------------------------------------------------------------------------\n",
    "            - (z_score, p_value)\n",
    "    \"\"\"\n",
    "    conversiones=[cont.sum(), trat.sum()]  # conversiones por grupo\n",
    "\n",
    "    z_score, p_value = proportions_ztest(conversiones, nobs=[cont.count(), trat.count()])\n",
    "\n",
    "    return z_score, p_value\n",
    "\n",
    "z1_score, p1_value = proportion_test(control_res1, tratamiento_res1)\n"
   ]
  },
  {
   "cell_type": "code",
   "execution_count": 37,
   "id": "f00e2ac8",
   "metadata": {},
   "outputs": [
    {
     "data": {
      "text/plain": [
       "(3.164358912748191, 0.001554249975614329)"
      ]
     },
     "execution_count": 37,
     "metadata": {},
     "output_type": "execute_result"
    }
   ],
   "source": [
    "# Ahora hacerlo para la retencion a 7 dias solo requiere una linia de codigo mas,\n",
    "proportion_test(control_res7, tratamiento_res7)"
   ]
  },
  {
   "cell_type": "code",
   "execution_count": 87,
   "id": "38f422cb",
   "metadata": {},
   "outputs": [
    {
     "data": {
      "text/plain": [
       "' En este caso el pvalue disminuye a un 0.0016 lo que indica que la probabilidad de que el cambio observado se deba a la aleatoriedad\\n    es despreciable, el cambio observado se debe con mucha probabilidad al cambio aplicado. Lo que pasa esque vemos una disminucion en la retencion\\n     a los 7 dias. Es decir, la fraccion de gente que sigue jugando a los 7 dias es menor como conseqüencia de los cambios aplicados. '"
      ]
     },
     "execution_count": 87,
     "metadata": {},
     "output_type": "execute_result"
    }
   ],
   "source": [
    "# Con el estudio que hemos realizado hasta ahora ya podemos sacar algunas conclusiones\n",
    "# Vamos a comentar primero los resultados para la retencion a 1 dia,\n",
    "\n",
    "\"\"\" Si vemos una cierta tendencia al aumento en cuanto a la retencion al dia de descargarse la aplicación,\n",
    " Aun asi el pvalue es ligeramente superior a 0.05, lo que nos indica un rango de incertidumbre en cuanto a la mejoria mayor a un 5% \n",
    " (alrededor de un 7.5%). Es decir, vemos una mejoria en la retencion de alrededor de un 1% y podemos afirmar con una seguridad del 93% que \n",
    " esta mejoria se debe al cambio realizado y no es aleatorio.\"\"\"\n",
    "\n",
    " # En el segundo resultado,\n",
    "\"\"\" En este caso el pvalue disminuye a un 0.0016 lo que indica que la probabilidad de que el cambio observado se deba a la aleatoriedad\n",
    "    es despreciable, el cambio observado se debe con mucha probabilidad al cambio aplicado. Lo que pasa esque vemos una disminucion en la retencion\n",
    "     a los 7 dias. Es decir, la fraccion de gente que sigue jugando a los 7 dias es menor como conseqüencia de los cambios aplicados. \"\"\"\n"
   ]
  },
  {
   "cell_type": "code",
   "execution_count": 98,
   "id": "5b90c429",
   "metadata": {},
   "outputs": [
    {
     "name": "stdout",
     "output_type": "stream",
     "text": [
      "(20448, 5)\n",
      "10454 9994\n"
     ]
    }
   ],
   "source": [
    "# A partir de aqui podemos jugar un poco con los datos, y hacer otros estudios\n",
    "# por ejemplo, vamos a targetear a la gente que ha jugado entre 20 y 60 partidas,\n",
    "df_subgrup = df[(df.sum_gamerounds>20)&(df.sum_gamerounds<60)]\n",
    "print(df_subgrup.shape) # Vemos que aunque se reduzca muchisimo nuestra muestra sigue siendo un grupo considerable\n",
    "print(df_subgrup.version[df_subgrup.version == 'gate_30'].count(),df_subgrup.version[df_subgrup.version == 'gate_40'].count())\n",
    "# vemos tambien que las muestras estudiadas siguen estando repartidas con porciones parecidas. \n"
   ]
  },
  {
   "cell_type": "code",
   "execution_count": 106,
   "id": "a048a711",
   "metadata": {},
   "outputs": [
    {
     "name": "stdout",
     "output_type": "stream",
     "text": [
      "(0.34121252681544784, 0.7329435935358919) ; (3.076830228784151, 0.0020921442040044455)\n",
      "0.17859192653529748 0.16239743846307786\n"
     ]
    }
   ],
   "source": [
    "\n",
    "# Vamos a repetir el estudio con este grupo,\n",
    "\n",
    "control_res1=df_subgrup[df_subgrup.version=='gate_30']['retention_1']\n",
    "tratamiento_res1=df_subgrup[df_subgrup.version=='gate_40']['retention_1']\n",
    "\n",
    "control_res7=df_subgrup[df_subgrup.version=='gate_30']['retention_7']\n",
    "tratamiento_res7=df_subgrup[df_subgrup.version=='gate_40']['retention_7']\n",
    "\n",
    "print( proportion_test(control_res1, tratamiento_res1),';',  proportion_test(control_res7, tratamiento_res7))\n",
    "ret730 = df_subgrup[df_subgrup.version=='gate_30']['retention_7'].sum()/df_subgrup[df_subgrup.version=='gate_30']['retention_7'].count()\n",
    "ret740 = df_subgrup[df_subgrup.version=='gate_40']['retention_7'].sum()/df_subgrup[df_subgrup.version=='gate_40']['retention_7'].count()\n",
    "print(ret730, ret740)"
   ]
  },
  {
   "cell_type": "code",
   "execution_count": 108,
   "id": "cooked-magnet",
   "metadata": {},
   "outputs": [],
   "source": [
    "# Voy a generar una funcion que nos estudio el proceso en el rango que le indiquemos,\n",
    "def rang_ABtesting_CatGame(a=0,b=max(df.sum_gamerounds)):\n",
    "    df_subgrup = df[(df.sum_gamerounds>a)&(df.sum_gamerounds<b)]\n",
    "    control_res1=df_subgrup[df_subgrup.version=='gate_30']['retention_1']\n",
    "    tratamiento_res1=df_subgrup[df_subgrup.version=='gate_40']['retention_1']\n",
    "\n",
    "    control_res7=df_subgrup[df_subgrup.version=='gate_30']['retention_7']\n",
    "    tratamiento_res7=df_subgrup[df_subgrup.version=='gate_40']['retention_7']\n",
    "    return proportion_test(control_res1, tratamiento_res1),  proportion_test(control_res7, tratamiento_res7)"
   ]
  },
  {
   "cell_type": "code",
   "execution_count": 118,
   "id": "4d268f63",
   "metadata": {},
   "outputs": [
    {
     "data": {
      "text/plain": [
       "((1.5805887864476007, 0.11397209143329877),\n",
       " (3.006086884574141, 0.002646333709773733))"
      ]
     },
     "execution_count": 118,
     "metadata": {},
     "output_type": "execute_result"
    }
   ],
   "source": [
    "rang_ABtesting_CatGame()\n"
   ]
  },
  {
   "cell_type": "code",
   "execution_count": 113,
   "id": "8572711c",
   "metadata": {},
   "outputs": [
    {
     "data": {
      "text/plain": [
       "49854"
      ]
     },
     "execution_count": 113,
     "metadata": {},
     "output_type": "execute_result"
    }
   ],
   "source": []
  },
  {
   "cell_type": "code",
   "execution_count": null,
   "id": "91d91705",
   "metadata": {},
   "outputs": [],
   "source": []
  }
 ],
 "metadata": {
  "finalized": {
   "timestamp": 1642857010293,
   "trusted": true
  },
  "interpreter": {
   "hash": "d00a1931e609772884d4e4263bd83cd526fe20ad88d0f2499e0ed4fd2f889d0e"
  },
  "kernelspec": {
   "display_name": "ironhack",
   "language": "python",
   "name": "python3"
  },
  "language_info": {
   "codemirror_mode": {
    "name": "ipython",
    "version": 3
   },
   "file_extension": ".py",
   "mimetype": "text/x-python",
   "name": "python",
   "nbconvert_exporter": "python",
   "pygments_lexer": "ipython3",
   "version": "3.8.12"
  },
  "toc": {
   "base_numbering": 1,
   "nav_menu": {},
   "number_sections": true,
   "sideBar": true,
   "skip_h1_title": false,
   "title_cell": "Table of Contents",
   "title_sidebar": "Contents",
   "toc_cell": true,
   "toc_position": {},
   "toc_section_display": true,
   "toc_window_display": false
  },
  "varInspector": {
   "cols": {
    "lenName": 16,
    "lenType": 16,
    "lenVar": 40
   },
   "kernels_config": {
    "python": {
     "delete_cmd_postfix": "",
     "delete_cmd_prefix": "del ",
     "library": "var_list.py",
     "varRefreshCmd": "print(var_dic_list())"
    },
    "r": {
     "delete_cmd_postfix": ") ",
     "delete_cmd_prefix": "rm(",
     "library": "var_list.r",
     "varRefreshCmd": "cat(var_dic_list()) "
    }
   },
   "types_to_exclude": [
    "module",
    "function",
    "builtin_function_or_method",
    "instance",
    "_Feature"
   ],
   "window_display": false
  }
 },
 "nbformat": 4,
 "nbformat_minor": 5
}
